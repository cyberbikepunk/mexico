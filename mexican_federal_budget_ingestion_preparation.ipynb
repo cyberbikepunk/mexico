{
 "cells": [
  {
   "cell_type": "markdown",
   "metadata": {},
   "source": [
    "# Mexican Federal Budget multi-year ingestion "
   ]
  },
  {
   "cell_type": "code",
   "execution_count": 156,
   "metadata": {
    "collapsed": true
   },
   "outputs": [],
   "source": [
    "from pandas import read_csv"
   ]
  },
  {
   "cell_type": "markdown",
   "metadata": {},
   "source": [
    "## Loading\n",
    "Import one file to check it out"
   ]
  },
  {
   "cell_type": "code",
   "execution_count": 157,
   "metadata": {
    "collapsed": false
   },
   "outputs": [],
   "source": [
    "mx_2010 = read_csv('Cuenta_Publica_2010.csv', encoding='iso-8859-1')"
   ]
  },
  {
   "cell_type": "code",
   "execution_count": 158,
   "metadata": {
    "collapsed": false
   },
   "outputs": [
    {
     "name": "stdout",
     "output_type": "stream",
     "text": [
      "<class 'pandas.core.frame.DataFrame'>\n",
      "RangeIndex: 129014 entries, 0 to 129013\n",
      "Data columns (total 25 columns):\n",
      "Ciclo                                                      129014 non-null int64\n",
      "Ramo                                                       129014 non-null int64\n",
      "Descripción de Ramo                                        129014 non-null object\n",
      "Unidad Responsable                                         129014 non-null object\n",
      "Descripción de Unidad Responsable                          129014 non-null object\n",
      "Finalidad                                                  129014 non-null int64\n",
      "Descripción de Finalidad                                   129014 non-null object\n",
      "Función                                                    129014 non-null int64\n",
      "Descripción de Función                                     129014 non-null object\n",
      "Subfunción                                                 129014 non-null int64\n",
      "Descripción de Subfunción                                  129014 non-null object\n",
      "Actividad Institucional                                    129014 non-null int64\n",
      "Descripción de la Actividad Institucional                  129014 non-null object\n",
      "Modalidad del Programa presupuestario                      129014 non-null object\n",
      "Descripción de la modalidad del programa presupuestario    129014 non-null object\n",
      "Programa Presupuestario                                    129014 non-null int64\n",
      "Descripción de Programa Presupuestario                     129014 non-null object\n",
      "Objeto del Gasto                                           129014 non-null int64\n",
      "Descripción de Objeto del Gasto                            129014 non-null object\n",
      "Tipo de Gasto                                              129014 non-null int64\n",
      "Descripción de Tipo de Gasto                               129014 non-null object\n",
      "Fuente de Financiamiento                                   129014 non-null int64\n",
      "Descripción de Fuente de Financiamiento                    129014 non-null object\n",
      "Aprobado                                                   129014 non-null object\n",
      "Ejercido                                                   129014 non-null object\n",
      "dtypes: int64(10), object(15)\n",
      "memory usage: 24.6+ MB\n"
     ]
    }
   ],
   "source": [
    "mx_2010.info()"
   ]
  },
  {
   "cell_type": "markdown",
   "metadata": {},
   "source": [
    "Okay all is good. Import allfiles."
   ]
  },
  {
   "cell_type": "code",
   "execution_count": 190,
   "metadata": {
    "collapsed": false
   },
   "outputs": [
    {
     "name": "stderr",
     "output_type": "stream",
     "text": [
      "/usr/local/lib/python3.5/dist-packages/IPython/core/interactiveshell.py:2705: DtypeWarning: Columns (3,25) have mixed types. Specify dtype option on import or set low_memory=False.\n",
      "  interactivity=interactivity, compiler=compiler, result=result)\n",
      "/usr/local/lib/python3.5/dist-packages/IPython/core/interactiveshell.py:2705: DtypeWarning: Columns (3,25,30) have mixed types. Specify dtype option on import or set low_memory=False.\n",
      "  interactivity=interactivity, compiler=compiler, result=result)\n"
     ]
    }
   ],
   "source": [
    "files = {\n",
    "    2010: 'Cuenta_Publica_2010.csv',\n",
    "    2011: 'Cuenta_Publica_2011.csv',\n",
    "    2012: 'Cuenta_Publica_2012.csv',\n",
    "    2013: 'Cuenta_Publica_2013_RA.csv',\n",
    "    2014: 'Cuenta_Publica_2014_RA.csv',\n",
    "    2015: 'Cuenta_Publica_2015_GF.csv',\n",
    "}\n",
    "for year, file in files.items():\n",
    "    cuenta_publica[year] = read_csv(file, encoding='iso-8859-1')"
   ]
  },
  {
   "cell_type": "markdown",
   "metadata": {},
   "source": [
    "## Type problems\n",
    "\n",
    "* 2014: columns (3, 25) \n",
    "* 2015: columns (3, 25, 30)\n",
    "\n"
   ]
  },
  {
   "cell_type": "code",
   "execution_count": 171,
   "metadata": {
    "collapsed": false
   },
   "outputs": [
    {
     "name": "stdout",
     "output_type": "stream",
     "text": [
      "Unidad Responsable\n",
      "Clave de cartera\n",
      "Adefas\n"
     ]
    }
   ],
   "source": [
    "print(cuenta_publica[2015].columns[3])\n",
    "print(cuenta_publica[2015].columns[25])\n",
    "print(cuenta_publica[2015].columns[30])"
   ]
  },
  {
   "cell_type": "code",
   "execution_count": 177,
   "metadata": {
    "collapsed": false
   },
   "outputs": [
    {
     "data": {
      "text/plain": [
       "B00    15431\n",
       "300    12764\n",
       "200     9582\n",
       "100     8693\n",
       "200     5911\n",
       "627     4159\n",
       "AYB     3528\n",
       "RHQ     3524\n",
       "100     3515\n",
       "635     3149\n",
       "640     3135\n",
       "644     3085\n",
       "650     2998\n",
       "110     2991\n",
       "D00     2908\n",
       "E00     2757\n",
       "LAT     2737\n",
       "G00     2673\n",
       "416     2501\n",
       "117     2412\n",
       "636     2305\n",
       "311     2272\n",
       "211     2191\n",
       "300     2021\n",
       "632     1914\n",
       "645     1826\n",
       "K00     1756\n",
       "115     1675\n",
       "NHK     1661\n",
       "312     1618\n",
       "Name: Unidad Responsable, dtype: int64"
      ]
     },
     "execution_count": 177,
     "metadata": {},
     "output_type": "execute_result"
    }
   ],
   "source": [
    "cuenta_publica[2015]['Unidad Responsable'].value_counts()[:30]"
   ]
  },
  {
   "cell_type": "code",
   "execution_count": 180,
   "metadata": {
    "collapsed": false
   },
   "outputs": [
    {
     "data": {
      "text/plain": [
       "0              159235\n",
       "0               37235\n",
       "11071170002       644\n",
       "14092100002       641\n",
       "14092110001       601\n",
       "14071170011       457\n",
       "14092100002       446\n",
       "14092110001       438\n",
       "14071170013       289\n",
       "0916B000243       154\n",
       "15071170001       152\n",
       "1216B000124       127\n",
       "1216B000128       122\n",
       "14071170012       101\n",
       "1216B000127        88\n",
       "1216B000122        82\n",
       "14067120004        81\n",
       "1316B000164        80\n",
       "12096300011        76\n",
       "14092100004        73\n",
       "14092100004        73\n",
       "10096440014        71\n",
       "1316B000165        71\n",
       "11096420007        70\n",
       "11096360009        69\n",
       "13096250003        65\n",
       "1420G000003        63\n",
       "0616B000034        55\n",
       "14312000008        54\n",
       "0816B000160        52\n",
       "Name: Clave de cartera, dtype: int64"
      ]
     },
     "execution_count": 180,
     "metadata": {},
     "output_type": "execute_result"
    }
   ],
   "source": [
    "cuenta_publica[2015]['Clave de cartera'].value_counts()[:30]"
   ]
  },
  {
   "cell_type": "code",
   "execution_count": 182,
   "metadata": {
    "collapsed": false
   },
   "outputs": [
    {
     "data": {
      "text/plain": [
       "0.00          217214\n",
       "0.0             9707\n",
       "72,996.69         26\n",
       "6.35              26\n",
       "2,440.00          23\n",
       "6,004.67          22\n",
       "28,260.09         20\n",
       "355.70            20\n",
       "16.00             19\n",
       "3,191.00          19\n",
       "5,323.00          18\n",
       "387.00            18\n",
       "3,571.00          18\n",
       "1,148.00          18\n",
       "11,017.00         18\n",
       "1,000.00          17\n",
       "9,286.00          17\n",
       "77,056.00         16\n",
       "420.00            16\n",
       "460.42            16\n",
       "2,000.00          15\n",
       "7,774.00          15\n",
       "1,500.00          14\n",
       "1,552.00          12\n",
       "988.00            12\n",
       "0.99              12\n",
       "429.00            12\n",
       "96,000.00         11\n",
       "1,711.00          11\n",
       "431,439.00        11\n",
       "Name: Adefas, dtype: int64"
      ]
     },
     "execution_count": 182,
     "metadata": {},
     "output_type": "execute_result"
    }
   ],
   "source": [
    "cuenta_publica[2015]['Adefas'].value_counts()[:30]"
   ]
  },
  {
   "cell_type": "markdown",
   "metadata": {},
   "source": [
    "Okay so nothing special, just use strings anyways. Reload with type casting:"
   ]
  },
  {
   "cell_type": "code",
   "execution_count": 191,
   "metadata": {
    "collapsed": false
   },
   "outputs": [],
   "source": [
    "casting = {\n",
    "    'Unidad Responsable': str,\n",
    "    'Clave de cartera': str,\n",
    "    'Adefas': str,\n",
    "}\n",
    "\n",
    "for year, file in files.items():\n",
    "    cuenta_publica[year] = read_csv(file, encoding='iso-8859-1', dtype=casting)"
   ]
  },
  {
   "cell_type": "markdown",
   "metadata": {},
   "source": [
    "Great.\n",
    "\n",
    "## Column consistency\n",
    "Check the column consistency against 2010."
   ]
  },
  {
   "cell_type": "code",
   "execution_count": 193,
   "metadata": {
    "collapsed": false
   },
   "outputs": [
    {
     "name": "stdout",
     "output_type": "stream",
     "text": [
      "2010 yes\n",
      "2011 yes\n",
      "2012 yes\n",
      "2013 yes\n",
      "2014 no\n",
      "2015 no\n"
     ]
    }
   ],
   "source": [
    "def are_columns_the_same(dataframes, reference):\n",
    "    for year, df in dataframes.items():\n",
    "        if not set(dataframes[reference].columns) - set(df.columns):\n",
    "            answer = 'yes'\n",
    "        else:\n",
    "            answer = 'no'\n",
    "        print(year, answer)\n",
    "        \n",
    "are_columns_the_same(cuenta_publica, 2010)"
   ]
  },
  {
   "cell_type": "markdown",
   "metadata": {},
   "source": [
    "What's the union of these columns?"
   ]
  },
  {
   "cell_type": "code",
   "execution_count": 194,
   "metadata": {
    "collapsed": false
   },
   "outputs": [
    {
     "data": {
      "text/plain": [
       "{'ADEFAS',\n",
       " 'Actividad Institucional',\n",
       " 'Adefas',\n",
       " 'Aprobado',\n",
       " 'Ciclo',\n",
       " 'Clave de cartera',\n",
       " 'Descripción de Finalidad',\n",
       " 'Descripción de Fuente de Financiamiento',\n",
       " 'Descripción de Función',\n",
       " 'Descripción de Grupo Funcional',\n",
       " 'Descripción de Objeto del Gasto',\n",
       " 'Descripción de Programa Presupuestario',\n",
       " 'Descripción de Ramo',\n",
       " 'Descripción de Subfunción',\n",
       " 'Descripción de Tipo de Gasto',\n",
       " 'Descripción de Unidad Responsable',\n",
       " 'Descripción de la Actividad Institucional',\n",
       " 'Descripción de la entidad federativa',\n",
       " 'Descripción de la modalidad del programa presupuestario',\n",
       " 'Devengado',\n",
       " 'Ejercicio',\n",
       " 'Ejercido',\n",
       " 'Entidad Federativa',\n",
       " 'Finalidad',\n",
       " 'Fuente de Financiamiento',\n",
       " 'Función',\n",
       " 'Grupo Funcional',\n",
       " 'Modalidad del Programa presupuestario',\n",
       " 'Modificado',\n",
       " 'Objeto del Gasto',\n",
       " 'Pagado',\n",
       " 'Programa Presupuestario',\n",
       " 'Ramo',\n",
       " 'Subfunción',\n",
       " 'Tipo de Gasto',\n",
       " 'Unidad Responsable',\n",
       " 'Unnamed: 25',\n",
       " 'Unnamed: 26',\n",
       " 'Unnamed: 27',\n",
       " 'Unnamed: 28',\n",
       " 'Unnamed: 29',\n",
       " 'Unnamed: 30',\n",
       " 'Unnamed: 31',\n",
       " 'Unnamed: 32',\n",
       " 'Unnamed: 33',\n",
       " 'Unnamed: 34',\n",
       " 'Unnamed: 35',\n",
       " 'Unnamed: 36',\n",
       " 'Unnamed: 37',\n",
       " 'Unnamed: 38',\n",
       " 'Unnamed: 39',\n",
       " 'Unnamed: 40',\n",
       " 'Unnamed: 41'}"
      ]
     },
     "execution_count": 194,
     "metadata": {},
     "output_type": "execute_result"
    }
   ],
   "source": [
    "def union_of_columns():\n",
    "    union = set()\n",
    "    for year in range(2010, 2016):\n",
    "        union = union | set(cuenta_publica[year].columns)\n",
    "    return union\n",
    "\n",
    "union_of_columns()"
   ]
  },
  {
   "cell_type": "markdown",
   "metadata": {},
   "source": [
    "## ADEFAS vs Adefas"
   ]
  },
  {
   "cell_type": "code",
   "execution_count": 196,
   "metadata": {
    "collapsed": false,
    "scrolled": true
   },
   "outputs": [
    {
     "name": "stdout",
     "output_type": "stream",
     "text": [
      "2010 False\n",
      "2011 False\n",
      "2012 False\n",
      "2013 False\n",
      "2014 True\n",
      "2015 False\n"
     ]
    }
   ],
   "source": [
    "for year in range(2010, 2016):\n",
    "    print(year, 'ADEFAS' in cuenta_publica[year].columns)"
   ]
  },
  {
   "cell_type": "code",
   "execution_count": 197,
   "metadata": {
    "collapsed": false,
    "scrolled": true
   },
   "outputs": [
    {
     "name": "stdout",
     "output_type": "stream",
     "text": [
      "2010 False\n",
      "2011 False\n",
      "2012 False\n",
      "2013 False\n",
      "2014 False\n",
      "2015 True\n"
     ]
    }
   ],
   "source": [
    "for year in range(2010, 2016):\n",
    "    print(year, 'Adefas' in cuenta_publica[year].columns)"
   ]
  },
  {
   "cell_type": "code",
   "execution_count": 200,
   "metadata": {
    "collapsed": false,
    "scrolled": true
   },
   "outputs": [
    {
     "name": "stdout",
     "output_type": "stream",
     "text": [
      "2010 False\n",
      "2011 False\n",
      "2012 False\n",
      "2013 False\n",
      "2014 True\n",
      "2015 True\n"
     ]
    }
   ],
   "source": [
    "for year in range(2010, 2016):\n",
    "    print(year, 'adefas' in map(lambda x: x.lower(), cuenta_publica[year].columns))"
   ]
  },
  {
   "cell_type": "markdown",
   "metadata": {},
   "source": [
    "Okay so basically only 2014 and 2015 have the Adefas column and there's only a small inconsistency about caps. Let's fix that."
   ]
  },
  {
   "cell_type": "code",
   "execution_count": 203,
   "metadata": {
    "collapsed": false,
    "scrolled": true
   },
   "outputs": [
    {
     "data": {
      "text/plain": [
       "set()"
      ]
     },
     "execution_count": 203,
     "metadata": {},
     "output_type": "execute_result"
    }
   ],
   "source": [
    "cuenta_publica[2014].rename(columns={'ADEFAS': 'Adefas'}, inplace=True)\n",
    "set(cuenta_publica[2014].columns) - set(cuenta_publica[2015].columns)"
   ]
  },
  {
   "cell_type": "markdown",
   "metadata": {},
   "source": [
    "Fixed. Now unnammed columns..."
   ]
  },
  {
   "cell_type": "markdown",
   "metadata": {},
   "source": [
    "## Unnammed columns\n",
    "Where are these unamed columns coming from?"
   ]
  },
  {
   "cell_type": "code",
   "execution_count": 205,
   "metadata": {
    "collapsed": false
   },
   "outputs": [
    {
     "name": "stdout",
     "output_type": "stream",
     "text": [
      "2010 []\n",
      "2011 ['Unnamed: 25', 'Unnamed: 26', 'Unnamed: 27', 'Unnamed: 28', 'Unnamed: 29', 'Unnamed: 30', 'Unnamed: 31', 'Unnamed: 32', 'Unnamed: 33', 'Unnamed: 34', 'Unnamed: 35', 'Unnamed: 36', 'Unnamed: 37', 'Unnamed: 38', 'Unnamed: 39', 'Unnamed: 40', 'Unnamed: 41']\n",
      "2012 []\n",
      "2013 []\n",
      "2014 []\n",
      "2015 []\n"
     ]
    }
   ],
   "source": [
    "for year in range(2010, 2016):\n",
    "    unamned_columns = [column for column in cuenta_publica[year].columns if 'Unnamed' in column]\n",
    "    print(year, unamned_columns)"
   ]
  },
  {
   "cell_type": "code",
   "execution_count": 206,
   "metadata": {
    "collapsed": false
   },
   "outputs": [
    {
     "data": {
      "text/html": [
       "<div>\n",
       "<table border=\"1\" class=\"dataframe\">\n",
       "  <thead>\n",
       "    <tr style=\"text-align: right;\">\n",
       "      <th></th>\n",
       "      <th>Ciclo</th>\n",
       "      <th>Ramo</th>\n",
       "      <th>Descripción de Ramo</th>\n",
       "      <th>Unidad Responsable</th>\n",
       "      <th>Descripción de Unidad Responsable</th>\n",
       "      <th>Finalidad</th>\n",
       "      <th>Descripción de Finalidad</th>\n",
       "      <th>Función</th>\n",
       "      <th>Descripción de Función</th>\n",
       "      <th>Subfunción</th>\n",
       "      <th>...</th>\n",
       "      <th>Unnamed: 32</th>\n",
       "      <th>Unnamed: 33</th>\n",
       "      <th>Unnamed: 34</th>\n",
       "      <th>Unnamed: 35</th>\n",
       "      <th>Unnamed: 36</th>\n",
       "      <th>Unnamed: 37</th>\n",
       "      <th>Unnamed: 38</th>\n",
       "      <th>Unnamed: 39</th>\n",
       "      <th>Unnamed: 40</th>\n",
       "      <th>Unnamed: 41</th>\n",
       "    </tr>\n",
       "  </thead>\n",
       "  <tbody>\n",
       "    <tr>\n",
       "      <th>0</th>\n",
       "      <td>2011</td>\n",
       "      <td>1</td>\n",
       "      <td>Poder Legislativo</td>\n",
       "      <td>100</td>\n",
       "      <td>Honorable Cámara de Diputados</td>\n",
       "      <td>1</td>\n",
       "      <td>Gobierno</td>\n",
       "      <td>0</td>\n",
       "      <td>Legislación</td>\n",
       "      <td>1</td>\n",
       "      <td>...</td>\n",
       "      <td>NaN</td>\n",
       "      <td>NaN</td>\n",
       "      <td>NaN</td>\n",
       "      <td>NaN</td>\n",
       "      <td>NaN</td>\n",
       "      <td>NaN</td>\n",
       "      <td>NaN</td>\n",
       "      <td>NaN</td>\n",
       "      <td>NaN</td>\n",
       "      <td>NaN</td>\n",
       "    </tr>\n",
       "    <tr>\n",
       "      <th>1</th>\n",
       "      <td>2011</td>\n",
       "      <td>1</td>\n",
       "      <td>Poder Legislativo</td>\n",
       "      <td>100</td>\n",
       "      <td>Honorable Cámara de Diputados</td>\n",
       "      <td>1</td>\n",
       "      <td>Gobierno</td>\n",
       "      <td>0</td>\n",
       "      <td>Legislación</td>\n",
       "      <td>1</td>\n",
       "      <td>...</td>\n",
       "      <td>NaN</td>\n",
       "      <td>NaN</td>\n",
       "      <td>NaN</td>\n",
       "      <td>NaN</td>\n",
       "      <td>NaN</td>\n",
       "      <td>NaN</td>\n",
       "      <td>NaN</td>\n",
       "      <td>NaN</td>\n",
       "      <td>NaN</td>\n",
       "      <td>NaN</td>\n",
       "    </tr>\n",
       "  </tbody>\n",
       "</table>\n",
       "<p>2 rows × 42 columns</p>\n",
       "</div>"
      ],
      "text/plain": [
       "   Ciclo  Ramo Descripción de Ramo Unidad Responsable  \\\n",
       "0   2011     1   Poder Legislativo                100   \n",
       "1   2011     1   Poder Legislativo                100   \n",
       "\n",
       "  Descripción de Unidad Responsable  Finalidad Descripción de Finalidad  \\\n",
       "0     Honorable Cámara de Diputados          1                 Gobierno   \n",
       "1     Honorable Cámara de Diputados          1                 Gobierno   \n",
       "\n",
       "   Función Descripción de Función  Subfunción     ...      Unnamed: 32  \\\n",
       "0        0            Legislación           1     ...              NaN   \n",
       "1        0            Legislación           1     ...              NaN   \n",
       "\n",
       "   Unnamed: 33 Unnamed: 34 Unnamed: 35 Unnamed: 36  Unnamed: 37 Unnamed: 38  \\\n",
       "0          NaN         NaN         NaN         NaN          NaN         NaN   \n",
       "1          NaN         NaN         NaN         NaN          NaN         NaN   \n",
       "\n",
       "   Unnamed: 39 Unnamed: 40  Unnamed: 41  \n",
       "0          NaN         NaN          NaN  \n",
       "1          NaN         NaN          NaN  \n",
       "\n",
       "[2 rows x 42 columns]"
      ]
     },
     "execution_count": 206,
     "metadata": {},
     "output_type": "execute_result"
    }
   ],
   "source": [
    "cuenta_publica[2011].head(2)"
   ]
  },
  {
   "cell_type": "code",
   "execution_count": 207,
   "metadata": {
    "collapsed": false
   },
   "outputs": [
    {
     "data": {
      "text/html": [
       "<div>\n",
       "<table border=\"1\" class=\"dataframe\">\n",
       "  <thead>\n",
       "    <tr style=\"text-align: right;\">\n",
       "      <th></th>\n",
       "      <th>Ciclo</th>\n",
       "      <th>Ramo</th>\n",
       "      <th>Descripción de Ramo</th>\n",
       "      <th>Unidad Responsable</th>\n",
       "      <th>Descripción de Unidad Responsable</th>\n",
       "      <th>Finalidad</th>\n",
       "      <th>Descripción de Finalidad</th>\n",
       "      <th>Función</th>\n",
       "      <th>Descripción de Función</th>\n",
       "      <th>Subfunción</th>\n",
       "      <th>...</th>\n",
       "      <th>Unnamed: 32</th>\n",
       "      <th>Unnamed: 33</th>\n",
       "      <th>Unnamed: 34</th>\n",
       "      <th>Unnamed: 35</th>\n",
       "      <th>Unnamed: 36</th>\n",
       "      <th>Unnamed: 37</th>\n",
       "      <th>Unnamed: 38</th>\n",
       "      <th>Unnamed: 39</th>\n",
       "      <th>Unnamed: 40</th>\n",
       "      <th>Unnamed: 41</th>\n",
       "    </tr>\n",
       "  </thead>\n",
       "  <tbody>\n",
       "    <tr>\n",
       "      <th>138825</th>\n",
       "      <td>2011</td>\n",
       "      <td>38</td>\n",
       "      <td>Consejo Nacional de Ciencia y Tecnología</td>\n",
       "      <td>90E</td>\n",
       "      <td>Centro de Investigación en Materiales Avanzado...</td>\n",
       "      <td>3</td>\n",
       "      <td>Desarrollo Económico</td>\n",
       "      <td>7</td>\n",
       "      <td>Ciencia y Tecnología</td>\n",
       "      <td>1</td>\n",
       "      <td>...</td>\n",
       "      <td>NaN</td>\n",
       "      <td>NaN</td>\n",
       "      <td>NaN</td>\n",
       "      <td>NaN</td>\n",
       "      <td>NaN</td>\n",
       "      <td>NaN</td>\n",
       "      <td>NaN</td>\n",
       "      <td>NaN</td>\n",
       "      <td>NaN</td>\n",
       "      <td>NaN</td>\n",
       "    </tr>\n",
       "    <tr>\n",
       "      <th>138826</th>\n",
       "      <td>2011</td>\n",
       "      <td>38</td>\n",
       "      <td>Consejo Nacional de Ciencia y Tecnología</td>\n",
       "      <td>90E</td>\n",
       "      <td>Centro de Investigación en Materiales Avanzado...</td>\n",
       "      <td>3</td>\n",
       "      <td>Desarrollo Económico</td>\n",
       "      <td>7</td>\n",
       "      <td>Ciencia y Tecnología</td>\n",
       "      <td>1</td>\n",
       "      <td>...</td>\n",
       "      <td>NaN</td>\n",
       "      <td>NaN</td>\n",
       "      <td>NaN</td>\n",
       "      <td>NaN</td>\n",
       "      <td>NaN</td>\n",
       "      <td>NaN</td>\n",
       "      <td>NaN</td>\n",
       "      <td>NaN</td>\n",
       "      <td>NaN</td>\n",
       "      <td>NaN</td>\n",
       "    </tr>\n",
       "  </tbody>\n",
       "</table>\n",
       "<p>2 rows × 42 columns</p>\n",
       "</div>"
      ],
      "text/plain": [
       "        Ciclo  Ramo                       Descripción de Ramo  \\\n",
       "138825   2011    38  Consejo Nacional de Ciencia y Tecnología   \n",
       "138826   2011    38  Consejo Nacional de Ciencia y Tecnología   \n",
       "\n",
       "       Unidad Responsable                  Descripción de Unidad Responsable  \\\n",
       "138825                90E  Centro de Investigación en Materiales Avanzado...   \n",
       "138826                90E  Centro de Investigación en Materiales Avanzado...   \n",
       "\n",
       "        Finalidad Descripción de Finalidad  Función Descripción de Función  \\\n",
       "138825          3     Desarrollo Económico        7   Ciencia y Tecnología   \n",
       "138826          3     Desarrollo Económico        7   Ciencia y Tecnología   \n",
       "\n",
       "        Subfunción     ...      Unnamed: 32  Unnamed: 33 Unnamed: 34  \\\n",
       "138825           1     ...              NaN          NaN         NaN   \n",
       "138826           1     ...              NaN          NaN         NaN   \n",
       "\n",
       "       Unnamed: 35 Unnamed: 36  Unnamed: 37 Unnamed: 38  Unnamed: 39  \\\n",
       "138825         NaN         NaN          NaN         NaN          NaN   \n",
       "138826         NaN         NaN          NaN         NaN          NaN   \n",
       "\n",
       "       Unnamed: 40  Unnamed: 41  \n",
       "138825         NaN          NaN  \n",
       "138826         NaN          NaN  \n",
       "\n",
       "[2 rows x 42 columns]"
      ]
     },
     "execution_count": 207,
     "metadata": {},
     "output_type": "execute_result"
    }
   ],
   "source": [
    "cuenta_publica[2011].tail(2)"
   ]
  },
  {
   "cell_type": "markdown",
   "metadata": {},
   "source": [
    "They look like junk. Remove:"
   ]
  },
  {
   "cell_type": "code",
   "execution_count": 209,
   "metadata": {
    "collapsed": false
   },
   "outputs": [
    {
     "data": {
      "text/plain": [
       "{'Actividad Institucional',\n",
       " 'Adefas',\n",
       " 'Aprobado',\n",
       " 'Ciclo',\n",
       " 'Clave de cartera',\n",
       " 'Descripción de Finalidad',\n",
       " 'Descripción de Fuente de Financiamiento',\n",
       " 'Descripción de Función',\n",
       " 'Descripción de Grupo Funcional',\n",
       " 'Descripción de Objeto del Gasto',\n",
       " 'Descripción de Programa Presupuestario',\n",
       " 'Descripción de Ramo',\n",
       " 'Descripción de Subfunción',\n",
       " 'Descripción de Tipo de Gasto',\n",
       " 'Descripción de Unidad Responsable',\n",
       " 'Descripción de la Actividad Institucional',\n",
       " 'Descripción de la entidad federativa',\n",
       " 'Descripción de la modalidad del programa presupuestario',\n",
       " 'Devengado',\n",
       " 'Ejercicio',\n",
       " 'Ejercido',\n",
       " 'Entidad Federativa',\n",
       " 'Finalidad',\n",
       " 'Fuente de Financiamiento',\n",
       " 'Función',\n",
       " 'Grupo Funcional',\n",
       " 'Modalidad del Programa presupuestario',\n",
       " 'Modificado',\n",
       " 'Objeto del Gasto',\n",
       " 'Pagado',\n",
       " 'Programa Presupuestario',\n",
       " 'Ramo',\n",
       " 'Subfunción',\n",
       " 'Tipo de Gasto',\n",
       " 'Unidad Responsable'}"
      ]
     },
     "execution_count": 209,
     "metadata": {},
     "output_type": "execute_result"
    }
   ],
   "source": [
    "for i in range(25,42):\n",
    "    unnamed = 'Unnamed: %s' % i\n",
    "    try:\n",
    "        del cuenta_publica[2011][unnamed]\n",
    "    except KeyError:\n",
    "        pass\n",
    "\n",
    "union_columns = union_of_columns()\n",
    "union_columns"
   ]
  },
  {
   "cell_type": "markdown",
   "metadata": {},
   "source": [
    "We have *clean* data. Yippie!"
   ]
  },
  {
   "cell_type": "markdown",
   "metadata": {},
   "source": [
    "## Compare with existing schema\n",
    "Import the latest mapping from Open-Spending"
   ]
  },
  {
   "cell_type": "code",
   "execution_count": 211,
   "metadata": {
    "collapsed": false
   },
   "outputs": [
    {
     "data": {
      "text/plain": [
       "{'Actividad_Institucional',\n",
       " 'Adefas',\n",
       " 'Aprobado',\n",
       " 'Ciclo',\n",
       " 'Devengado',\n",
       " 'Ejercicio',\n",
       " 'Entidad_Federativa',\n",
       " 'Finalidad',\n",
       " 'Fuente_Financiamiento',\n",
       " 'Funcion',\n",
       " 'ID_AI',\n",
       " 'ID_EF',\n",
       " 'ID_FF',\n",
       " 'ID_FIN',\n",
       " 'ID_Funcion',\n",
       " 'ID_Modalidad',\n",
       " 'ID_OG',\n",
       " 'ID_PP',\n",
       " 'ID_Ramo',\n",
       " 'ID_Subfuncion',\n",
       " 'ID_UR',\n",
       " 'Identificador_de_Clave_de_Cartera',\n",
       " 'Modalidad',\n",
       " 'Modificado',\n",
       " 'Objeto_Gasto',\n",
       " 'Pagado',\n",
       " 'Programa_Presupuestario',\n",
       " 'Ramo',\n",
       " 'Subfuncion',\n",
       " 'Tipo_Gasto',\n",
       " 'Unidad_Responsible'}"
      ]
     },
     "execution_count": 211,
     "metadata": {},
     "output_type": "execute_result"
    }
   ],
   "source": [
    "from json import loads\n",
    "with open('/home/loic/data/mexican-federal-budget-iteration-2.json') as file:\n",
    "    schema = loads(file.read())\n",
    "\n",
    "reference_columns = set(sorted([column['slug'] for column in schema['resources'][0]['schema']['fields']]))\n",
    "reference_columns"
   ]
  },
  {
   "cell_type": "code",
   "execution_count": 213,
   "metadata": {
    "collapsed": false
   },
   "outputs": [
    {
     "name": "stdout",
     "output_type": "stream",
     "text": [
      "31 35\n"
     ]
    }
   ],
   "source": [
    "print(len(reference_columns), len(union_columns))"
   ]
  },
  {
   "cell_type": "markdown",
   "metadata": {},
   "source": [
    "There are more columns in the new files as in the 2015 test file we'v been using so far. Let's see first what's in common."
   ]
  },
  {
   "cell_type": "code",
   "execution_count": 216,
   "metadata": {
    "collapsed": false
   },
   "outputs": [
    {
     "data": {
      "text/plain": [
       "{'Adefas',\n",
       " 'Aprobado',\n",
       " 'Ciclo',\n",
       " 'Devengado',\n",
       " 'Ejercicio',\n",
       " 'Finalidad',\n",
       " 'Modificado',\n",
       " 'Pagado',\n",
       " 'Ramo'}"
      ]
     },
     "execution_count": 216,
     "metadata": {},
     "output_type": "execute_result"
    }
   ],
   "source": [
    "reference_columns & union_columns"
   ]
  },
  {
   "cell_type": "markdown",
   "metadata": {},
   "source": [
    "Let's take the symmetric difference."
   ]
  },
  {
   "cell_type": "code",
   "execution_count": 217,
   "metadata": {
    "collapsed": false
   },
   "outputs": [
    {
     "data": {
      "text/plain": [
       "{'Actividad Institucional',\n",
       " 'Actividad_Institucional',\n",
       " 'Clave de cartera',\n",
       " 'Descripción de Finalidad',\n",
       " 'Descripción de Fuente de Financiamiento',\n",
       " 'Descripción de Función',\n",
       " 'Descripción de Grupo Funcional',\n",
       " 'Descripción de Objeto del Gasto',\n",
       " 'Descripción de Programa Presupuestario',\n",
       " 'Descripción de Ramo',\n",
       " 'Descripción de Subfunción',\n",
       " 'Descripción de Tipo de Gasto',\n",
       " 'Descripción de Unidad Responsable',\n",
       " 'Descripción de la Actividad Institucional',\n",
       " 'Descripción de la entidad federativa',\n",
       " 'Descripción de la modalidad del programa presupuestario',\n",
       " 'Ejercido',\n",
       " 'Entidad Federativa',\n",
       " 'Entidad_Federativa',\n",
       " 'Fuente de Financiamiento',\n",
       " 'Fuente_Financiamiento',\n",
       " 'Funcion',\n",
       " 'Función',\n",
       " 'Grupo Funcional',\n",
       " 'ID_AI',\n",
       " 'ID_EF',\n",
       " 'ID_FF',\n",
       " 'ID_FIN',\n",
       " 'ID_Funcion',\n",
       " 'ID_Modalidad',\n",
       " 'ID_OG',\n",
       " 'ID_PP',\n",
       " 'ID_Ramo',\n",
       " 'ID_Subfuncion',\n",
       " 'ID_UR',\n",
       " 'Identificador_de_Clave_de_Cartera',\n",
       " 'Modalidad',\n",
       " 'Modalidad del Programa presupuestario',\n",
       " 'Objeto del Gasto',\n",
       " 'Objeto_Gasto',\n",
       " 'Programa Presupuestario',\n",
       " 'Programa_Presupuestario',\n",
       " 'Subfuncion',\n",
       " 'Subfunción',\n",
       " 'Tipo de Gasto',\n",
       " 'Tipo_Gasto',\n",
       " 'Unidad Responsable',\n",
       " 'Unidad_Responsible'}"
      ]
     },
     "execution_count": 217,
     "metadata": {},
     "output_type": "execute_result"
    }
   ],
   "source": [
    "union_columns ^ reference_columns"
   ]
  },
  {
   "cell_type": "markdown",
   "metadata": {},
   "source": [
    "Yep. There's some mapping to do.\n",
    "\n",
    "## Mapping\n",
    "Let's do this by hand."
   ]
  },
  {
   "cell_type": "code",
   "execution_count": 152,
   "metadata": {
    "collapsed": false
   },
   "outputs": [],
   "source": [
    "mapping = {\n",
    "    'Actividad_Institucional': 'Descripción de la Actividad Institucional',\n",
    "    'Adefas': 'ADEFAS',\n",
    "    'Aprobado': 'Aprobado',\n",
    "    'Ciclo': 'Ciclo',\n",
    "    'Devengado': 'Devengado',\n",
    "    'Ejercicio': 'Ejercicio',\n",
    "    'Entidad_Federativa': 'Descripción de la Entidad Federativa',\n",
    "    'Finalidad': 'Descripción de Finalidad',\n",
    "    'Fuente_Financiamiento': 'Descripción de Fuente de Financiamiento',\n",
    "    'Funcion': 'Descripción de Función',\n",
    "    'ID_AI': 'Actividad Institucional',\n",
    "    'ID_EF': 'Entidad Federativa',\n",
    "    'ID_FF': 'Fuente de Financiamiento',\n",
    "    'ID_FIN': 'Finalidad',\n",
    "    'ID_Funcion': 'Función',\n",
    "    'ID_Modalidad': 'Modalidad del Programa presupuestario',\n",
    "    'ID_OG': 'Objeto del Gasto',\n",
    "    'ID_PP': 'Programa Presupuestario',\n",
    "    'ID_Ramo': 'Ramo',\n",
    "    'ID_Subfuncion': 'Subfunción',\n",
    "    'ID_UR': 'Unidad Responsable',\n",
    "    'Identificador_de_Clave_de_Cartera': 'Clave de cartera',\n",
    "    'Modalidad': 'Descripción de la modalidad del programa presupuestario',\n",
    "    'Modificado': 'Modificado',\n",
    "    'Objeto_Gasto': 'Descripción de Objeto del Gasto',\n",
    "    'Pagado': 'Pagado',\n",
    "    'Programa_Presupuestario': 'Descripción de Programa Presupuestario',\n",
    "    'Ramo': 'Descripción de Ramo',\n",
    "    'Subfuncion': 'Descripción de Subfunción',\n",
    "    'Tipo_Gasto': 'Descripción de Tipo de Gasto',\n",
    "    'Unidad_Responsible': 'Descripción de Unidad Responsable'\n",
    "}"
   ]
  },
  {
   "cell_type": "markdown",
   "metadata": {},
   "source": [
    "Which of the columns don't make it in the current model?"
   ]
  },
  {
   "cell_type": "code",
   "execution_count": 218,
   "metadata": {
    "collapsed": false
   },
   "outputs": [
    {
     "data": {
      "text/plain": [
       "{'Adefas',\n",
       " 'Descripción de Grupo Funcional',\n",
       " 'Descripción de la entidad federativa',\n",
       " 'Ejercido',\n",
       " 'Grupo Funcional',\n",
       " 'Tipo de Gasto'}"
      ]
     },
     "execution_count": 218,
     "metadata": {},
     "output_type": "execute_result"
    }
   ],
   "source": [
    "crossover_columns = [item for item in mapping.values()]\n",
    "union_columns - set(crossover_columns)"
   ]
  },
  {
   "cell_type": "markdown",
   "metadata": {},
   "source": [
    "...okay the new files are actually more complete than the 2015 test file."
   ]
  },
  {
   "cell_type": "markdown",
   "metadata": {},
   "source": [
    "## Concatenation"
   ]
  },
  {
   "cell_type": "code",
   "execution_count": 219,
   "metadata": {
    "collapsed": true
   },
   "outputs": [],
   "source": [
    "multi_year = concat(cuenta_publica.values())"
   ]
  },
  {
   "cell_type": "code",
   "execution_count": 221,
   "metadata": {
    "collapsed": false
   },
   "outputs": [
    {
     "data": {
      "text/plain": [
       "1250200"
      ]
     },
     "execution_count": 221,
     "metadata": {},
     "output_type": "execute_result"
    }
   ],
   "source": [
    "len(multi_year)"
   ]
  },
  {
   "cell_type": "markdown",
   "metadata": {},
   "source": [
    "Just over a million lines of data."
   ]
  },
  {
   "cell_type": "code",
   "execution_count": 223,
   "metadata": {
    "collapsed": false
   },
   "outputs": [
    {
     "data": {
      "text/html": [
       "<div>\n",
       "<table border=\"1\" class=\"dataframe\">\n",
       "  <thead>\n",
       "    <tr style=\"text-align: right;\">\n",
       "      <th></th>\n",
       "      <th>Actividad Institucional</th>\n",
       "      <th>Adefas</th>\n",
       "      <th>Aprobado</th>\n",
       "      <th>Ciclo</th>\n",
       "      <th>Clave de cartera</th>\n",
       "      <th>Descripción de Finalidad</th>\n",
       "      <th>Descripción de Fuente de Financiamiento</th>\n",
       "      <th>Descripción de Función</th>\n",
       "      <th>Descripción de Grupo Funcional</th>\n",
       "      <th>Descripción de Objeto del Gasto</th>\n",
       "      <th>...</th>\n",
       "      <th>Grupo Funcional</th>\n",
       "      <th>Modalidad del Programa presupuestario</th>\n",
       "      <th>Modificado</th>\n",
       "      <th>Objeto del Gasto</th>\n",
       "      <th>Pagado</th>\n",
       "      <th>Programa Presupuestario</th>\n",
       "      <th>Ramo</th>\n",
       "      <th>Subfunción</th>\n",
       "      <th>Tipo de Gasto</th>\n",
       "      <th>Unidad Responsable</th>\n",
       "    </tr>\n",
       "  </thead>\n",
       "  <tbody>\n",
       "    <tr>\n",
       "      <th>0</th>\n",
       "      <td>4</td>\n",
       "      <td>NaN</td>\n",
       "      <td>17,642,688.0</td>\n",
       "      <td>2010</td>\n",
       "      <td>NaN</td>\n",
       "      <td>Gobierno</td>\n",
       "      <td>Recursos fiscales</td>\n",
       "      <td>Legislación</td>\n",
       "      <td>NaN</td>\n",
       "      <td>Mantenimiento y rehabilitación de obras públicas</td>\n",
       "      <td>...</td>\n",
       "      <td>NaN</td>\n",
       "      <td>K</td>\n",
       "      <td>NaN</td>\n",
       "      <td>6108.0</td>\n",
       "      <td>NaN</td>\n",
       "      <td>27.0</td>\n",
       "      <td>1</td>\n",
       "      <td>1</td>\n",
       "      <td>3.0</td>\n",
       "      <td>100</td>\n",
       "    </tr>\n",
       "    <tr>\n",
       "      <th>1</th>\n",
       "      <td>4</td>\n",
       "      <td>NaN</td>\n",
       "      <td>632,948,173.0</td>\n",
       "      <td>2010</td>\n",
       "      <td>NaN</td>\n",
       "      <td>Gobierno</td>\n",
       "      <td>Recursos fiscales</td>\n",
       "      <td>Legislación</td>\n",
       "      <td>NaN</td>\n",
       "      <td>Dietas</td>\n",
       "      <td>...</td>\n",
       "      <td>NaN</td>\n",
       "      <td>R</td>\n",
       "      <td>NaN</td>\n",
       "      <td>1101.0</td>\n",
       "      <td>NaN</td>\n",
       "      <td>1.0</td>\n",
       "      <td>1</td>\n",
       "      <td>1</td>\n",
       "      <td>1.0</td>\n",
       "      <td>100</td>\n",
       "    </tr>\n",
       "    <tr>\n",
       "      <th>2</th>\n",
       "      <td>4</td>\n",
       "      <td>NaN</td>\n",
       "      <td>230,694,288.0</td>\n",
       "      <td>2010</td>\n",
       "      <td>NaN</td>\n",
       "      <td>Gobierno</td>\n",
       "      <td>Recursos fiscales</td>\n",
       "      <td>Legislación</td>\n",
       "      <td>NaN</td>\n",
       "      <td>Sueldos base</td>\n",
       "      <td>...</td>\n",
       "      <td>NaN</td>\n",
       "      <td>R</td>\n",
       "      <td>NaN</td>\n",
       "      <td>1103.0</td>\n",
       "      <td>NaN</td>\n",
       "      <td>1.0</td>\n",
       "      <td>1</td>\n",
       "      <td>1</td>\n",
       "      <td>1.0</td>\n",
       "      <td>100</td>\n",
       "    </tr>\n",
       "    <tr>\n",
       "      <th>3</th>\n",
       "      <td>4</td>\n",
       "      <td>NaN</td>\n",
       "      <td>399,765,592.0</td>\n",
       "      <td>2010</td>\n",
       "      <td>NaN</td>\n",
       "      <td>Gobierno</td>\n",
       "      <td>Recursos fiscales</td>\n",
       "      <td>Legislación</td>\n",
       "      <td>NaN</td>\n",
       "      <td>Honorarios</td>\n",
       "      <td>...</td>\n",
       "      <td>NaN</td>\n",
       "      <td>R</td>\n",
       "      <td>NaN</td>\n",
       "      <td>1201.0</td>\n",
       "      <td>NaN</td>\n",
       "      <td>1.0</td>\n",
       "      <td>1</td>\n",
       "      <td>1</td>\n",
       "      <td>1.0</td>\n",
       "      <td>100</td>\n",
       "    </tr>\n",
       "    <tr>\n",
       "      <th>4</th>\n",
       "      <td>4</td>\n",
       "      <td>NaN</td>\n",
       "      <td>17,988,469.0</td>\n",
       "      <td>2010</td>\n",
       "      <td>NaN</td>\n",
       "      <td>Gobierno</td>\n",
       "      <td>Recursos fiscales</td>\n",
       "      <td>Legislación</td>\n",
       "      <td>NaN</td>\n",
       "      <td>Sueldos base al personal eventual</td>\n",
       "      <td>...</td>\n",
       "      <td>NaN</td>\n",
       "      <td>R</td>\n",
       "      <td>NaN</td>\n",
       "      <td>1202.0</td>\n",
       "      <td>NaN</td>\n",
       "      <td>1.0</td>\n",
       "      <td>1</td>\n",
       "      <td>1</td>\n",
       "      <td>1.0</td>\n",
       "      <td>100</td>\n",
       "    </tr>\n",
       "  </tbody>\n",
       "</table>\n",
       "<p>5 rows × 35 columns</p>\n",
       "</div>"
      ],
      "text/plain": [
       "   Actividad Institucional Adefas         Aprobado  Ciclo Clave de cartera  \\\n",
       "0                        4    NaN    17,642,688.0    2010              NaN   \n",
       "1                        4    NaN   632,948,173.0    2010              NaN   \n",
       "2                        4    NaN   230,694,288.0    2010              NaN   \n",
       "3                        4    NaN   399,765,592.0    2010              NaN   \n",
       "4                        4    NaN    17,988,469.0    2010              NaN   \n",
       "\n",
       "  Descripción de Finalidad Descripción de Fuente de Financiamiento  \\\n",
       "0                 Gobierno                       Recursos fiscales   \n",
       "1                 Gobierno                       Recursos fiscales   \n",
       "2                 Gobierno                       Recursos fiscales   \n",
       "3                 Gobierno                       Recursos fiscales   \n",
       "4                 Gobierno                       Recursos fiscales   \n",
       "\n",
       "  Descripción de Función Descripción de Grupo Funcional  \\\n",
       "0            Legislación                            NaN   \n",
       "1            Legislación                            NaN   \n",
       "2            Legislación                            NaN   \n",
       "3            Legislación                            NaN   \n",
       "4            Legislación                            NaN   \n",
       "\n",
       "                    Descripción de Objeto del Gasto        ...          \\\n",
       "0  Mantenimiento y rehabilitación de obras públicas        ...           \n",
       "1                                            Dietas        ...           \n",
       "2                                      Sueldos base        ...           \n",
       "3                                        Honorarios        ...           \n",
       "4                 Sueldos base al personal eventual        ...           \n",
       "\n",
       "  Grupo Funcional Modalidad del Programa presupuestario Modificado  \\\n",
       "0             NaN                                     K        NaN   \n",
       "1             NaN                                     R        NaN   \n",
       "2             NaN                                     R        NaN   \n",
       "3             NaN                                     R        NaN   \n",
       "4             NaN                                     R        NaN   \n",
       "\n",
       "  Objeto del Gasto Pagado Programa Presupuestario Ramo Subfunción  \\\n",
       "0           6108.0    NaN                    27.0    1          1   \n",
       "1           1101.0    NaN                     1.0    1          1   \n",
       "2           1103.0    NaN                     1.0    1          1   \n",
       "3           1201.0    NaN                     1.0    1          1   \n",
       "4           1202.0    NaN                     1.0    1          1   \n",
       "\n",
       "  Tipo de Gasto Unidad Responsable  \n",
       "0           3.0                100  \n",
       "1           1.0                100  \n",
       "2           1.0                100  \n",
       "3           1.0                100  \n",
       "4           1.0                100  \n",
       "\n",
       "[5 rows x 35 columns]"
      ]
     },
     "execution_count": 223,
     "metadata": {},
     "output_type": "execute_result"
    }
   ],
   "source": [
    "multi_year.head()"
   ]
  },
  {
   "cell_type": "markdown",
   "metadata": {},
   "source": [
    "Looks alright, let's save it."
   ]
  },
  {
   "cell_type": "code",
   "execution_count": 224,
   "metadata": {
    "collapsed": true
   },
   "outputs": [],
   "source": [
    "multi_year.to_csv('cuenta_publica_2008_to_2015', index=False)"
   ]
  },
  {
   "cell_type": "code",
   "execution_count": 228,
   "metadata": {
    "collapsed": false
   },
   "outputs": [
    {
     "name": "stdout",
     "output_type": "stream",
     "text": [
      "total 1.5G\r\n",
      "-rw-rw-r-- 1 loic loic 607M Aug  3 20:30 cuenta_publica_2008_to_2015\r\n",
      "-rwxr--r-- 1 loic loic  55M Aug  3 10:16 Cuenta_Publica_2010.csv\r\n",
      "-rwxr--r-- 1 loic loic  61M Aug  3 10:18 Cuenta_Publica_2011.csv\r\n",
      "-rwxr--r-- 1 loic loic 123M Aug  3 10:26 Cuenta_Publica_2012.csv\r\n",
      "-rwxr--r-- 1 loic loic 106M Aug  3 10:23 Cuenta_Publica_2013_RA.csv\r\n",
      "-rwxr--r-- 1 loic loic 120M Aug  3 10:26 Cuenta_Publica_2014_RA.csv\r\n",
      "-rwxr--r-- 1 loic loic 118M Aug  3 10:25 Cuenta_Publica_2015_GF.csv\r\n",
      "-rw-rw-r-- 1 loic loic 153K Aug  3 20:30 mexican_federal_budget_ingestion_preparation.ipynb\r\n",
      "-rwxr--r-- 1 loic loic  23M Aug  3 10:19 PEF2008_AC01.csv\r\n",
      "-rwxr--r-- 1 loic loic  27M Aug  3 10:21 PEF2009_AC01.csv\r\n",
      "-rwxr--r-- 1 loic loic  16M Aug  3 10:21 PEF2010_AC01.csv\r\n",
      "-rwxr--r-- 1 loic loic  17M Aug  3 10:22 PEF2011_AC01.csv\r\n",
      "-rwxr--r-- 1 loic loic  16M Aug  3 10:22 PEF2012_AC01.csv\r\n",
      "-rwxr--r-- 1 loic loic  16M Aug  3 10:25 PEF2013_AC01.csv\r\n",
      "-rwxr--r-- 1 loic loic  43M Aug  3 10:30 PEF2014_AC01.csv\r\n",
      "-rwxr--r-- 1 loic loic 108M Aug  3 10:36 PEF2015_AC01.csv\r\n",
      "-rwxr--r-- 1 loic loic  33M Aug  3 10:31 PEF2016_AC01.csv\r\n"
     ]
    }
   ],
   "source": [
    "!ls -lh"
   ]
  },
  {
   "cell_type": "markdown",
   "metadata": {},
   "source": [
    "The file weighs 607MB."
   ]
  },
  {
   "cell_type": "markdown",
   "metadata": {},
   "source": [
    "## PEF files\n",
    "\n",
    "Let's look inside..."
   ]
  },
  {
   "cell_type": "code",
   "execution_count": 230,
   "metadata": {
    "collapsed": false
   },
   "outputs": [
    {
     "name": "stderr",
     "output_type": "stream",
     "text": [
      "/usr/local/lib/python3.5/dist-packages/IPython/core/interactiveshell.py:2705: DtypeWarning: Columns (1) have mixed types. Specify dtype option on import or set low_memory=False.\n",
      "  interactivity=interactivity, compiler=compiler, result=result)\n",
      "/usr/local/lib/python3.5/dist-packages/IPython/core/interactiveshell.py:2705: DtypeWarning: Columns (3,25) have mixed types. Specify dtype option on import or set low_memory=False.\n",
      "  interactivity=interactivity, compiler=compiler, result=result)\n"
     ]
    }
   ],
   "source": [
    "for year, file in files.items():\n",
    "    pef[year] = read_csv('PEF%s_AC01.csv' % year, encoding='iso-8859-1')"
   ]
  },
  {
   "cell_type": "code",
   "execution_count": 231,
   "metadata": {
    "collapsed": false
   },
   "outputs": [
    {
     "data": {
      "text/html": [
       "<div>\n",
       "<table border=\"1\" class=\"dataframe\">\n",
       "  <thead>\n",
       "    <tr style=\"text-align: right;\">\n",
       "      <th></th>\n",
       "      <th>Ciclo</th>\n",
       "      <th>Ramo</th>\n",
       "      <th>Descripción de Ramo</th>\n",
       "      <th>Unidad Responsable</th>\n",
       "      <th>Descripción de Unidad Responsable</th>\n",
       "      <th>Finalidad</th>\n",
       "      <th>Descripción de Finalidad</th>\n",
       "      <th>Función</th>\n",
       "      <th>Descripción de Función</th>\n",
       "      <th>Subfunción</th>\n",
       "      <th>...</th>\n",
       "      <th>Objeto del Gasto</th>\n",
       "      <th>Descripción de Objeto del Gasto</th>\n",
       "      <th>Tipo de Gasto</th>\n",
       "      <th>Descripción de Tipo de Gasto</th>\n",
       "      <th>Fuente de Financiamiento</th>\n",
       "      <th>Descripción de Fuente de Financiamiento</th>\n",
       "      <th>Entidad Federativa</th>\n",
       "      <th>Descripción de Entidad Federativa</th>\n",
       "      <th>Clave de Cartera</th>\n",
       "      <th>Importe Presupuesto de Egresos de la Federación (PEF)</th>\n",
       "    </tr>\n",
       "  </thead>\n",
       "  <tbody>\n",
       "    <tr>\n",
       "      <th>0</th>\n",
       "      <td>2015</td>\n",
       "      <td>1</td>\n",
       "      <td>Poder Legislativo</td>\n",
       "      <td>100</td>\n",
       "      <td>H. Cámara de Diputados</td>\n",
       "      <td>1</td>\n",
       "      <td>Gobierno</td>\n",
       "      <td>1</td>\n",
       "      <td>Legislación</td>\n",
       "      <td>1</td>\n",
       "      <td>...</td>\n",
       "      <td>6200</td>\n",
       "      <td>Obra pública en bienes propios</td>\n",
       "      <td>3</td>\n",
       "      <td>Gasto de obra pública</td>\n",
       "      <td>1</td>\n",
       "      <td>Recursos fiscales</td>\n",
       "      <td>9</td>\n",
       "      <td>Distrito Federal</td>\n",
       "      <td>0</td>\n",
       "      <td>$11,397,536.00</td>\n",
       "    </tr>\n",
       "    <tr>\n",
       "      <th>1</th>\n",
       "      <td>2015</td>\n",
       "      <td>1</td>\n",
       "      <td>Poder Legislativo</td>\n",
       "      <td>100</td>\n",
       "      <td>H. Cámara de Diputados</td>\n",
       "      <td>1</td>\n",
       "      <td>Gobierno</td>\n",
       "      <td>1</td>\n",
       "      <td>Legislación</td>\n",
       "      <td>1</td>\n",
       "      <td>...</td>\n",
       "      <td>6200</td>\n",
       "      <td>Obra pública en bienes propios</td>\n",
       "      <td>3</td>\n",
       "      <td>Gasto de obra pública</td>\n",
       "      <td>1</td>\n",
       "      <td>Recursos fiscales</td>\n",
       "      <td>9</td>\n",
       "      <td>Distrito Federal</td>\n",
       "      <td>0</td>\n",
       "      <td>$166,970,738.00</td>\n",
       "    </tr>\n",
       "    <tr>\n",
       "      <th>2</th>\n",
       "      <td>2015</td>\n",
       "      <td>1</td>\n",
       "      <td>Poder Legislativo</td>\n",
       "      <td>100</td>\n",
       "      <td>H. Cámara de Diputados</td>\n",
       "      <td>1</td>\n",
       "      <td>Gobierno</td>\n",
       "      <td>1</td>\n",
       "      <td>Legislación</td>\n",
       "      <td>1</td>\n",
       "      <td>...</td>\n",
       "      <td>1100</td>\n",
       "      <td>Remuneraciones al personal de carácter permanente</td>\n",
       "      <td>1</td>\n",
       "      <td>Gasto corriente</td>\n",
       "      <td>1</td>\n",
       "      <td>Recursos fiscales</td>\n",
       "      <td>9</td>\n",
       "      <td>Distrito Federal</td>\n",
       "      <td>0</td>\n",
       "      <td>$632,268,000.00</td>\n",
       "    </tr>\n",
       "    <tr>\n",
       "      <th>3</th>\n",
       "      <td>2015</td>\n",
       "      <td>1</td>\n",
       "      <td>Poder Legislativo</td>\n",
       "      <td>100</td>\n",
       "      <td>H. Cámara de Diputados</td>\n",
       "      <td>1</td>\n",
       "      <td>Gobierno</td>\n",
       "      <td>1</td>\n",
       "      <td>Legislación</td>\n",
       "      <td>1</td>\n",
       "      <td>...</td>\n",
       "      <td>1100</td>\n",
       "      <td>Remuneraciones al personal de carácter permanente</td>\n",
       "      <td>1</td>\n",
       "      <td>Gasto corriente</td>\n",
       "      <td>1</td>\n",
       "      <td>Recursos fiscales</td>\n",
       "      <td>9</td>\n",
       "      <td>Distrito Federal</td>\n",
       "      <td>0</td>\n",
       "      <td>$356,286,670.00</td>\n",
       "    </tr>\n",
       "    <tr>\n",
       "      <th>4</th>\n",
       "      <td>2015</td>\n",
       "      <td>1</td>\n",
       "      <td>Poder Legislativo</td>\n",
       "      <td>100</td>\n",
       "      <td>H. Cámara de Diputados</td>\n",
       "      <td>1</td>\n",
       "      <td>Gobierno</td>\n",
       "      <td>1</td>\n",
       "      <td>Legislación</td>\n",
       "      <td>1</td>\n",
       "      <td>...</td>\n",
       "      <td>1200</td>\n",
       "      <td>Remuneraciones al personal de carácter transit...</td>\n",
       "      <td>1</td>\n",
       "      <td>Gasto corriente</td>\n",
       "      <td>1</td>\n",
       "      <td>Recursos fiscales</td>\n",
       "      <td>9</td>\n",
       "      <td>Distrito Federal</td>\n",
       "      <td>0</td>\n",
       "      <td>$878,543,868.00</td>\n",
       "    </tr>\n",
       "  </tbody>\n",
       "</table>\n",
       "<p>5 rows × 27 columns</p>\n",
       "</div>"
      ],
      "text/plain": [
       "   Ciclo  Ramo Descripción de Ramo Unidad Responsable  \\\n",
       "0   2015     1   Poder Legislativo                100   \n",
       "1   2015     1   Poder Legislativo                100   \n",
       "2   2015     1   Poder Legislativo                100   \n",
       "3   2015     1   Poder Legislativo                100   \n",
       "4   2015     1   Poder Legislativo                100   \n",
       "\n",
       "  Descripción de Unidad Responsable  Finalidad Descripción de Finalidad  \\\n",
       "0            H. Cámara de Diputados          1                 Gobierno   \n",
       "1            H. Cámara de Diputados          1                 Gobierno   \n",
       "2            H. Cámara de Diputados          1                 Gobierno   \n",
       "3            H. Cámara de Diputados          1                 Gobierno   \n",
       "4            H. Cámara de Diputados          1                 Gobierno   \n",
       "\n",
       "   Función Descripción de Función  Subfunción  \\\n",
       "0        1            Legislación           1   \n",
       "1        1            Legislación           1   \n",
       "2        1            Legislación           1   \n",
       "3        1            Legislación           1   \n",
       "4        1            Legislación           1   \n",
       "\n",
       "                            ...                            Objeto del Gasto  \\\n",
       "0                           ...                                        6200   \n",
       "1                           ...                                        6200   \n",
       "2                           ...                                        1100   \n",
       "3                           ...                                        1100   \n",
       "4                           ...                                        1200   \n",
       "\n",
       "                     Descripción de Objeto del Gasto Tipo de Gasto  \\\n",
       "0                     Obra pública en bienes propios             3   \n",
       "1                     Obra pública en bienes propios             3   \n",
       "2  Remuneraciones al personal de carácter permanente             1   \n",
       "3  Remuneraciones al personal de carácter permanente             1   \n",
       "4  Remuneraciones al personal de carácter transit...             1   \n",
       "\n",
       "  Descripción de Tipo de Gasto Fuente de Financiamiento  \\\n",
       "0        Gasto de obra pública                        1   \n",
       "1        Gasto de obra pública                        1   \n",
       "2              Gasto corriente                        1   \n",
       "3              Gasto corriente                        1   \n",
       "4              Gasto corriente                        1   \n",
       "\n",
       "   Descripción de Fuente de Financiamiento Entidad Federativa  \\\n",
       "0                        Recursos fiscales                  9   \n",
       "1                        Recursos fiscales                  9   \n",
       "2                        Recursos fiscales                  9   \n",
       "3                        Recursos fiscales                  9   \n",
       "4                        Recursos fiscales                  9   \n",
       "\n",
       "   Descripción de Entidad Federativa Clave de Cartera  \\\n",
       "0                   Distrito Federal                0   \n",
       "1                   Distrito Federal                0   \n",
       "2                   Distrito Federal                0   \n",
       "3                   Distrito Federal                0   \n",
       "4                   Distrito Federal                0   \n",
       "\n",
       "    Importe Presupuesto de Egresos de la Federación (PEF)   \n",
       "0                                     $11,397,536.00        \n",
       "1                                    $166,970,738.00        \n",
       "2                                    $632,268,000.00        \n",
       "3                                    $356,286,670.00        \n",
       "4                                    $878,543,868.00        \n",
       "\n",
       "[5 rows x 27 columns]"
      ]
     },
     "execution_count": 231,
     "metadata": {},
     "output_type": "execute_result"
    }
   ],
   "source": [
    "pef[2015].head()"
   ]
  },
  {
   "cell_type": "code",
   "execution_count": 234,
   "metadata": {
    "collapsed": false
   },
   "outputs": [
    {
     "data": {
      "text/plain": [
       "Index(['Ciclo', 'Ramo', 'Descripción de Ramo', 'Unidad Responsable',\n",
       "       'Descripción de Unidad Responsable', 'Finalidad',\n",
       "       'Descripción de Finalidad', 'Función', 'Descripción de Función',\n",
       "       'Subfunción', 'Descripción de Subfunción', 'Actividad Institucional',\n",
       "       'Descripción de la Actividad Institucional',\n",
       "       'Identificador del Programa Presupuestario',\n",
       "       'Descripción del Identificador del Programa Presupuestario',\n",
       "       'Programa Presupuestario', 'Descripción de Programa Presupuestario',\n",
       "       'Objeto del Gasto', 'Descripción de Objeto del Gasto', 'Tipo de Gasto',\n",
       "       'Descripción de Tipo de Gasto', 'Fuente de Financiamiento',\n",
       "       'Descripción de Fuente de Financiamiento', 'Entidad Federativa',\n",
       "       'Descripción de Entidad Federativa', 'Clave de Cartera',\n",
       "       ' Importe Presupuesto de Egresos de la Federación (PEF) '],\n",
       "      dtype='object')"
      ]
     },
     "execution_count": 234,
     "metadata": {},
     "output_type": "execute_result"
    }
   ],
   "source": [
    "pef[2015].columns"
   ]
  },
  {
   "cell_type": "markdown",
   "metadata": {},
   "source": [
    "It's the same data but the files are smaller. What's the difference?"
   ]
  }
 ],
 "metadata": {
  "kernelspec": {
   "display_name": "Python 3",
   "language": "python",
   "name": "python3"
  },
  "language_info": {
   "codemirror_mode": {
    "name": "ipython",
    "version": 3
   },
   "file_extension": ".py",
   "mimetype": "text/x-python",
   "name": "python",
   "nbconvert_exporter": "python",
   "pygments_lexer": "ipython3",
   "version": "3.5.1+"
  }
 },
 "nbformat": 4,
 "nbformat_minor": 0
}
