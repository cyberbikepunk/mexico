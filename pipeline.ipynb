{
 "cells": [
  {
   "cell_type": "markdown",
   "metadata": {},
   "source": [
    "# Merge the Mexican Federal Budget files"
   ]
  },
  {
   "cell_type": "code",
   "execution_count": 1,
   "metadata": {
    "collapsed": true
   },
   "outputs": [],
   "source": [
    "from sys import stdout"
   ]
  },
  {
   "cell_type": "markdown",
   "metadata": {},
   "source": [
    "## Data ingestion\n",
    "\n",
    "Ingest all columns as raw strings."
   ]
  },
  {
   "cell_type": "code",
   "execution_count": 2,
   "metadata": {
    "collapsed": false
   },
   "outputs": [],
   "source": [
    "def read_columns(file):\n",
    "    with open(file, encoding='iso-8859-1') as csv:\n",
    "        header = csv.readline()\n",
    "        return header.replace('\\n', '').split(',')"
   ]
  },
  {
   "cell_type": "code",
   "execution_count": 3,
   "metadata": {
    "collapsed": false
   },
   "outputs": [],
   "source": [
    "def force_strings(columns):\n",
    "    for column in columns:\n",
    "        yield column, str"
   ]
  },
  {
   "cell_type": "code",
   "execution_count": 4,
   "metadata": {
    "collapsed": false
   },
   "outputs": [],
   "source": [
    "import cchardet as chardet\n",
    "\n",
    "def detect_encoding(years, file_format):\n",
    "    for year in years:\n",
    "        filename = file_format % year\n",
    "\n",
    "        with open(filename, 'rb') as f:\n",
    "            text = f.read()\n",
    "            \n",
    "        result = chardet.detect(text)\n",
    "        print('Inspecting', filename, result)"
   ]
  },
  {
   "cell_type": "code",
   "execution_count": 5,
   "metadata": {
    "collapsed": true
   },
   "outputs": [],
   "source": [
    "from pandas import read_csv\n",
    "\n",
    "def load_csv_files(years, file_format, encoding_):\n",
    "    df = {}\n",
    "    \n",
    "    for year in years:\n",
    "        filename = file_format % year\n",
    "        columns = read_columns(filename)\n",
    "        types = dict(force_strings(columns))\n",
    "        print('Loading', filename, 'with encoding:', encoding_)\n",
    "        stdout.flush()\n",
    "        \n",
    "        df[year] = read_csv(filename, encoding=encoding_, dtype=types)#, verbose=True)\n",
    "    \n",
    "    return df"
   ]
  },
  {
   "cell_type": "markdown",
   "metadata": {},
   "source": [
    "## Cleaning"
   ]
  },
  {
   "cell_type": "code",
   "execution_count": 6,
   "metadata": {
    "collapsed": true
   },
   "outputs": [],
   "source": [
    "from sys import stdout\n",
    "from numpy import nan\n",
    "\n",
    "def strip_blanks(batch):\n",
    "    for year in sorted(batch.keys()):\n",
    "        for column in batch[year].columns:\n",
    "            batch[year].rename(columns={column: column.strip()}, inplace=True)\n",
    "            batch[year][column].apply(lambda x: x.strip() if x is not nan else x)\n",
    "        print(year, 'stripped padding')\n",
    "        stdout.flush()"
   ]
  },
  {
   "cell_type": "code",
   "execution_count": 7,
   "metadata": {
    "collapsed": true
   },
   "outputs": [],
   "source": [
    "def delete_empty_columns(batch):\n",
    "    for year in batch.keys():\n",
    "        for column in batch[year].columns:\n",
    "            if 'Unnamed:' in column:\n",
    "                try:\n",
    "                    del batch[year][column]\n",
    "                    print(year, column, 'deleted')\n",
    "                    stdout.flush()\n",
    "                except KeyError:\n",
    "                    pass  "
   ]
  },
  {
   "cell_type": "code",
   "execution_count": 8,
   "metadata": {
    "collapsed": false
   },
   "outputs": [],
   "source": [
    "from numpy import count_nonzero\n",
    "from numpy import nan\n",
    "\n",
    "def count_empty_values(batch):\n",
    "    table = []\n",
    "\n",
    "    for column in get_union_of_columns(batch):\n",
    "        row = {'Column': column}\n",
    "        \n",
    "        for year in batch.keys():\n",
    "            if column in batch[year].columns:\n",
    "                nb_empty_cells = batch[year][column].apply(lambda x: 1 if x is nan else 0).sum()\n",
    "            else:\n",
    "                nb_empty_cells = nan\n",
    "                \n",
    "            row.update({year: nb_empty_cells})\n",
    "\n",
    "        table.append(row)\n",
    "        \n",
    "    ordered_columns = ['Column']\n",
    "    ordered_columns.extend(sorted(batch.keys()))\n",
    "    \n",
    "    return DataFrame(table).reindex_axis(ordered_columns, axis=1)"
   ]
  },
  {
   "cell_type": "markdown",
   "metadata": {},
   "source": [
    "## Mapping"
   ]
  },
  {
   "cell_type": "code",
   "execution_count": 9,
   "metadata": {
    "collapsed": true
   },
   "outputs": [],
   "source": [
    "def get_union_of_columns(batch):\n",
    "    union = set()\n",
    "    for year in batch.keys():\n",
    "        union = union | set(batch[year].columns)\n",
    "    return union"
   ]
  },
  {
   "cell_type": "code",
   "execution_count": 10,
   "metadata": {
    "collapsed": true
   },
   "outputs": [],
   "source": [
    "from yaml import load\n",
    "\n",
    "def load_aliases(file):\n",
    "    with open(file) as yaml:\n",
    "        aliases = load(yaml.read())\n",
    "        return aliases"
   ]
  },
  {
   "cell_type": "code",
   "execution_count": 11,
   "metadata": {
    "collapsed": true
   },
   "outputs": [],
   "source": [
    "def alias_columns(batch, list_of_aliases):\n",
    "    for year in sorted(batch.keys()):\n",
    "        for column in sorted(batch[year].columns):\n",
    "            if not column in list_of_aliases:\n",
    "                for reference, aliases in list_of_aliases.items():\n",
    "                    if aliases:\n",
    "                        if column in aliases:\n",
    "                            batch[year].rename(columns={column: reference}, inplace=True)\n",
    "                            print(year, column, 'replaced with', reference)\n",
    "                            stdout.flush()\n",
    "                            break  \n",
    "                else:\n",
    "                    print(year, 'NO ALIAS: ', column)\n",
    "                    stdout.flush()\n",
    "        print('\\nDone mapping', year, '\\n')\n",
    "        stdout.flush()"
   ]
  },
  {
   "cell_type": "code",
   "execution_count": 12,
   "metadata": {
    "collapsed": true
   },
   "outputs": [],
   "source": [
    "from pandas import DataFrame\n",
    "\n",
    "def build_overview(batch):\n",
    "    table = []\n",
    "    \n",
    "    for column in get_union_of_columns(batch):\n",
    "        row = {'Column': column}\n",
    "        for year in batch.keys():\n",
    "            row.update({year: column in batch[year].columns})\n",
    "        table.append(row)\n",
    "        \n",
    "    ordered_columns = ['Column']\n",
    "    ordered_columns.extend(sorted(batch.keys()))\n",
    "    \n",
    "    overview = DataFrame(table).reindex_axis(ordered_columns, axis=1)\n",
    "    return overview"
   ]
  },
  {
   "cell_type": "markdown",
   "metadata": {},
   "source": [
    "## Parse amount columns\n",
    "\n",
    "There's a little cleaning to do on the amount columns (zeros are represented by a dash and there is some whitespace padding). I might as well take care of this here to make sure I don't run into parsing problems later)."
   ]
  },
  {
   "cell_type": "code",
   "execution_count": 13,
   "metadata": {
    "collapsed": false
   },
   "outputs": [],
   "source": [
    "from numpy import nan\n",
    "\n",
    "amounts = ['Ejercido', 'Devengado', 'Aprobado', 'Pagado', 'Modificado', 'Adefas', 'Ejercicio']\n",
    "\n",
    "def clean_amount_columns(batch):\n",
    "    for year, df in sorted(batch.items()):\n",
    "        for amount in amounts:\n",
    "            try:\n",
    "                # Weird behaviour from pandas: although I coerced columns to strings, \n",
    "                # there are some nan values which pandas considers as floats.\n",
    "                series = batch[year][amount].apply(lambda x: '' if x is nan else x)\n",
    "                series = series.apply(lambda x: x.strip())\n",
    "                # '-' seem to represent a zero, judging from the value counts\n",
    "                series = series.apply(lambda x: '0' if x == '-' else x)\n",
    "                series = series.apply(lambda x: x.replace(',', ''))\n",
    "                batch[year][amount] = series\n",
    "                print(year, amount, 'cleaned numerical column')\n",
    "            except KeyError:\n",
    "                pass"
   ]
  },
  {
   "cell_type": "code",
   "execution_count": 23,
   "metadata": {
    "collapsed": false
   },
   "outputs": [],
   "source": [
    "from pandas import concat\n",
    "\n",
    "def do_pipeline(output_file):\n",
    "    print('\\nLoading files...\\n')\n",
    "    \n",
    "    # Load Cuenta Publica files\n",
    "    cp_years = range(2010, 2016)\n",
    "    cp_file_format = 'Cuenta_Publica_%s.csv'\n",
    "    cp = load_csv_files(cp_years, cp_file_format, 'windows-1252')\n",
    "    \n",
    "    # Load PEF 2016\n",
    "    pef_years = [2016]\n",
    "    pef_file_format = 'PEF%s_AC01.csv'\n",
    "    pef = load_csv_files(pef_years, pef_file_format, 'cp850')\n",
    "    \n",
    "    # Assemble the two datasets in one dictionary\n",
    "    datasets = cp\n",
    "    datasets.update(pef)\n",
    "    \n",
    "    print('\\nDelete empty columns...\\n')\n",
    "    delete_empty_columns(datasets)\n",
    "\n",
    "    print('\\nStrip padding from all cells...\\n')\n",
    "    strip_blanks(datasets)\n",
    "    \n",
    "    print('\\nMapping columns...\\n')\n",
    "    aliases = load_aliases('mexican_federal_budget_column_nomenclature.yaml')\n",
    "    alias_columns(datasets, aliases)\n",
    "\n",
    "    print('\\nCounting missing values...\\n')\n",
    "    empty_values_table = count_empty_values(datasets)\n",
    "    \n",
    "    print('\\nBuilding column overview...\\n')\n",
    "    overview_table = build_overview(datasets)\n",
    "    \n",
    "    print('\\nCleaning numerical columns...\\n')\n",
    "    clean_amount_columns(datasets)\n",
    "    \n",
    "    print('\\nMerging datasets...\\n')\n",
    "    merged_dataset = concat(list(datasets.values()))\n",
    "    \n",
    "    print('\\nSaving merged datasets to', output_file, '\\n')    \n",
    "#     merged_dataset.to_csv(output_file, encoding='utf-8', index=False)\n",
    "    \n",
    "    empty_counts_output_file = output_file.replace('csv', 'missing.csv')\n",
    "    print('\\nSaving missing values overview table to', empty_counts_output_file, '\\n')    \n",
    "    empty_values_table.to_csv(empty_counts_output_file, encoding='utf-8', index=False)\n",
    "\n",
    "    overview_output_file = output_file.replace('csv', 'columns.csv')\n",
    "    print('\\nSaving column overview to', overview_output_file, '\\n')    \n",
    "    overview_table.to_csv(overview_output_file, encoding='utf-8', index=False)\n",
    "\n",
    "    print('\\nPipeline done!', '\\n')\n",
    "    return merged_dataset, overview_table, empty_values_table, datasets"
   ]
  },
  {
   "cell_type": "code",
   "execution_count": 24,
   "metadata": {
    "collapsed": false
   },
   "outputs": [
    {
     "name": "stdout",
     "output_type": "stream",
     "text": [
      "\n",
      "Loading files...\n",
      "\n",
      "Loading Cuenta_Publica_2010.csv with encoding: windows-1252\n",
      "Loading Cuenta_Publica_2011.csv with encoding: windows-1252\n",
      "Loading Cuenta_Publica_2012.csv with encoding: windows-1252\n",
      "Loading Cuenta_Publica_2013.csv with encoding: windows-1252\n",
      "Loading Cuenta_Publica_2014.csv with encoding: windows-1252\n",
      "Loading Cuenta_Publica_2015.csv with encoding: windows-1252\n",
      "Loading PEF2016_AC01.csv with encoding: cp850\n",
      "\n",
      "Delete empty columns...\n",
      "\n",
      "2011 Unnamed: 25 deleted\n",
      "2011 Unnamed: 26 deleted\n",
      "2011 Unnamed: 27 deleted\n",
      "2011 Unnamed: 28 deleted\n",
      "2011 Unnamed: 29 deleted\n",
      "2011 Unnamed: 30 deleted\n",
      "2011 Unnamed: 31 deleted\n",
      "2011 Unnamed: 32 deleted\n",
      "2011 Unnamed: 33 deleted\n",
      "2011 Unnamed: 34 deleted\n",
      "2011 Unnamed: 35 deleted\n",
      "2011 Unnamed: 36 deleted\n",
      "2011 Unnamed: 37 deleted\n",
      "2011 Unnamed: 38 deleted\n",
      "2011 Unnamed: 39 deleted\n",
      "2011 Unnamed: 40 deleted\n",
      "2011 Unnamed: 41 deleted\n",
      "\n",
      "Strip padding from all cells...\n",
      "\n",
      "2010 stripped padding\n",
      "2011 stripped padding\n",
      "2012 stripped padding\n",
      "2013 stripped padding\n",
      "2014 stripped padding\n",
      "2015 stripped padding\n",
      "2016 stripped padding\n",
      "\n",
      "Mapping columns...\n",
      "\n",
      "2010 Descripción de Finalidad replaced with Descripción de Grupo Funcional\n",
      "2010 Finalidad replaced with Grupo Funcional\n",
      "\n",
      "Done mapping 2010 \n",
      "\n",
      "2011 Descripción de Finalidad replaced with Descripción de Grupo Funcional\n",
      "2011 Finalidad replaced with Grupo Funcional\n",
      "\n",
      "Done mapping 2011 \n",
      "\n",
      "2012 Descripción de Finalidad replaced with Descripción de Grupo Funcional\n",
      "2012 Finalidad replaced with Grupo Funcional\n",
      "\n",
      "Done mapping 2012 \n",
      "\n",
      "2013 Descripción de Finalidad replaced with Descripción de Grupo Funcional\n",
      "2013 Finalidad replaced with Grupo Funcional\n",
      "\n",
      "Done mapping 2013 \n",
      "\n",
      "2014 ADEFAS replaced with Adefas\n",
      "\n",
      "Done mapping 2014 \n",
      "\n",
      "\n",
      "Done mapping 2015 \n",
      "\n",
      "2016 ACTIVIDAD_INST_DESCRIPCION replaced with Descripción de la Actividad Institucional\n",
      "2016 AI replaced with Actividad Institucional\n",
      "2016 CLAVE_CARTERA replaced with Clave de cartera\n",
      "2016 CONCEPTO replaced with Objeto del Gasto\n",
      "2016 CONCEPTO_DESCRIPCION replaced with Descripción de Objeto del Gasto\n",
      "2016 EF replaced with Entidad Federativa\n",
      "2016 ENTIDAD_FED_DESCRIPCION replaced with Descripción de la entidad federativa\n",
      "2016 FF replaced with Fuente de Financiamiento\n",
      "2016 FN replaced with Función\n",
      "2016 FUENTE_FINAN_DESCRIPCION replaced with Descripción de Fuente de Financiamiento\n",
      "2016 FUNCIONL_DESCRIPCION replaced with Descripción de Función\n",
      "2016 GF replaced with Grupo Funcional\n",
      "2016 GRUPO_FUN_DESCRIPCION replaced with Descripción de Grupo Funcional\n",
      "2016 MOD replaced with Modalidad del Programa presupuestario\n",
      "2016 MODALIDAD_DESCRIPCION replaced with Descripción de la modalidad del programa presupuestario\n",
      "2016 PEF_2016 replaced with Aprobado\n",
      "2016 PP replaced with Programa Presupuestario\n",
      "2016 PROGR_PRES_DESCRIPCION replaced with Descripción de Programa Presupuestario\n",
      "2016 RA replaced with Reasignacion\n",
      "2016 RAMO_DESCRIPCION replaced with Descripción de Ramo\n",
      "2016 REASIGNACION_DESCRIPCION replaced with Descripción de Reasignacion\n",
      "2016 SF replaced with Subfunción\n",
      "2016 SUBFUNCIONL_DESCRIPCION replaced with Descripción de Subfunción\n",
      "2016 TG replaced with Tipo de Gasto\n",
      "2016 TIPO_GASTO_DESCRIPCION replaced with Descripción de Tipo de Gasto\n",
      "2016 UNIDAD replaced with Unidad Responsable\n",
      "2016 UNIDAD_DESCRIPCION replaced with Descripción de Unidad Responsable\n",
      "\n",
      "Done mapping 2016 \n",
      "\n",
      "\n",
      "Counting missing values...\n",
      "\n",
      "\n",
      "Building column overview...\n",
      "\n",
      "\n",
      "Cleaning numerical columns...\n",
      "\n",
      "2010 Ejercido cleaned numerical column\n",
      "2010 Aprobado cleaned numerical column\n",
      "2011 Ejercido cleaned numerical column\n",
      "2011 Aprobado cleaned numerical column\n",
      "2012 Ejercido cleaned numerical column\n",
      "2012 Aprobado cleaned numerical column\n",
      "2013 Ejercido cleaned numerical column\n",
      "2013 Devengado cleaned numerical column\n",
      "2013 Aprobado cleaned numerical column\n",
      "2014 Devengado cleaned numerical column\n",
      "2014 Aprobado cleaned numerical column\n",
      "2014 Pagado cleaned numerical column\n",
      "2014 Modificado cleaned numerical column\n",
      "2014 Adefas cleaned numerical column\n",
      "2014 Ejercicio cleaned numerical column\n",
      "2015 Devengado cleaned numerical column\n",
      "2015 Aprobado cleaned numerical column\n",
      "2015 Pagado cleaned numerical column\n",
      "2015 Modificado cleaned numerical column\n",
      "2015 Adefas cleaned numerical column\n",
      "2015 Ejercicio cleaned numerical column\n",
      "2016 Aprobado cleaned numerical column\n",
      "\n",
      "Merging datasets...\n",
      "\n",
      "\n",
      "Saving merged datasets to mexican_federal_budget.2010_to_2016.merged.iteration2.csv \n",
      "\n",
      "\n",
      "Saving missing values overview table to mexican_federal_budget.2010_to_2016.merged.iteration2.missing.csv \n",
      "\n",
      "\n",
      "Saving column overview to mexican_federal_budget.2010_to_2016.merged.iteration2.columns.csv \n",
      "\n",
      "\n",
      "Pipeline done! \n",
      "\n"
     ]
    }
   ],
   "source": [
    "mexico, overview, empties, datasets = do_pipeline('mexican_federal_budget.2010_to_2016.merged.iteration2.csv')"
   ]
  },
  {
   "cell_type": "markdown",
   "metadata": {},
   "source": [
    "## Quality control"
   ]
  },
  {
   "cell_type": "code",
   "execution_count": 16,
   "metadata": {
    "collapsed": false
   },
   "outputs": [
    {
     "name": "stdout",
     "output_type": "stream",
     "text": [
      "2016 0\n",
      "2010 34\n",
      "2011 37\n",
      "2012 560\n",
      "2013 0\n",
      "2014 47\n",
      "2015 16\n"
     ]
    }
   ],
   "source": [
    "# for value in cp[2012]['Descripción de la entidad federativa'].values:\n",
    "#     try:\n",
    "#         value.strip()\n",
    "#     except:\n",
    "#         print(value)\n",
    "#         print(type(value))\n",
    "#         print(str(value))\n",
    "\n",
    "for year, df in datasets.items():\n",
    "    print(year, df.duplicated().apply(lambda x: 1 if x is True else 0).sum())"
   ]
  },
  {
   "cell_type": "code",
   "execution_count": 25,
   "metadata": {
    "collapsed": false
   },
   "outputs": [
    {
     "data": {
      "text/html": [
       "<div>\n",
       "<table border=\"1\" class=\"dataframe\">\n",
       "  <thead>\n",
       "    <tr style=\"text-align: right;\">\n",
       "      <th></th>\n",
       "      <th>Column</th>\n",
       "      <th>2010</th>\n",
       "      <th>2011</th>\n",
       "      <th>2012</th>\n",
       "      <th>2013</th>\n",
       "      <th>2014</th>\n",
       "      <th>2015</th>\n",
       "      <th>2016</th>\n",
       "    </tr>\n",
       "  </thead>\n",
       "  <tbody>\n",
       "    <tr>\n",
       "      <th>0</th>\n",
       "      <td>Descripción de Grupo Funcional</td>\n",
       "      <td>0.0</td>\n",
       "      <td>0.0</td>\n",
       "      <td>0.0</td>\n",
       "      <td>0.0</td>\n",
       "      <td>0.0</td>\n",
       "      <td>0.0</td>\n",
       "      <td>0.0</td>\n",
       "    </tr>\n",
       "    <tr>\n",
       "      <th>1</th>\n",
       "      <td>Objeto del Gasto</td>\n",
       "      <td>0.0</td>\n",
       "      <td>1.0</td>\n",
       "      <td>0.0</td>\n",
       "      <td>0.0</td>\n",
       "      <td>0.0</td>\n",
       "      <td>0.0</td>\n",
       "      <td>0.0</td>\n",
       "    </tr>\n",
       "    <tr>\n",
       "      <th>2</th>\n",
       "      <td>Tipo de Gasto</td>\n",
       "      <td>0.0</td>\n",
       "      <td>1.0</td>\n",
       "      <td>0.0</td>\n",
       "      <td>0.0</td>\n",
       "      <td>0.0</td>\n",
       "      <td>0.0</td>\n",
       "      <td>0.0</td>\n",
       "    </tr>\n",
       "    <tr>\n",
       "      <th>3</th>\n",
       "      <td>Descripción de Unidad Responsable</td>\n",
       "      <td>0.0</td>\n",
       "      <td>0.0</td>\n",
       "      <td>0.0</td>\n",
       "      <td>0.0</td>\n",
       "      <td>0.0</td>\n",
       "      <td>0.0</td>\n",
       "      <td>0.0</td>\n",
       "    </tr>\n",
       "    <tr>\n",
       "      <th>4</th>\n",
       "      <td>Modalidad del Programa presupuestario</td>\n",
       "      <td>0.0</td>\n",
       "      <td>1.0</td>\n",
       "      <td>0.0</td>\n",
       "      <td>0.0</td>\n",
       "      <td>0.0</td>\n",
       "      <td>0.0</td>\n",
       "      <td>0.0</td>\n",
       "    </tr>\n",
       "    <tr>\n",
       "      <th>5</th>\n",
       "      <td>Subfunción</td>\n",
       "      <td>0.0</td>\n",
       "      <td>0.0</td>\n",
       "      <td>0.0</td>\n",
       "      <td>0.0</td>\n",
       "      <td>0.0</td>\n",
       "      <td>0.0</td>\n",
       "      <td>0.0</td>\n",
       "    </tr>\n",
       "    <tr>\n",
       "      <th>6</th>\n",
       "      <td>Descripción de la modalidad del programa presu...</td>\n",
       "      <td>0.0</td>\n",
       "      <td>1.0</td>\n",
       "      <td>0.0</td>\n",
       "      <td>0.0</td>\n",
       "      <td>0.0</td>\n",
       "      <td>0.0</td>\n",
       "      <td>0.0</td>\n",
       "    </tr>\n",
       "    <tr>\n",
       "      <th>7</th>\n",
       "      <td>Descripción de Reasignacion</td>\n",
       "      <td>NaN</td>\n",
       "      <td>NaN</td>\n",
       "      <td>NaN</td>\n",
       "      <td>NaN</td>\n",
       "      <td>NaN</td>\n",
       "      <td>NaN</td>\n",
       "      <td>0.0</td>\n",
       "    </tr>\n",
       "    <tr>\n",
       "      <th>8</th>\n",
       "      <td>Descripción de Tipo de Gasto</td>\n",
       "      <td>0.0</td>\n",
       "      <td>1.0</td>\n",
       "      <td>0.0</td>\n",
       "      <td>0.0</td>\n",
       "      <td>0.0</td>\n",
       "      <td>0.0</td>\n",
       "      <td>0.0</td>\n",
       "    </tr>\n",
       "    <tr>\n",
       "      <th>9</th>\n",
       "      <td>Programa Presupuestario</td>\n",
       "      <td>0.0</td>\n",
       "      <td>1.0</td>\n",
       "      <td>0.0</td>\n",
       "      <td>0.0</td>\n",
       "      <td>0.0</td>\n",
       "      <td>0.0</td>\n",
       "      <td>0.0</td>\n",
       "    </tr>\n",
       "    <tr>\n",
       "      <th>10</th>\n",
       "      <td>Modificado</td>\n",
       "      <td>NaN</td>\n",
       "      <td>NaN</td>\n",
       "      <td>NaN</td>\n",
       "      <td>NaN</td>\n",
       "      <td>0.0</td>\n",
       "      <td>0.0</td>\n",
       "      <td>NaN</td>\n",
       "    </tr>\n",
       "    <tr>\n",
       "      <th>11</th>\n",
       "      <td>Descripción de Programa Presupuestario</td>\n",
       "      <td>0.0</td>\n",
       "      <td>1.0</td>\n",
       "      <td>0.0</td>\n",
       "      <td>0.0</td>\n",
       "      <td>0.0</td>\n",
       "      <td>0.0</td>\n",
       "      <td>0.0</td>\n",
       "    </tr>\n",
       "    <tr>\n",
       "      <th>12</th>\n",
       "      <td>Entidad Federativa</td>\n",
       "      <td>NaN</td>\n",
       "      <td>NaN</td>\n",
       "      <td>0.0</td>\n",
       "      <td>0.0</td>\n",
       "      <td>0.0</td>\n",
       "      <td>0.0</td>\n",
       "      <td>0.0</td>\n",
       "    </tr>\n",
       "    <tr>\n",
       "      <th>13</th>\n",
       "      <td>Fuente de Financiamiento</td>\n",
       "      <td>0.0</td>\n",
       "      <td>1.0</td>\n",
       "      <td>0.0</td>\n",
       "      <td>0.0</td>\n",
       "      <td>0.0</td>\n",
       "      <td>0.0</td>\n",
       "      <td>0.0</td>\n",
       "    </tr>\n",
       "    <tr>\n",
       "      <th>14</th>\n",
       "      <td>Descripción de Función</td>\n",
       "      <td>0.0</td>\n",
       "      <td>0.0</td>\n",
       "      <td>0.0</td>\n",
       "      <td>0.0</td>\n",
       "      <td>0.0</td>\n",
       "      <td>0.0</td>\n",
       "      <td>0.0</td>\n",
       "    </tr>\n",
       "    <tr>\n",
       "      <th>15</th>\n",
       "      <td>Descripción de la entidad federativa</td>\n",
       "      <td>NaN</td>\n",
       "      <td>NaN</td>\n",
       "      <td>172.0</td>\n",
       "      <td>0.0</td>\n",
       "      <td>0.0</td>\n",
       "      <td>0.0</td>\n",
       "      <td>0.0</td>\n",
       "    </tr>\n",
       "    <tr>\n",
       "      <th>16</th>\n",
       "      <td>Ejercicio</td>\n",
       "      <td>NaN</td>\n",
       "      <td>NaN</td>\n",
       "      <td>NaN</td>\n",
       "      <td>NaN</td>\n",
       "      <td>0.0</td>\n",
       "      <td>0.0</td>\n",
       "      <td>NaN</td>\n",
       "    </tr>\n",
       "    <tr>\n",
       "      <th>17</th>\n",
       "      <td>Descripción de la Actividad Institucional</td>\n",
       "      <td>0.0</td>\n",
       "      <td>1.0</td>\n",
       "      <td>0.0</td>\n",
       "      <td>0.0</td>\n",
       "      <td>0.0</td>\n",
       "      <td>0.0</td>\n",
       "      <td>0.0</td>\n",
       "    </tr>\n",
       "    <tr>\n",
       "      <th>18</th>\n",
       "      <td>Pagado</td>\n",
       "      <td>NaN</td>\n",
       "      <td>NaN</td>\n",
       "      <td>NaN</td>\n",
       "      <td>NaN</td>\n",
       "      <td>0.0</td>\n",
       "      <td>0.0</td>\n",
       "      <td>NaN</td>\n",
       "    </tr>\n",
       "    <tr>\n",
       "      <th>19</th>\n",
       "      <td>Ejercido</td>\n",
       "      <td>0.0</td>\n",
       "      <td>1.0</td>\n",
       "      <td>0.0</td>\n",
       "      <td>0.0</td>\n",
       "      <td>NaN</td>\n",
       "      <td>NaN</td>\n",
       "      <td>NaN</td>\n",
       "    </tr>\n",
       "    <tr>\n",
       "      <th>20</th>\n",
       "      <td>Actividad Institucional</td>\n",
       "      <td>0.0</td>\n",
       "      <td>0.0</td>\n",
       "      <td>0.0</td>\n",
       "      <td>0.0</td>\n",
       "      <td>0.0</td>\n",
       "      <td>0.0</td>\n",
       "      <td>0.0</td>\n",
       "    </tr>\n",
       "    <tr>\n",
       "      <th>21</th>\n",
       "      <td>Descripción de Fuente de Financiamiento</td>\n",
       "      <td>0.0</td>\n",
       "      <td>1.0</td>\n",
       "      <td>0.0</td>\n",
       "      <td>0.0</td>\n",
       "      <td>0.0</td>\n",
       "      <td>0.0</td>\n",
       "      <td>0.0</td>\n",
       "    </tr>\n",
       "    <tr>\n",
       "      <th>22</th>\n",
       "      <td>Unidad Responsable</td>\n",
       "      <td>0.0</td>\n",
       "      <td>0.0</td>\n",
       "      <td>0.0</td>\n",
       "      <td>0.0</td>\n",
       "      <td>0.0</td>\n",
       "      <td>0.0</td>\n",
       "      <td>0.0</td>\n",
       "    </tr>\n",
       "    <tr>\n",
       "      <th>23</th>\n",
       "      <td>Descripción de Subfunción</td>\n",
       "      <td>0.0</td>\n",
       "      <td>0.0</td>\n",
       "      <td>0.0</td>\n",
       "      <td>0.0</td>\n",
       "      <td>0.0</td>\n",
       "      <td>0.0</td>\n",
       "      <td>0.0</td>\n",
       "    </tr>\n",
       "    <tr>\n",
       "      <th>24</th>\n",
       "      <td>Descripción de Objeto del Gasto</td>\n",
       "      <td>0.0</td>\n",
       "      <td>1.0</td>\n",
       "      <td>28.0</td>\n",
       "      <td>0.0</td>\n",
       "      <td>0.0</td>\n",
       "      <td>0.0</td>\n",
       "      <td>0.0</td>\n",
       "    </tr>\n",
       "    <tr>\n",
       "      <th>25</th>\n",
       "      <td>Adefas</td>\n",
       "      <td>NaN</td>\n",
       "      <td>NaN</td>\n",
       "      <td>NaN</td>\n",
       "      <td>NaN</td>\n",
       "      <td>0.0</td>\n",
       "      <td>0.0</td>\n",
       "      <td>NaN</td>\n",
       "    </tr>\n",
       "    <tr>\n",
       "      <th>26</th>\n",
       "      <td>Descripción de Ramo</td>\n",
       "      <td>0.0</td>\n",
       "      <td>0.0</td>\n",
       "      <td>0.0</td>\n",
       "      <td>0.0</td>\n",
       "      <td>0.0</td>\n",
       "      <td>0.0</td>\n",
       "      <td>0.0</td>\n",
       "    </tr>\n",
       "    <tr>\n",
       "      <th>27</th>\n",
       "      <td>Clave de cartera</td>\n",
       "      <td>NaN</td>\n",
       "      <td>NaN</td>\n",
       "      <td>0.0</td>\n",
       "      <td>0.0</td>\n",
       "      <td>0.0</td>\n",
       "      <td>0.0</td>\n",
       "      <td>0.0</td>\n",
       "    </tr>\n",
       "    <tr>\n",
       "      <th>28</th>\n",
       "      <td>Ciclo</td>\n",
       "      <td>0.0</td>\n",
       "      <td>0.0</td>\n",
       "      <td>0.0</td>\n",
       "      <td>0.0</td>\n",
       "      <td>0.0</td>\n",
       "      <td>0.0</td>\n",
       "      <td>0.0</td>\n",
       "    </tr>\n",
       "    <tr>\n",
       "      <th>29</th>\n",
       "      <td>Grupo Funcional</td>\n",
       "      <td>0.0</td>\n",
       "      <td>0.0</td>\n",
       "      <td>0.0</td>\n",
       "      <td>0.0</td>\n",
       "      <td>0.0</td>\n",
       "      <td>0.0</td>\n",
       "      <td>0.0</td>\n",
       "    </tr>\n",
       "    <tr>\n",
       "      <th>30</th>\n",
       "      <td>Función</td>\n",
       "      <td>0.0</td>\n",
       "      <td>0.0</td>\n",
       "      <td>0.0</td>\n",
       "      <td>0.0</td>\n",
       "      <td>0.0</td>\n",
       "      <td>0.0</td>\n",
       "      <td>0.0</td>\n",
       "    </tr>\n",
       "    <tr>\n",
       "      <th>31</th>\n",
       "      <td>Devengado</td>\n",
       "      <td>NaN</td>\n",
       "      <td>NaN</td>\n",
       "      <td>NaN</td>\n",
       "      <td>0.0</td>\n",
       "      <td>0.0</td>\n",
       "      <td>0.0</td>\n",
       "      <td>NaN</td>\n",
       "    </tr>\n",
       "    <tr>\n",
       "      <th>32</th>\n",
       "      <td>Aprobado</td>\n",
       "      <td>0.0</td>\n",
       "      <td>1.0</td>\n",
       "      <td>1.0</td>\n",
       "      <td>0.0</td>\n",
       "      <td>0.0</td>\n",
       "      <td>0.0</td>\n",
       "      <td>0.0</td>\n",
       "    </tr>\n",
       "    <tr>\n",
       "      <th>33</th>\n",
       "      <td>Reasignacion</td>\n",
       "      <td>NaN</td>\n",
       "      <td>NaN</td>\n",
       "      <td>NaN</td>\n",
       "      <td>NaN</td>\n",
       "      <td>NaN</td>\n",
       "      <td>NaN</td>\n",
       "      <td>0.0</td>\n",
       "    </tr>\n",
       "    <tr>\n",
       "      <th>34</th>\n",
       "      <td>Ramo</td>\n",
       "      <td>0.0</td>\n",
       "      <td>0.0</td>\n",
       "      <td>0.0</td>\n",
       "      <td>0.0</td>\n",
       "      <td>0.0</td>\n",
       "      <td>0.0</td>\n",
       "      <td>0.0</td>\n",
       "    </tr>\n",
       "  </tbody>\n",
       "</table>\n",
       "</div>"
      ],
      "text/plain": [
       "                                               Column  2010  2011   2012  \\\n",
       "0                      Descripción de Grupo Funcional   0.0   0.0    0.0   \n",
       "1                                    Objeto del Gasto   0.0   1.0    0.0   \n",
       "2                                       Tipo de Gasto   0.0   1.0    0.0   \n",
       "3                   Descripción de Unidad Responsable   0.0   0.0    0.0   \n",
       "4               Modalidad del Programa presupuestario   0.0   1.0    0.0   \n",
       "5                                          Subfunción   0.0   0.0    0.0   \n",
       "6   Descripción de la modalidad del programa presu...   0.0   1.0    0.0   \n",
       "7                         Descripción de Reasignacion   NaN   NaN    NaN   \n",
       "8                        Descripción de Tipo de Gasto   0.0   1.0    0.0   \n",
       "9                             Programa Presupuestario   0.0   1.0    0.0   \n",
       "10                                         Modificado   NaN   NaN    NaN   \n",
       "11             Descripción de Programa Presupuestario   0.0   1.0    0.0   \n",
       "12                                 Entidad Federativa   NaN   NaN    0.0   \n",
       "13                           Fuente de Financiamiento   0.0   1.0    0.0   \n",
       "14                             Descripción de Función   0.0   0.0    0.0   \n",
       "15               Descripción de la entidad federativa   NaN   NaN  172.0   \n",
       "16                                          Ejercicio   NaN   NaN    NaN   \n",
       "17          Descripción de la Actividad Institucional   0.0   1.0    0.0   \n",
       "18                                             Pagado   NaN   NaN    NaN   \n",
       "19                                           Ejercido   0.0   1.0    0.0   \n",
       "20                            Actividad Institucional   0.0   0.0    0.0   \n",
       "21            Descripción de Fuente de Financiamiento   0.0   1.0    0.0   \n",
       "22                                 Unidad Responsable   0.0   0.0    0.0   \n",
       "23                          Descripción de Subfunción   0.0   0.0    0.0   \n",
       "24                    Descripción de Objeto del Gasto   0.0   1.0   28.0   \n",
       "25                                             Adefas   NaN   NaN    NaN   \n",
       "26                                Descripción de Ramo   0.0   0.0    0.0   \n",
       "27                                   Clave de cartera   NaN   NaN    0.0   \n",
       "28                                              Ciclo   0.0   0.0    0.0   \n",
       "29                                    Grupo Funcional   0.0   0.0    0.0   \n",
       "30                                            Función   0.0   0.0    0.0   \n",
       "31                                          Devengado   NaN   NaN    NaN   \n",
       "32                                           Aprobado   0.0   1.0    1.0   \n",
       "33                                       Reasignacion   NaN   NaN    NaN   \n",
       "34                                               Ramo   0.0   0.0    0.0   \n",
       "\n",
       "    2013  2014  2015  2016  \n",
       "0    0.0   0.0   0.0   0.0  \n",
       "1    0.0   0.0   0.0   0.0  \n",
       "2    0.0   0.0   0.0   0.0  \n",
       "3    0.0   0.0   0.0   0.0  \n",
       "4    0.0   0.0   0.0   0.0  \n",
       "5    0.0   0.0   0.0   0.0  \n",
       "6    0.0   0.0   0.0   0.0  \n",
       "7    NaN   NaN   NaN   0.0  \n",
       "8    0.0   0.0   0.0   0.0  \n",
       "9    0.0   0.0   0.0   0.0  \n",
       "10   NaN   0.0   0.0   NaN  \n",
       "11   0.0   0.0   0.0   0.0  \n",
       "12   0.0   0.0   0.0   0.0  \n",
       "13   0.0   0.0   0.0   0.0  \n",
       "14   0.0   0.0   0.0   0.0  \n",
       "15   0.0   0.0   0.0   0.0  \n",
       "16   NaN   0.0   0.0   NaN  \n",
       "17   0.0   0.0   0.0   0.0  \n",
       "18   NaN   0.0   0.0   NaN  \n",
       "19   0.0   NaN   NaN   NaN  \n",
       "20   0.0   0.0   0.0   0.0  \n",
       "21   0.0   0.0   0.0   0.0  \n",
       "22   0.0   0.0   0.0   0.0  \n",
       "23   0.0   0.0   0.0   0.0  \n",
       "24   0.0   0.0   0.0   0.0  \n",
       "25   NaN   0.0   0.0   NaN  \n",
       "26   0.0   0.0   0.0   0.0  \n",
       "27   0.0   0.0   0.0   0.0  \n",
       "28   0.0   0.0   0.0   0.0  \n",
       "29   0.0   0.0   0.0   0.0  \n",
       "30   0.0   0.0   0.0   0.0  \n",
       "31   0.0   0.0   0.0   NaN  \n",
       "32   0.0   0.0   0.0   0.0  \n",
       "33   NaN   NaN   NaN   0.0  \n",
       "34   0.0   0.0   0.0   0.0  "
      ]
     },
     "execution_count": 25,
     "metadata": {},
     "output_type": "execute_result"
    }
   ],
   "source": [
    "empties"
   ]
  },
  {
   "cell_type": "code",
   "execution_count": 18,
   "metadata": {
    "collapsed": false
   },
   "outputs": [
    {
     "data": {
      "text/plain": [
       "Gasto corriente                                                                                                                                                                     1020963\n",
       "Gasto de obra pública                                                                                                                                                                199927\n",
       "Gasto corriente por concepto de gastos indirectos de programas de subsidios                                                                                                           72246\n",
       "Gasto de capital diferente de obra pública                                                                                                                                            30285\n",
       "Participaciones                                                                                                                                                                         676\n",
       "Gasto de inversión por concepto de gastos indirectos de programas de subsidios                                                                                                          659\n",
       "Pensiones y jubilaciones                                                                                                                                                                440\n",
       "Gasto corriente por concepto de recursos otorgados a fideicomisos públicos no considerados entidad paraestatal cuyo propósito financiero se limite a la administración y pago           198\n",
       "Gasto de inversión por concepto de recursos otorgados a fideicomisos públicos no considerados entidad paraestatal cuyo propósito financiero se limite a la administración y pago        103\n",
       "Gasto de inversión por concepto de subsidios a través de fideicomisos privados o estatales                                                                                               13\n",
       "Gasto corriente por concepto de subsidios a través de fideicomisos privados o estatales                                                                                                   1\n",
       "Name: Descripción de Tipo de Gasto, dtype: int64"
      ]
     },
     "execution_count": 18,
     "metadata": {},
     "output_type": "execute_result"
    }
   ],
   "source": [
    "mexico['Descripción de Tipo de Gasto'].value_counts()"
   ]
  },
  {
   "cell_type": "code",
   "execution_count": 19,
   "metadata": {
    "collapsed": false
   },
   "outputs": [
    {
     "name": "stdout",
     "output_type": "stream",
     "text": [
      "-rw-rw-r-- 1 loic loic 610M Aug 10 10:15 mexican_federal_budget.2010_to_2016.merged.backup.csv\r\n",
      "-rw-rw-r-- 1 loic loic 2.1K Aug 10 10:19 mexican_federal_budget.2010_to_2016.merged.columns.csv\r\n",
      "-rw-rw-r-- 1 loic loic 610M Aug 10 10:19 mexican_federal_budget.2010_to_2016.merged.csv\r\n",
      "-rw-rw-r-- 1 loic loic 2.1K Aug 11 17:32 mexican_federal_budget.2010_to_2016.merged.iteration2.columns.csv\r\n",
      "-rw-rw-r-- 1 loic loic 610M Aug 11 16:39 mexican_federal_budget.2010_to_2016.merged.iteration2.csv\r\n",
      "-rw-rw-r-- 1 loic loic 2.1K Aug 11 17:32 mexican_federal_budget.2010_to_2016.merged.iteration2.missing.csv\r\n",
      "-rw-rw-r-- 1 loic loic 379K Aug 10 07:36 mexican_federal_budget.2010_to_2016.merged.sample1000.csv\r\n"
     ]
    }
   ],
   "source": [
    "ls -lh | grep mexican_federal_budget.2010_to_2016"
   ]
  },
  {
   "cell_type": "code",
   "execution_count": 20,
   "metadata": {
    "collapsed": false
   },
   "outputs": [
    {
     "name": "stdout",
     "output_type": "stream",
     "text": [
      "Actividad Institucional,Adefas,Aprobado,Ciclo,Clave de cartera,Descripción de Fuente de Financiamiento,Descripción de Función,Descripción de Grupo Funcional,Descripción de Objeto del Gasto,Descripción de Programa Presupuestario,Descripción de Ramo,Descripción de Reasignacion,Descripción de Subfunción,Descripción de Tipo de Gasto,Descripción de Unidad Responsable,Descripción de la Actividad Institucional,Descripción de la entidad federativa,Descripción de la modalidad del programa presupuestario,Devengado,Ejercicio,Ejercido,Entidad Federativa,Fuente de Financiamiento,Función,Grupo Funcional,Modalidad del Programa presupuestario,Modificado,Objeto del Gasto,Pagado,Programa Presupuestario,Ramo,Reasignacion,Subfunción,Tipo de Gasto,Unidad Responsable\r\n",
      "cat: write error: Broken pipe\r\n"
     ]
    }
   ],
   "source": [
    "cat mexican_federal_budget.2010_to_2016.merged.csv | head -n 1"
   ]
  },
  {
   "cell_type": "code",
   "execution_count": 21,
   "metadata": {
    "collapsed": false
   },
   "outputs": [
    {
     "data": {
      "text/plain": [
       "Transporte                                                                                       52861\n",
       "Coordinación de la Política de Gobierno                                                          34572\n",
       "Justicia                                                                                         19123\n",
       "Agropecuaria, Silvicultura, Pesca y Caza                                                         18344\n",
       "Protección Ambiental                                                                             15930\n",
       "Asuntos Económicos, Comerciales y Laborales en General                                           14747\n",
       "Protección Social                                                                                13398\n",
       "Educación                                                                                        12635\n",
       "Salud                                                                                            10325\n",
       "Otros Servicios Generales                                                                         9546\n",
       "Seguridad Nacional                                                                                7768\n",
       "Ciencia, Tecnología e Innovación                                                                  6932\n",
       "Vivienda y Servicios a la Comunidad                                                               4901\n",
       "Asuntos Financieros y Hacendarios                                                                 4615\n",
       "Comunicaciones                                                                                    4055\n",
       "Turismo                                                                                           3173\n",
       "Asuntos de Orden Público y de Seguridad Interior                                                  2784\n",
       "Recreación, Cultura y Otras Manifestaciones Sociales                                              2752\n",
       "Combustibles y Energía                                                                            2317\n",
       "Relaciones Exteriores                                                                             1815\n",
       "Legislación                                                                                        421\n",
       "Minería, Manufacturas y Construcción                                                               244\n",
       "Transferencias, Participaciones y Aportaciones entre diferentes Niveles y Ordenes de Gobierno      129\n",
       "Otros Asuntos Sociales                                                                              59\n",
       "Transacciones de la Deuda Pública / Costo Financiero de la Deuda                                    20\n",
       "Saneamiento del Sistema Financiero                                                                  10\n",
       "Adeudos de Ejercicios Fiscales Anteriores                                                            1\n",
       "Name: Descripción de Función, dtype: int64"
      ]
     },
     "execution_count": 21,
     "metadata": {},
     "output_type": "execute_result"
    }
   ],
   "source": [
    "datasets[2014]['Descripción de Función'].value_counts()"
   ]
  },
  {
   "cell_type": "code",
   "execution_count": 22,
   "metadata": {
    "collapsed": false
   },
   "outputs": [
    {
     "ename": "SyntaxError",
     "evalue": "invalid syntax (<ipython-input-22-f9087391caa5>, line 1)",
     "output_type": "error",
     "traceback": [
      "\u001b[0;36m  File \u001b[0;32m\"<ipython-input-22-f9087391caa5>\"\u001b[0;36m, line \u001b[0;32m1\u001b[0m\n\u001b[0;31m    datasets[2014]['Función'].\u001b[0m\n\u001b[0m                              ^\u001b[0m\n\u001b[0;31mSyntaxError\u001b[0m\u001b[0;31m:\u001b[0m invalid syntax\n"
     ]
    }
   ],
   "source": [
    "datasets[2014]['Función']."
   ]
  },
  {
   "cell_type": "code",
   "execution_count": null,
   "metadata": {
    "collapsed": false
   },
   "outputs": [],
   "source": [
    "nan in mexico['Descripción de Objeto del Gasto'].unique()"
   ]
  },
  {
   "cell_type": "code",
   "execution_count": null,
   "metadata": {
    "collapsed": false
   },
   "outputs": [],
   "source": [
    "nan in list(mexico['Descripción de la entidad federativa'].unique())"
   ]
  },
  {
   "cell_type": "code",
   "execution_count": null,
   "metadata": {
    "collapsed": false
   },
   "outputs": [],
   "source": [
    "from numpy import nan\n",
    "\n",
    "nan in list(mexico['Entidad Federativa'].unique())"
   ]
  },
  {
   "cell_type": "code",
   "execution_count": null,
   "metadata": {
    "collapsed": false
   },
   "outputs": [],
   "source": [
    "'0' in mexico['Entidad Federativa'].unique()"
   ]
  },
  {
   "cell_type": "code",
   "execution_count": null,
   "metadata": {
    "collapsed": false
   },
   "outputs": [],
   "source": [
    "from numpy import count_nonzero\n",
    "\n",
    "count_nonzero(mexico['Entidad Federativa'].isnull()"
   ]
  },
  {
   "cell_type": "code",
   "execution_count": null,
   "metadata": {
    "collapsed": false
   },
   "outputs": [],
   "source": [
    "datasets[2012]['Programa Presupuestario'].apply(lambda x: 1 if x is nan else 0).sum()"
   ]
  },
  {
   "cell_type": "code",
   "execution_count": null,
   "metadata": {
    "collapsed": true
   },
   "outputs": [],
   "source": []
  }
 ],
 "metadata": {
  "kernelspec": {
   "display_name": "Python 3",
   "language": "python",
   "name": "python3"
  },
  "language_info": {
   "codemirror_mode": {
    "name": "ipython",
    "version": 3
   },
   "file_extension": ".py",
   "mimetype": "text/x-python",
   "name": "python",
   "nbconvert_exporter": "python",
   "pygments_lexer": "ipython3",
   "version": "3.5.1+"
  }
 },
 "nbformat": 4,
 "nbformat_minor": 0
}
