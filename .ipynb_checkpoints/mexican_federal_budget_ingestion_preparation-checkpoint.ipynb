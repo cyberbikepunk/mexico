{
 "cells": [
  {
   "cell_type": "markdown",
   "metadata": {},
   "source": [
    "# Mexican Federal Budget multi-year ingestion "
   ]
  },
  {
   "cell_type": "code",
   "execution_count": 3,
   "metadata": {
    "collapsed": false
   },
   "outputs": [],
   "source": [
    "from pandas import read_csv"
   ]
  },
  {
   "cell_type": "markdown",
   "metadata": {},
   "source": [
    "## Cuenta_Publica_YYYY.csv files\n",
    "Import one file to check it out"
   ]
  },
  {
   "cell_type": "code",
   "execution_count": 4,
   "metadata": {
    "collapsed": false
   },
   "outputs": [],
   "source": [
    "mx_2010 = read_csv('Cuenta_Publica_2010.csv', encoding='iso-8859-1')"
   ]
  },
  {
   "cell_type": "code",
   "execution_count": 5,
   "metadata": {
    "collapsed": false
   },
   "outputs": [
    {
     "name": "stdout",
     "output_type": "stream",
     "text": [
      "<class 'pandas.core.frame.DataFrame'>\n",
      "RangeIndex: 129014 entries, 0 to 129013\n",
      "Data columns (total 25 columns):\n",
      "Ciclo                                                      129014 non-null int64\n",
      "Ramo                                                       129014 non-null int64\n",
      "Descripción de Ramo                                        129014 non-null object\n",
      "Unidad Responsable                                         129014 non-null object\n",
      "Descripción de Unidad Responsable                          129014 non-null object\n",
      "Finalidad                                                  129014 non-null int64\n",
      "Descripción de Finalidad                                   129014 non-null object\n",
      "Función                                                    129014 non-null int64\n",
      "Descripción de Función                                     129014 non-null object\n",
      "Subfunción                                                 129014 non-null int64\n",
      "Descripción de Subfunción                                  129014 non-null object\n",
      "Actividad Institucional                                    129014 non-null int64\n",
      "Descripción de la Actividad Institucional                  129014 non-null object\n",
      "Modalidad del Programa presupuestario                      129014 non-null object\n",
      "Descripción de la modalidad del programa presupuestario    129014 non-null object\n",
      "Programa Presupuestario                                    129014 non-null int64\n",
      "Descripción de Programa Presupuestario                     129014 non-null object\n",
      "Objeto del Gasto                                           129014 non-null int64\n",
      "Descripción de Objeto del Gasto                            129014 non-null object\n",
      "Tipo de Gasto                                              129014 non-null int64\n",
      "Descripción de Tipo de Gasto                               129014 non-null object\n",
      "Fuente de Financiamiento                                   129014 non-null int64\n",
      "Descripción de Fuente de Financiamiento                    129014 non-null object\n",
      "Aprobado                                                   129014 non-null object\n",
      "Ejercido                                                   129014 non-null object\n",
      "dtypes: int64(10), object(15)\n",
      "memory usage: 24.6+ MB\n"
     ]
    }
   ],
   "source": [
    "mx_2010.info()"
   ]
  },
  {
   "cell_type": "markdown",
   "metadata": {},
   "source": [
    "Okay all is good. Import allfiles."
   ]
  },
  {
   "cell_type": "code",
   "execution_count": 7,
   "metadata": {
    "collapsed": false
   },
   "outputs": [
    {
     "name": "stdout",
     "output_type": "stream",
     "text": [
      "2010\n",
      "2011\n",
      "2012\n"
     ]
    },
    {
     "name": "stderr",
     "output_type": "stream",
     "text": [
      "/usr/local/lib/python3.5/dist-packages/IPython/core/interactiveshell.py:2705: DtypeWarning: Columns (3,25) have mixed types. Specify dtype option on import or set low_memory=False.\n",
      "  interactivity=interactivity, compiler=compiler, result=result)\n"
     ]
    },
    {
     "name": "stdout",
     "output_type": "stream",
     "text": [
      "2013\n",
      "2014\n",
      "2015\n"
     ]
    },
    {
     "name": "stderr",
     "output_type": "stream",
     "text": [
      "/usr/local/lib/python3.5/dist-packages/IPython/core/interactiveshell.py:2705: DtypeWarning: Columns (3,25,30) have mixed types. Specify dtype option on import or set low_memory=False.\n",
      "  interactivity=interactivity, compiler=compiler, result=result)\n"
     ]
    }
   ],
   "source": [
    "cuenta_publica = {}\n",
    "\n",
    "files = {\n",
    "    2010: 'Cuenta_Publica_2010.csv',\n",
    "    2011: 'Cuenta_Publica_2011.csv',\n",
    "    2012: 'Cuenta_Publica_2012.csv',\n",
    "    2013: 'Cuenta_Publica_2013_RA.csv',\n",
    "    2014: 'Cuenta_Publica_2014_RA.csv',\n",
    "    2015: 'Cuenta_Publica_2015_GF.csv',\n",
    "}\n",
    "for year, file in files.items():\n",
    "    print(year)\n",
    "    cuenta_publica[year] = read_csv(file, encoding='iso-8859-1')"
   ]
  },
  {
   "cell_type": "markdown",
   "metadata": {},
   "source": [
    "## Type problems\n",
    "\n",
    "* 2012: columns (3, 25) \n",
    "* 2015: columns (3, 25, 30)\n",
    "\n"
   ]
  },
  {
   "cell_type": "code",
   "execution_count": 9,
   "metadata": {
    "collapsed": false
   },
   "outputs": [
    {
     "name": "stdout",
     "output_type": "stream",
     "text": [
      "Unidad Responsable\n",
      "Clave de cartera\n",
      "Adefas\n"
     ]
    }
   ],
   "source": [
    "print(cuenta_publica[2015].columns[3])\n",
    "print(cuenta_publica[2015].columns[25])\n",
    "print(cuenta_publica[2015].columns[30])"
   ]
  },
  {
   "cell_type": "code",
   "execution_count": 10,
   "metadata": {
    "collapsed": false
   },
   "outputs": [
    {
     "data": {
      "text/plain": [
       "B00    15431\n",
       "300    12764\n",
       "200     9582\n",
       "100     8693\n",
       "200     5911\n",
       "627     4159\n",
       "AYB     3528\n",
       "RHQ     3524\n",
       "100     3515\n",
       "635     3149\n",
       "640     3135\n",
       "644     3085\n",
       "650     2998\n",
       "110     2991\n",
       "D00     2908\n",
       "E00     2757\n",
       "LAT     2737\n",
       "G00     2673\n",
       "416     2501\n",
       "117     2412\n",
       "636     2305\n",
       "311     2272\n",
       "211     2191\n",
       "300     2021\n",
       "632     1914\n",
       "645     1826\n",
       "K00     1756\n",
       "115     1675\n",
       "NHK     1661\n",
       "312     1618\n",
       "Name: Unidad Responsable, dtype: int64"
      ]
     },
     "execution_count": 10,
     "metadata": {},
     "output_type": "execute_result"
    }
   ],
   "source": [
    "cuenta_publica[2015]['Unidad Responsable'].value_counts()[:30]"
   ]
  },
  {
   "cell_type": "code",
   "execution_count": 11,
   "metadata": {
    "collapsed": false
   },
   "outputs": [
    {
     "data": {
      "text/plain": [
       "0              159235\n",
       "0               37235\n",
       "11071170002       644\n",
       "14092100002       641\n",
       "14092110001       601\n",
       "14071170011       457\n",
       "14092100002       446\n",
       "14092110001       438\n",
       "14071170013       289\n",
       "0916B000243       154\n",
       "15071170001       152\n",
       "1216B000124       127\n",
       "1216B000128       122\n",
       "14071170012       101\n",
       "1216B000127        88\n",
       "1216B000122        82\n",
       "14067120004        81\n",
       "1316B000164        80\n",
       "12096300011        76\n",
       "14092100004        73\n",
       "14092100004        73\n",
       "1316B000165        71\n",
       "10096440014        71\n",
       "11096420007        70\n",
       "11096360009        69\n",
       "13096250003        65\n",
       "1420G000003        63\n",
       "0616B000034        55\n",
       "14312000008        54\n",
       "0816B000160        52\n",
       "Name: Clave de cartera, dtype: int64"
      ]
     },
     "execution_count": 11,
     "metadata": {},
     "output_type": "execute_result"
    }
   ],
   "source": [
    "cuenta_publica[2015]['Clave de cartera'].value_counts()[:30]"
   ]
  },
  {
   "cell_type": "code",
   "execution_count": 12,
   "metadata": {
    "collapsed": false
   },
   "outputs": [
    {
     "data": {
      "text/plain": [
       "0.00          217214\n",
       "0.0             9707\n",
       "72,996.69         26\n",
       "6.35              26\n",
       "2,440.00          23\n",
       "6,004.67          22\n",
       "28,260.09         20\n",
       "355.70            20\n",
       "3,191.00          19\n",
       "16.00             19\n",
       "387.00            18\n",
       "5,323.00          18\n",
       "1,148.00          18\n",
       "11,017.00         18\n",
       "3,571.00          18\n",
       "1,000.00          17\n",
       "9,286.00          17\n",
       "420.00            16\n",
       "77,056.00         16\n",
       "460.42            16\n",
       "7,774.00          15\n",
       "2,000.00          15\n",
       "1,500.00          14\n",
       "1,552.00          12\n",
       "988.00            12\n",
       "429.00            12\n",
       "0.99              12\n",
       "431,439.00        11\n",
       "96,000.00         11\n",
       "1,711.00          11\n",
       "Name: Adefas, dtype: int64"
      ]
     },
     "execution_count": 12,
     "metadata": {},
     "output_type": "execute_result"
    }
   ],
   "source": [
    "cuenta_publica[2015]['Adefas'].value_counts()[:30]"
   ]
  },
  {
   "cell_type": "markdown",
   "metadata": {},
   "source": [
    "Okay so nothing special, just use strings anyways. In fact, we really don't want to mess with the raw data. It's preferable to load everything as strings. So let's reload the data, forcing strings. "
   ]
  },
  {
   "cell_type": "code",
   "execution_count": 15,
   "metadata": {
    "collapsed": false
   },
   "outputs": [
    {
     "name": "stdout",
     "output_type": "stream",
     "text": [
      "2010 - load with no type casting\n",
      "2010 - reload forcing all columns to be strings\n",
      "2011 - load with no type casting\n",
      "2011 - reload forcing all columns to be strings\n",
      "2012 - load with no type casting\n"
     ]
    },
    {
     "name": "stderr",
     "output_type": "stream",
     "text": [
      "/usr/local/lib/python3.5/dist-packages/IPython/core/interactiveshell.py:2705: DtypeWarning: Columns (3,25) have mixed types. Specify dtype option on import or set low_memory=False.\n",
      "  interactivity=interactivity, compiler=compiler, result=result)\n"
     ]
    },
    {
     "name": "stdout",
     "output_type": "stream",
     "text": [
      "2012 - reload forcing all columns to be strings\n",
      "2013 - load with no type casting\n",
      "2013 - reload forcing all columns to be strings\n",
      "2014 - load with no type casting\n",
      "2014 - reload forcing all columns to be strings\n",
      "2015 - load with no type casting\n"
     ]
    },
    {
     "name": "stderr",
     "output_type": "stream",
     "text": [
      "/usr/local/lib/python3.5/dist-packages/IPython/core/interactiveshell.py:2705: DtypeWarning: Columns (3,25,30) have mixed types. Specify dtype option on import or set low_memory=False.\n",
      "  interactivity=interactivity, compiler=compiler, result=result)\n"
     ]
    },
    {
     "name": "stdout",
     "output_type": "stream",
     "text": [
      "2015 - reload forcing all columns to be strings\n",
      "\n",
      "<class 'pandas.core.frame.DataFrame'>\n",
      "RangeIndex: 129014 entries, 0 to 129013\n",
      "Data columns (total 25 columns):\n",
      "Ciclo                                                      129014 non-null object\n",
      "Ramo                                                       129014 non-null object\n",
      "Descripción de Ramo                                        129014 non-null object\n",
      "Unidad Responsable                                         129014 non-null object\n",
      "Descripción de Unidad Responsable                          129014 non-null object\n",
      "Finalidad                                                  129014 non-null object\n",
      "Descripción de Finalidad                                   129014 non-null object\n",
      "Función                                                    129014 non-null object\n",
      "Descripción de Función                                     129014 non-null object\n",
      "Subfunción                                                 129014 non-null object\n",
      "Descripción de Subfunción                                  129014 non-null object\n",
      "Actividad Institucional                                    129014 non-null object\n",
      "Descripción de la Actividad Institucional                  129014 non-null object\n",
      "Modalidad del Programa presupuestario                      129014 non-null object\n",
      "Descripción de la modalidad del programa presupuestario    129014 non-null object\n",
      "Programa Presupuestario                                    129014 non-null object\n",
      "Descripción de Programa Presupuestario                     129014 non-null object\n",
      "Objeto del Gasto                                           129014 non-null object\n",
      "Descripción de Objeto del Gasto                            129014 non-null object\n",
      "Tipo de Gasto                                              129014 non-null object\n",
      "Descripción de Tipo de Gasto                               129014 non-null object\n",
      "Fuente de Financiamiento                                   129014 non-null object\n",
      "Descripción de Fuente de Financiamiento                    129014 non-null object\n",
      "Aprobado                                                   129014 non-null object\n",
      "Ejercido                                                   129014 non-null object\n",
      "dtypes: object(25)\n",
      "memory usage: 24.6+ MB\n"
     ]
    }
   ],
   "source": [
    "for year, file in files.items():\n",
    "    print(year, '- load with no type casting')\n",
    "    temp_df = read_csv(file, encoding='iso-8859-1')\n",
    "    casting_dict = {column: str for column in temp_df.columns}\n",
    "    print(year, '- reload forcing all columns to be strings')\n",
    "    cuenta_publica[year] = read_csv(file, encoding='iso-8859-1', dtype=casting_dict)    \n",
    "\n",
    "print()\n",
    "cuenta_publica[2010].info()"
   ]
  },
  {
   "cell_type": "markdown",
   "metadata": {},
   "source": [
    "Great.\n",
    "\n",
    "## Column consistency\n",
    "Check the column consistency against 2010."
   ]
  },
  {
   "cell_type": "code",
   "execution_count": 16,
   "metadata": {
    "collapsed": false
   },
   "outputs": [],
   "source": [
    "def are_columns_the_same(dataframes, reference):\n",
    "    for year, df in dataframes.items():\n",
    "        if not set(dataframes[reference].columns) - set(df.columns):\n",
    "            answer = 'yes'\n",
    "        else:\n",
    "            answer = 'no'\n",
    "        print(year, answer)"
   ]
  },
  {
   "cell_type": "code",
   "execution_count": 17,
   "metadata": {
    "collapsed": false
   },
   "outputs": [
    {
     "name": "stdout",
     "output_type": "stream",
     "text": [
      "2010 yes\n",
      "2011 yes\n",
      "2012 yes\n",
      "2013 yes\n",
      "2014 no\n",
      "2015 no\n"
     ]
    }
   ],
   "source": [
    "are_columns_the_same(cuenta_publica, 2010)"
   ]
  },
  {
   "cell_type": "markdown",
   "metadata": {},
   "source": [
    "What's the union of these columns?"
   ]
  },
  {
   "cell_type": "code",
   "execution_count": 19,
   "metadata": {
    "collapsed": false
   },
   "outputs": [
    {
     "data": {
      "text/plain": [
       "{'ADEFAS',\n",
       " 'Actividad Institucional',\n",
       " 'Adefas',\n",
       " 'Aprobado',\n",
       " 'Ciclo',\n",
       " 'Clave de cartera',\n",
       " 'Descripción de Finalidad',\n",
       " 'Descripción de Fuente de Financiamiento',\n",
       " 'Descripción de Función',\n",
       " 'Descripción de Grupo Funcional',\n",
       " 'Descripción de Objeto del Gasto',\n",
       " 'Descripción de Programa Presupuestario',\n",
       " 'Descripción de Ramo',\n",
       " 'Descripción de Subfunción',\n",
       " 'Descripción de Tipo de Gasto',\n",
       " 'Descripción de Unidad Responsable',\n",
       " 'Descripción de la Actividad Institucional',\n",
       " 'Descripción de la entidad federativa',\n",
       " 'Descripción de la modalidad del programa presupuestario',\n",
       " 'Devengado',\n",
       " 'Ejercicio',\n",
       " 'Ejercido',\n",
       " 'Entidad Federativa',\n",
       " 'Finalidad',\n",
       " 'Fuente de Financiamiento',\n",
       " 'Función',\n",
       " 'Grupo Funcional',\n",
       " 'Modalidad del Programa presupuestario',\n",
       " 'Modificado',\n",
       " 'Objeto del Gasto',\n",
       " 'Pagado',\n",
       " 'Programa Presupuestario',\n",
       " 'Ramo',\n",
       " 'Subfunción',\n",
       " 'Tipo de Gasto',\n",
       " 'Unidad Responsable',\n",
       " 'Unnamed: 25',\n",
       " 'Unnamed: 26',\n",
       " 'Unnamed: 27',\n",
       " 'Unnamed: 28',\n",
       " 'Unnamed: 29',\n",
       " 'Unnamed: 30',\n",
       " 'Unnamed: 31',\n",
       " 'Unnamed: 32',\n",
       " 'Unnamed: 33',\n",
       " 'Unnamed: 34',\n",
       " 'Unnamed: 35',\n",
       " 'Unnamed: 36',\n",
       " 'Unnamed: 37',\n",
       " 'Unnamed: 38',\n",
       " 'Unnamed: 39',\n",
       " 'Unnamed: 40',\n",
       " 'Unnamed: 41'}"
      ]
     },
     "execution_count": 19,
     "metadata": {},
     "output_type": "execute_result"
    }
   ],
   "source": [
    "union_of_columns(cuenta_publica)"
   ]
  },
  {
   "cell_type": "markdown",
   "metadata": {},
   "source": [
    "## Typos"
   ]
  },
  {
   "cell_type": "code",
   "execution_count": 102,
   "metadata": {
    "collapsed": false,
    "scrolled": true
   },
   "outputs": [
    {
     "name": "stdout",
     "output_type": "stream",
     "text": [
      "2010 ADEFA:S False\n",
      "2010 Adefas False\n",
      "2010 Ejercicio False\n",
      "2010 Ejercido True\n",
      "\n",
      "2011 ADEFA:S False\n",
      "2011 Adefas False\n",
      "2011 Ejercicio False\n",
      "2011 Ejercido True\n",
      "\n",
      "2012 ADEFA:S False\n",
      "2012 Adefas False\n",
      "2012 Ejercicio False\n",
      "2012 Ejercido True\n",
      "\n",
      "2013 ADEFA:S False\n",
      "2013 Adefas False\n",
      "2013 Ejercicio False\n",
      "2013 Ejercido True\n",
      "\n",
      "2014 ADEFA:S False\n",
      "2014 Adefas True\n",
      "2014 Ejercicio True\n",
      "2014 Ejercido False\n",
      "\n",
      "2015 ADEFA:S False\n",
      "2015 Adefas True\n",
      "2015 Ejercicio True\n",
      "2015 Ejercido False\n",
      "\n"
     ]
    }
   ],
   "source": [
    "for year in range(2010, 2016):\n",
    "    print(year, 'ADEFA:S' 'ADEFAS' in cuenta_publica[year].columns)\n",
    "    print(year, 'Adefas', 'Adefas' in cuenta_publica[year].columns)\n",
    "    print(year, 'Ejercicio', 'Ejercicio' in cuenta_publica[year].columns)\n",
    "    print(year, 'Ejercido', 'Ejercido' in cuenta_publica[year].columns)\n",
    "    print()"
   ]
  },
  {
   "cell_type": "code",
   "execution_count": 21,
   "metadata": {
    "collapsed": false,
    "scrolled": true
   },
   "outputs": [
    {
     "name": "stdout",
     "output_type": "stream",
     "text": [
      "2010 False\n",
      "2011 False\n",
      "2012 False\n",
      "2013 False\n",
      "2014 False\n",
      "2015 True\n"
     ]
    }
   ],
   "source": [
    "for year in range(2010, 2016):\n",
    "    print(year, 'Adefas' in cuenta_publica[year].columns)"
   ]
  },
  {
   "cell_type": "code",
   "execution_count": 22,
   "metadata": {
    "collapsed": false,
    "scrolled": true
   },
   "outputs": [
    {
     "name": "stdout",
     "output_type": "stream",
     "text": [
      "2010 False\n",
      "2011 False\n",
      "2012 False\n",
      "2013 False\n",
      "2014 True\n",
      "2015 True\n"
     ]
    }
   ],
   "source": [
    "for year in range(2010, 2016):\n",
    "    print(year, 'adefas' in map(lambda x: x.lower(), cuenta_publica[year].columns))"
   ]
  },
  {
   "cell_type": "markdown",
   "metadata": {},
   "source": [
    "Okay so basically only 2014 and 2015 have the Adefas column and there's only a small inconsistency about caps. Let's fix that."
   ]
  },
  {
   "cell_type": "code",
   "execution_count": 23,
   "metadata": {
    "collapsed": false,
    "scrolled": true
   },
   "outputs": [
    {
     "data": {
      "text/plain": [
       "set()"
      ]
     },
     "execution_count": 23,
     "metadata": {},
     "output_type": "execute_result"
    }
   ],
   "source": [
    "cuenta_publica[2014].rename(columns={'ADEFAS': 'Adefas'}, inplace=True)\n",
    "set(cuenta_publica[2014].columns) - set(cuenta_publica[2015].columns)"
   ]
  },
  {
   "cell_type": "markdown",
   "metadata": {},
   "source": [
    "Fixed. Now unnammed columns..."
   ]
  },
  {
   "cell_type": "markdown",
   "metadata": {},
   "source": [
    "## Unnammed columns\n",
    "Where are these unamed columns coming from?"
   ]
  },
  {
   "cell_type": "code",
   "execution_count": 24,
   "metadata": {
    "collapsed": false
   },
   "outputs": [],
   "source": [
    "def print_unnamed_columns(df):\n",
    "    for year in range(2010, 2016):\n",
    "        unamned_columns = [column for column in df[year].columns if 'Unnamed' in column]\n",
    "        print(year, unamned_columns)"
   ]
  },
  {
   "cell_type": "code",
   "execution_count": 25,
   "metadata": {
    "collapsed": false
   },
   "outputs": [
    {
     "name": "stdout",
     "output_type": "stream",
     "text": [
      "2010 []\n",
      "2011 ['Unnamed: 25', 'Unnamed: 26', 'Unnamed: 27', 'Unnamed: 28', 'Unnamed: 29', 'Unnamed: 30', 'Unnamed: 31', 'Unnamed: 32', 'Unnamed: 33', 'Unnamed: 34', 'Unnamed: 35', 'Unnamed: 36', 'Unnamed: 37', 'Unnamed: 38', 'Unnamed: 39', 'Unnamed: 40', 'Unnamed: 41']\n",
      "2012 []\n",
      "2013 []\n",
      "2014 []\n",
      "2015 []\n"
     ]
    }
   ],
   "source": [
    "print_unnamed_columns(cuenta_publica)"
   ]
  },
  {
   "cell_type": "code",
   "execution_count": 26,
   "metadata": {
    "collapsed": false
   },
   "outputs": [
    {
     "data": {
      "text/html": [
       "<div>\n",
       "<table border=\"1\" class=\"dataframe\">\n",
       "  <thead>\n",
       "    <tr style=\"text-align: right;\">\n",
       "      <th></th>\n",
       "      <th>Ciclo</th>\n",
       "      <th>Ramo</th>\n",
       "      <th>Descripción de Ramo</th>\n",
       "      <th>Unidad Responsable</th>\n",
       "      <th>Descripción de Unidad Responsable</th>\n",
       "      <th>Finalidad</th>\n",
       "      <th>Descripción de Finalidad</th>\n",
       "      <th>Función</th>\n",
       "      <th>Descripción de Función</th>\n",
       "      <th>Subfunción</th>\n",
       "      <th>...</th>\n",
       "      <th>Unnamed: 32</th>\n",
       "      <th>Unnamed: 33</th>\n",
       "      <th>Unnamed: 34</th>\n",
       "      <th>Unnamed: 35</th>\n",
       "      <th>Unnamed: 36</th>\n",
       "      <th>Unnamed: 37</th>\n",
       "      <th>Unnamed: 38</th>\n",
       "      <th>Unnamed: 39</th>\n",
       "      <th>Unnamed: 40</th>\n",
       "      <th>Unnamed: 41</th>\n",
       "    </tr>\n",
       "  </thead>\n",
       "  <tbody>\n",
       "    <tr>\n",
       "      <th>0</th>\n",
       "      <td>2011</td>\n",
       "      <td>1</td>\n",
       "      <td>Poder Legislativo</td>\n",
       "      <td>100</td>\n",
       "      <td>Honorable Cámara de Diputados</td>\n",
       "      <td>1</td>\n",
       "      <td>Gobierno</td>\n",
       "      <td>0</td>\n",
       "      <td>Legislación</td>\n",
       "      <td>1</td>\n",
       "      <td>...</td>\n",
       "      <td>NaN</td>\n",
       "      <td>NaN</td>\n",
       "      <td>NaN</td>\n",
       "      <td>NaN</td>\n",
       "      <td>NaN</td>\n",
       "      <td>NaN</td>\n",
       "      <td>NaN</td>\n",
       "      <td>NaN</td>\n",
       "      <td>NaN</td>\n",
       "      <td>NaN</td>\n",
       "    </tr>\n",
       "    <tr>\n",
       "      <th>1</th>\n",
       "      <td>2011</td>\n",
       "      <td>1</td>\n",
       "      <td>Poder Legislativo</td>\n",
       "      <td>100</td>\n",
       "      <td>Honorable Cámara de Diputados</td>\n",
       "      <td>1</td>\n",
       "      <td>Gobierno</td>\n",
       "      <td>0</td>\n",
       "      <td>Legislación</td>\n",
       "      <td>1</td>\n",
       "      <td>...</td>\n",
       "      <td>NaN</td>\n",
       "      <td>NaN</td>\n",
       "      <td>NaN</td>\n",
       "      <td>NaN</td>\n",
       "      <td>NaN</td>\n",
       "      <td>NaN</td>\n",
       "      <td>NaN</td>\n",
       "      <td>NaN</td>\n",
       "      <td>NaN</td>\n",
       "      <td>NaN</td>\n",
       "    </tr>\n",
       "  </tbody>\n",
       "</table>\n",
       "<p>2 rows × 42 columns</p>\n",
       "</div>"
      ],
      "text/plain": [
       "  Ciclo Ramo Descripción de Ramo Unidad Responsable  \\\n",
       "0  2011    1   Poder Legislativo                100   \n",
       "1  2011    1   Poder Legislativo                100   \n",
       "\n",
       "  Descripción de Unidad Responsable Finalidad Descripción de Finalidad  \\\n",
       "0     Honorable Cámara de Diputados         1                 Gobierno   \n",
       "1     Honorable Cámara de Diputados         1                 Gobierno   \n",
       "\n",
       "  Función Descripción de Función Subfunción     ...     Unnamed: 32  \\\n",
       "0       0            Legislación          1     ...             NaN   \n",
       "1       0            Legislación          1     ...             NaN   \n",
       "\n",
       "  Unnamed: 33 Unnamed: 34 Unnamed: 35 Unnamed: 36 Unnamed: 37 Unnamed: 38  \\\n",
       "0         NaN         NaN         NaN         NaN         NaN         NaN   \n",
       "1         NaN         NaN         NaN         NaN         NaN         NaN   \n",
       "\n",
       "  Unnamed: 39 Unnamed: 40 Unnamed: 41  \n",
       "0         NaN         NaN         NaN  \n",
       "1         NaN         NaN         NaN  \n",
       "\n",
       "[2 rows x 42 columns]"
      ]
     },
     "execution_count": 26,
     "metadata": {},
     "output_type": "execute_result"
    }
   ],
   "source": [
    "cuenta_publica[2011].head(2)"
   ]
  },
  {
   "cell_type": "code",
   "execution_count": 27,
   "metadata": {
    "collapsed": false
   },
   "outputs": [
    {
     "data": {
      "text/html": [
       "<div>\n",
       "<table border=\"1\" class=\"dataframe\">\n",
       "  <thead>\n",
       "    <tr style=\"text-align: right;\">\n",
       "      <th></th>\n",
       "      <th>Ciclo</th>\n",
       "      <th>Ramo</th>\n",
       "      <th>Descripción de Ramo</th>\n",
       "      <th>Unidad Responsable</th>\n",
       "      <th>Descripción de Unidad Responsable</th>\n",
       "      <th>Finalidad</th>\n",
       "      <th>Descripción de Finalidad</th>\n",
       "      <th>Función</th>\n",
       "      <th>Descripción de Función</th>\n",
       "      <th>Subfunción</th>\n",
       "      <th>...</th>\n",
       "      <th>Unnamed: 32</th>\n",
       "      <th>Unnamed: 33</th>\n",
       "      <th>Unnamed: 34</th>\n",
       "      <th>Unnamed: 35</th>\n",
       "      <th>Unnamed: 36</th>\n",
       "      <th>Unnamed: 37</th>\n",
       "      <th>Unnamed: 38</th>\n",
       "      <th>Unnamed: 39</th>\n",
       "      <th>Unnamed: 40</th>\n",
       "      <th>Unnamed: 41</th>\n",
       "    </tr>\n",
       "  </thead>\n",
       "  <tbody>\n",
       "    <tr>\n",
       "      <th>138825</th>\n",
       "      <td>2011</td>\n",
       "      <td>38</td>\n",
       "      <td>Consejo Nacional de Ciencia y Tecnología</td>\n",
       "      <td>90E</td>\n",
       "      <td>Centro de Investigación en Materiales Avanzado...</td>\n",
       "      <td>3</td>\n",
       "      <td>Desarrollo Económico</td>\n",
       "      <td>7</td>\n",
       "      <td>Ciencia y Tecnología</td>\n",
       "      <td>1</td>\n",
       "      <td>...</td>\n",
       "      <td>NaN</td>\n",
       "      <td>NaN</td>\n",
       "      <td>NaN</td>\n",
       "      <td>NaN</td>\n",
       "      <td>NaN</td>\n",
       "      <td>NaN</td>\n",
       "      <td>NaN</td>\n",
       "      <td>NaN</td>\n",
       "      <td>NaN</td>\n",
       "      <td>NaN</td>\n",
       "    </tr>\n",
       "    <tr>\n",
       "      <th>138826</th>\n",
       "      <td>2011</td>\n",
       "      <td>38</td>\n",
       "      <td>Consejo Nacional de Ciencia y Tecnología</td>\n",
       "      <td>90E</td>\n",
       "      <td>Centro de Investigación en Materiales Avanzado...</td>\n",
       "      <td>3</td>\n",
       "      <td>Desarrollo Económico</td>\n",
       "      <td>7</td>\n",
       "      <td>Ciencia y Tecnología</td>\n",
       "      <td>1</td>\n",
       "      <td>...</td>\n",
       "      <td>NaN</td>\n",
       "      <td>NaN</td>\n",
       "      <td>NaN</td>\n",
       "      <td>NaN</td>\n",
       "      <td>NaN</td>\n",
       "      <td>NaN</td>\n",
       "      <td>NaN</td>\n",
       "      <td>NaN</td>\n",
       "      <td>NaN</td>\n",
       "      <td>NaN</td>\n",
       "    </tr>\n",
       "  </tbody>\n",
       "</table>\n",
       "<p>2 rows × 42 columns</p>\n",
       "</div>"
      ],
      "text/plain": [
       "       Ciclo Ramo                       Descripción de Ramo  \\\n",
       "138825  2011   38  Consejo Nacional de Ciencia y Tecnología   \n",
       "138826  2011   38  Consejo Nacional de Ciencia y Tecnología   \n",
       "\n",
       "       Unidad Responsable                  Descripción de Unidad Responsable  \\\n",
       "138825                90E  Centro de Investigación en Materiales Avanzado...   \n",
       "138826                90E  Centro de Investigación en Materiales Avanzado...   \n",
       "\n",
       "       Finalidad Descripción de Finalidad Función Descripción de Función  \\\n",
       "138825         3     Desarrollo Económico       7   Ciencia y Tecnología   \n",
       "138826         3     Desarrollo Económico       7   Ciencia y Tecnología   \n",
       "\n",
       "       Subfunción     ...     Unnamed: 32 Unnamed: 33 Unnamed: 34 Unnamed: 35  \\\n",
       "138825          1     ...             NaN         NaN         NaN         NaN   \n",
       "138826          1     ...             NaN         NaN         NaN         NaN   \n",
       "\n",
       "       Unnamed: 36 Unnamed: 37 Unnamed: 38 Unnamed: 39 Unnamed: 40 Unnamed: 41  \n",
       "138825         NaN         NaN         NaN         NaN         NaN         NaN  \n",
       "138826         NaN         NaN         NaN         NaN         NaN         NaN  \n",
       "\n",
       "[2 rows x 42 columns]"
      ]
     },
     "execution_count": 27,
     "metadata": {},
     "output_type": "execute_result"
    }
   ],
   "source": [
    "cuenta_publica[2011].tail(2)"
   ]
  },
  {
   "cell_type": "markdown",
   "metadata": {},
   "source": [
    "They look like junk. Remove:"
   ]
  },
  {
   "cell_type": "code",
   "execution_count": 28,
   "metadata": {
    "collapsed": false
   },
   "outputs": [],
   "source": [
    "for i in range(25,42):\n",
    "    unnamed = 'Unnamed: %s' % i\n",
    "    try:\n",
    "        del cuenta_publica[2011][unnamed]\n",
    "    except KeyError:\n",
    "        pass"
   ]
  },
  {
   "cell_type": "code",
   "execution_count": 29,
   "metadata": {
    "collapsed": false
   },
   "outputs": [
    {
     "data": {
      "text/plain": [
       "{'Actividad Institucional',\n",
       " 'Adefas',\n",
       " 'Aprobado',\n",
       " 'Ciclo',\n",
       " 'Clave de cartera',\n",
       " 'Descripción de Finalidad',\n",
       " 'Descripción de Fuente de Financiamiento',\n",
       " 'Descripción de Función',\n",
       " 'Descripción de Grupo Funcional',\n",
       " 'Descripción de Objeto del Gasto',\n",
       " 'Descripción de Programa Presupuestario',\n",
       " 'Descripción de Ramo',\n",
       " 'Descripción de Subfunción',\n",
       " 'Descripción de Tipo de Gasto',\n",
       " 'Descripción de Unidad Responsable',\n",
       " 'Descripción de la Actividad Institucional',\n",
       " 'Descripción de la entidad federativa',\n",
       " 'Descripción de la modalidad del programa presupuestario',\n",
       " 'Devengado',\n",
       " 'Ejercicio',\n",
       " 'Ejercido',\n",
       " 'Entidad Federativa',\n",
       " 'Finalidad',\n",
       " 'Fuente de Financiamiento',\n",
       " 'Función',\n",
       " 'Grupo Funcional',\n",
       " 'Modalidad del Programa presupuestario',\n",
       " 'Modificado',\n",
       " 'Objeto del Gasto',\n",
       " 'Pagado',\n",
       " 'Programa Presupuestario',\n",
       " 'Ramo',\n",
       " 'Subfunción',\n",
       " 'Tipo de Gasto',\n",
       " 'Unidad Responsable'}"
      ]
     },
     "execution_count": 29,
     "metadata": {},
     "output_type": "execute_result"
    }
   ],
   "source": [
    "union_columns = union_of_columns(cuenta_publica)\n",
    "union_columns"
   ]
  },
  {
   "cell_type": "markdown",
   "metadata": {
    "collapsed": false
   },
   "source": [
    "## Intersection of columns"
   ]
  },
  {
   "cell_type": "code",
   "execution_count": 66,
   "metadata": {
    "collapsed": true
   },
   "outputs": [],
   "source": [
    "def get_intersection_of_columns(df):\n",
    "    intersection = union_of_columns(df)\n",
    "    for year in range(2010, 2016):\n",
    "        intersection = intersection & set(df[year].columns)\n",
    "    return intersection"
   ]
  },
  {
   "cell_type": "code",
   "execution_count": 67,
   "metadata": {
    "collapsed": false
   },
   "outputs": [
    {
     "data": {
      "text/plain": [
       "{'Actividad Institucional',\n",
       " 'Aprobado',\n",
       " 'Ciclo',\n",
       " 'Descripción de Fuente de Financiamiento',\n",
       " 'Descripción de Función',\n",
       " 'Descripción de Objeto del Gasto',\n",
       " 'Descripción de Programa Presupuestario',\n",
       " 'Descripción de Ramo',\n",
       " 'Descripción de Subfunción',\n",
       " 'Descripción de Tipo de Gasto',\n",
       " 'Descripción de Unidad Responsable',\n",
       " 'Descripción de la Actividad Institucional',\n",
       " 'Descripción de la modalidad del programa presupuestario',\n",
       " 'Fuente de Financiamiento',\n",
       " 'Función',\n",
       " 'Modalidad del Programa presupuestario',\n",
       " 'Objeto del Gasto',\n",
       " 'Programa Presupuestario',\n",
       " 'Ramo',\n",
       " 'Subfunción',\n",
       " 'Tipo de Gasto',\n",
       " 'Unidad Responsable'}"
      ]
     },
     "execution_count": 67,
     "metadata": {},
     "output_type": "execute_result"
    }
   ],
   "source": [
    "intersection_columns = get_intersection_of_columns(cuenta_publica)\n",
    "intersection_columns"
   ]
  },
  {
   "cell_type": "markdown",
   "metadata": {},
   "source": [
    "Okay so that's basically I think that's what we're gonna be working with. There's no point trying to concatenate the union of the columns: that's just gonna produce a lot of NaNs, and won't make much sense for Babbage. So, conclusion: __the only *measure* column we're left with is the 'Approved' column__."
   ]
  },
  {
   "cell_type": "markdown",
   "metadata": {},
   "source": [
    "## Compare with existing schema\n",
    "Import the latest mapping from Open-Spending"
   ]
  },
  {
   "cell_type": "code",
   "execution_count": 78,
   "metadata": {
    "collapsed": false
   },
   "outputs": [
    {
     "data": {
      "text/plain": [
       "{'Actividad_Institucional',\n",
       " 'Adefas',\n",
       " 'Aprobado',\n",
       " 'Ciclo',\n",
       " 'Devengado',\n",
       " 'Ejercicio',\n",
       " 'Entidad_Federativa',\n",
       " 'Finalidad',\n",
       " 'Fuente_Financiamiento',\n",
       " 'Funcion',\n",
       " 'ID_AI',\n",
       " 'ID_EF',\n",
       " 'ID_FF',\n",
       " 'ID_FIN',\n",
       " 'ID_Funcion',\n",
       " 'ID_Modalidad',\n",
       " 'ID_OG',\n",
       " 'ID_PP',\n",
       " 'ID_Ramo',\n",
       " 'ID_Subfuncion',\n",
       " 'ID_UR',\n",
       " 'Identificador_de_Clave_de_Cartera',\n",
       " 'Modalidad',\n",
       " 'Modificado',\n",
       " 'Objeto_Gasto',\n",
       " 'Pagado',\n",
       " 'Programa_Presupuestario',\n",
       " 'Ramo',\n",
       " 'Subfuncion',\n",
       " 'Tipo_Gasto',\n",
       " 'Unidad_Responsible'}"
      ]
     },
     "execution_count": 78,
     "metadata": {},
     "output_type": "execute_result"
    }
   ],
   "source": [
    "from json import loads\n",
    "with open('/home/loic/data/mexican-federal-budget-iteration-2.json') as file:\n",
    "    schema = loads(file.read())\n",
    "\n",
    "reference_columns = set(sorted([column['slug'] for column in schema['resources'][0]['schema']['fields']]))\n",
    "reference_columns"
   ]
  },
  {
   "cell_type": "code",
   "execution_count": 86,
   "metadata": {
    "collapsed": false
   },
   "outputs": [
    {
     "data": {
      "text/plain": [
       "{'Aprobado', 'Ciclo', 'Ramo'}"
      ]
     },
     "execution_count": 86,
     "metadata": {},
     "output_type": "execute_result"
    }
   ],
   "source": [
    "reference_columns & intersection_columns"
   ]
  },
  {
   "cell_type": "markdown",
   "metadata": {},
   "source": [
    "Let's take the symmetric difference."
   ]
  },
  {
   "cell_type": "code",
   "execution_count": 87,
   "metadata": {
    "collapsed": false
   },
   "outputs": [
    {
     "data": {
      "text/plain": [
       "{'Actividad Institucional',\n",
       " 'Actividad_Institucional',\n",
       " 'Clave de cartera',\n",
       " 'Descripción de Finalidad',\n",
       " 'Descripción de Fuente de Financiamiento',\n",
       " 'Descripción de Función',\n",
       " 'Descripción de Grupo Funcional',\n",
       " 'Descripción de Objeto del Gasto',\n",
       " 'Descripción de Programa Presupuestario',\n",
       " 'Descripción de Ramo',\n",
       " 'Descripción de Subfunción',\n",
       " 'Descripción de Tipo de Gasto',\n",
       " 'Descripción de Unidad Responsable',\n",
       " 'Descripción de la Actividad Institucional',\n",
       " 'Descripción de la entidad federativa',\n",
       " 'Descripción de la modalidad del programa presupuestario',\n",
       " 'Ejercido',\n",
       " 'Entidad Federativa',\n",
       " 'Entidad_Federativa',\n",
       " 'Fuente de Financiamiento',\n",
       " 'Fuente_Financiamiento',\n",
       " 'Funcion',\n",
       " 'Función',\n",
       " 'Grupo Funcional',\n",
       " 'ID_AI',\n",
       " 'ID_EF',\n",
       " 'ID_FF',\n",
       " 'ID_FIN',\n",
       " 'ID_Funcion',\n",
       " 'ID_Modalidad',\n",
       " 'ID_OG',\n",
       " 'ID_PP',\n",
       " 'ID_Ramo',\n",
       " 'ID_Subfuncion',\n",
       " 'ID_UR',\n",
       " 'Identificador_de_Clave_de_Cartera',\n",
       " 'Modalidad',\n",
       " 'Modalidad del Programa presupuestario',\n",
       " 'Objeto del Gasto',\n",
       " 'Objeto_Gasto',\n",
       " 'Programa Presupuestario',\n",
       " 'Programa_Presupuestario',\n",
       " 'Subfuncion',\n",
       " 'Subfunción',\n",
       " 'Tipo de Gasto',\n",
       " 'Tipo_Gasto',\n",
       " 'Unidad Responsable',\n",
       " 'Unidad_Responsible'}"
      ]
     },
     "execution_count": 87,
     "metadata": {},
     "output_type": "execute_result"
    }
   ],
   "source": [
    "union_columns ^ reference_columns"
   ]
  },
  {
   "cell_type": "markdown",
   "metadata": {},
   "source": [
    "Yep. There's some mapping to do.\n",
    "\n",
    "## Mapping\n",
    "Strictly this is not required because it's just about column labels, but let's do it (by hand) anyways as a quality assurance exercise."
   ]
  },
  {
   "cell_type": "code",
   "execution_count": 90,
   "metadata": {
    "collapsed": false
   },
   "outputs": [],
   "source": [
    "mapping = {\n",
    "    'Actividad_Institucional': 'Descripción de la Actividad Institucional',\n",
    "    'Ciclo': 'Ciclo',\n",
    "    'Entidad_Federativa': 'Descripción de la Entidad Federativa',\n",
    "    'Finalidad': 'Descripción de Finalidad',\n",
    "    'Fuente_Financiamiento': 'Descripción de Fuente de Financiamiento',\n",
    "    'Funcion': 'Descripción de Función',\n",
    "    'ID_AI': 'Actividad Institucional',\n",
    "    'ID_EF': 'Entidad Federativa',\n",
    "    'ID_FF': 'Fuente de Financiamiento',\n",
    "    'ID_FIN': 'Finalidad',\n",
    "    'ID_Funcion': 'Función',\n",
    "    'ID_Modalidad': 'Modalidad del Programa presupuestario',\n",
    "    'ID_OG': 'Objeto del Gasto',\n",
    "    'ID_PP': 'Programa Presupuestario',\n",
    "    'ID_Ramo': 'Ramo',\n",
    "    'ID_Subfuncion': 'Subfunción',\n",
    "    'ID_UR': 'Unidad Responsable',\n",
    "    'Identificador_de_Clave_de_Cartera': 'Clave de cartera',\n",
    "    'Modalidad': 'Descripción de la modalidad del programa presupuestario',\n",
    "    'Objeto_Gasto': 'Descripción de Objeto del Gasto',\n",
    "    'Programa_Presupuestario': 'Descripción de Programa Presupuestario',\n",
    "    'Ramo': 'Descripción de Ramo',\n",
    "    'Subfuncion': 'Descripción de Subfunción',\n",
    "    'Tipo_Gasto': 'Descripción de Tipo de Gasto',\n",
    "    'Unidad_Responsible': 'Descripción de Unidad Responsable',\n",
    "    'Aprobado': 'Aprobado'\n",
    "}"
   ]
  },
  {
   "cell_type": "markdown",
   "metadata": {},
   "source": [
    "Double check that the mapping is complete."
   ]
  },
  {
   "cell_type": "code",
   "execution_count": 92,
   "metadata": {
    "collapsed": false
   },
   "outputs": [
    {
     "data": {
      "text/plain": [
       "{'Tipo de Gasto'}"
      ]
     },
     "execution_count": 92,
     "metadata": {},
     "output_type": "execute_result"
    }
   ],
   "source": [
    "crossover_columns = [item for item in mapping.values()]\n",
    "intersection_columns - set(crossover_columns)"
   ]
  },
  {
   "cell_type": "markdown",
   "metadata": {},
   "source": [
    "...okay this tells us that the 2015 test file that we've been using up until now was missing the \"Tipo de Gasto\" column, which is something that I had noticed. This is good news. So let's concatenate on the intersection of the columns."
   ]
  },
  {
   "cell_type": "markdown",
   "metadata": {},
   "source": [
    "## Concatenation"
   ]
  },
  {
   "cell_type": "code",
   "execution_count": 94,
   "metadata": {
    "collapsed": false
   },
   "outputs": [
    {
     "name": "stdout",
     "output_type": "stream",
     "text": [
      "deleted Adefas\n",
      "deleted Clave de cartera\n",
      "deleted Descripción de Finalidad\n",
      "deleted Descripción de Grupo Funcional\n",
      "deleted Descripción de la entidad federativa\n",
      "deleted Devengado\n",
      "deleted Ejercicio\n",
      "deleted Ejercido\n",
      "deleted Entidad Federativa\n",
      "deleted Finalidad\n",
      "deleted Grupo Funcional\n",
      "deleted Modificado\n",
      "deleted Pagado\n"
     ]
    }
   ],
   "source": [
    "from pandas import concat\n",
    "\n",
    "multi_year_cp = concat(cuenta_publica.values(), ignore_index=True)\n",
    "for column in multi_year_cp.columns:\n",
    "    if column not in intersection_columns:\n",
    "        try:\n",
    "            del multi_year_cp[column]\n",
    "            print('deleted', column)\n",
    "        except KeyError:\n",
    "            pass"
   ]
  },
  {
   "cell_type": "code",
   "execution_count": 95,
   "metadata": {
    "collapsed": false
   },
   "outputs": [
    {
     "data": {
      "text/plain": [
       "1250200"
      ]
     },
     "execution_count": 95,
     "metadata": {},
     "output_type": "execute_result"
    }
   ],
   "source": [
    "len(multi_year_cp)"
   ]
  },
  {
   "cell_type": "markdown",
   "metadata": {},
   "source": [
    "Just over a million lines of data."
   ]
  },
  {
   "cell_type": "code",
   "execution_count": 96,
   "metadata": {
    "collapsed": false
   },
   "outputs": [
    {
     "data": {
      "text/html": [
       "<div>\n",
       "<table border=\"1\" class=\"dataframe\">\n",
       "  <thead>\n",
       "    <tr style=\"text-align: right;\">\n",
       "      <th></th>\n",
       "      <th>Actividad Institucional</th>\n",
       "      <th>Aprobado</th>\n",
       "      <th>Ciclo</th>\n",
       "      <th>Descripción de Fuente de Financiamiento</th>\n",
       "      <th>Descripción de Función</th>\n",
       "      <th>Descripción de Objeto del Gasto</th>\n",
       "      <th>Descripción de Programa Presupuestario</th>\n",
       "      <th>Descripción de Ramo</th>\n",
       "      <th>Descripción de Subfunción</th>\n",
       "      <th>Descripción de Tipo de Gasto</th>\n",
       "      <th>...</th>\n",
       "      <th>Descripción de la modalidad del programa presupuestario</th>\n",
       "      <th>Fuente de Financiamiento</th>\n",
       "      <th>Función</th>\n",
       "      <th>Modalidad del Programa presupuestario</th>\n",
       "      <th>Objeto del Gasto</th>\n",
       "      <th>Programa Presupuestario</th>\n",
       "      <th>Ramo</th>\n",
       "      <th>Subfunción</th>\n",
       "      <th>Tipo de Gasto</th>\n",
       "      <th>Unidad Responsable</th>\n",
       "    </tr>\n",
       "  </thead>\n",
       "  <tbody>\n",
       "    <tr>\n",
       "      <th>251791</th>\n",
       "      <td>4</td>\n",
       "      <td>111500</td>\n",
       "      <td>2011</td>\n",
       "      <td>Recursos fiscales</td>\n",
       "      <td>Turismo</td>\n",
       "      <td>Material de limpieza</td>\n",
       "      <td>Establecer y conducir la política de turismo</td>\n",
       "      <td>Turismo</td>\n",
       "      <td>Turismo</td>\n",
       "      <td>Gasto corriente</td>\n",
       "      <td>...</td>\n",
       "      <td>Planeación, seguimiento y evaluación de políti...</td>\n",
       "      <td>1</td>\n",
       "      <td>6</td>\n",
       "      <td>P</td>\n",
       "      <td>21601</td>\n",
       "      <td>1</td>\n",
       "      <td>21</td>\n",
       "      <td>1</td>\n",
       "      <td>1</td>\n",
       "      <td>200</td>\n",
       "    </tr>\n",
       "    <tr>\n",
       "      <th>976560</th>\n",
       "      <td>1</td>\n",
       "      <td>23,000</td>\n",
       "      <td>2014</td>\n",
       "      <td>Recursos fiscales</td>\n",
       "      <td>Coordinación de la Política de Gobierno</td>\n",
       "      <td>Otros materiales y artículos de construcción y...</td>\n",
       "      <td>Gestión Administrativa</td>\n",
       "      <td>Instituto Nacional Electoral</td>\n",
       "      <td>Organización de Procesos Electorales</td>\n",
       "      <td>Gasto corriente</td>\n",
       "      <td>...</td>\n",
       "      <td>Apoyo al proceso presupuestario y para mejorar...</td>\n",
       "      <td>1</td>\n",
       "      <td>3</td>\n",
       "      <td>M</td>\n",
       "      <td>24901</td>\n",
       "      <td>1</td>\n",
       "      <td>22</td>\n",
       "      <td>6</td>\n",
       "      <td>1</td>\n",
       "      <td>300</td>\n",
       "    </tr>\n",
       "    <tr>\n",
       "      <th>1179324</th>\n",
       "      <td>3</td>\n",
       "      <td>0.00</td>\n",
       "      <td>2015</td>\n",
       "      <td>Recursos fiscales</td>\n",
       "      <td>Agropecuaria, Silvicultura, Pesca y Caza</td>\n",
       "      <td>Otros servicios relacionados con obras públicas</td>\n",
       "      <td>Infraestructura de riego y Temporal Tecnificado</td>\n",
       "      <td>Medio Ambiente y Recursos Naturales</td>\n",
       "      <td>Hidroagrícola</td>\n",
       "      <td>Gasto de obra pública</td>\n",
       "      <td>...</td>\n",
       "      <td>Proyectos de Inversión</td>\n",
       "      <td>1</td>\n",
       "      <td>2</td>\n",
       "      <td>K</td>\n",
       "      <td>62905</td>\n",
       "      <td>135</td>\n",
       "      <td>16</td>\n",
       "      <td>5</td>\n",
       "      <td>3</td>\n",
       "      <td>B00</td>\n",
       "    </tr>\n",
       "    <tr>\n",
       "      <th>813488</th>\n",
       "      <td>3</td>\n",
       "      <td>20,000</td>\n",
       "      <td>2014</td>\n",
       "      <td>Recursos fiscales</td>\n",
       "      <td>Transporte</td>\n",
       "      <td>Artículos metálicos para la construcción</td>\n",
       "      <td>Reconstrucción y Conservación de Carreteras</td>\n",
       "      <td>Comunicaciones y Transportes</td>\n",
       "      <td>Transporte por Carretera</td>\n",
       "      <td>Gasto de obra pública</td>\n",
       "      <td>...</td>\n",
       "      <td>Proyectos de Inversión</td>\n",
       "      <td>1</td>\n",
       "      <td>5</td>\n",
       "      <td>K</td>\n",
       "      <td>24701</td>\n",
       "      <td>32</td>\n",
       "      <td>9</td>\n",
       "      <td>1</td>\n",
       "      <td>3</td>\n",
       "      <td>623</td>\n",
       "    </tr>\n",
       "    <tr>\n",
       "      <th>142152</th>\n",
       "      <td>10</td>\n",
       "      <td>1418851</td>\n",
       "      <td>2011</td>\n",
       "      <td>Recursos fiscales</td>\n",
       "      <td>Gobernación</td>\n",
       "      <td>Impuesto sobre nóminas</td>\n",
       "      <td>Proteccion de Datos Personales en Posesión de ...</td>\n",
       "      <td>Hacienda y Crédito Público</td>\n",
       "      <td>Acceso a la Información Pública Gubernamental</td>\n",
       "      <td>Gasto corriente</td>\n",
       "      <td>...</td>\n",
       "      <td>Prestación de Servicios Públicos</td>\n",
       "      <td>1</td>\n",
       "      <td>4</td>\n",
       "      <td>E</td>\n",
       "      <td>39801</td>\n",
       "      <td>7</td>\n",
       "      <td>6</td>\n",
       "      <td>8</td>\n",
       "      <td>1</td>\n",
       "      <td>HHE</td>\n",
       "    </tr>\n",
       "    <tr>\n",
       "      <th>1160548</th>\n",
       "      <td>4</td>\n",
       "      <td>94.00</td>\n",
       "      <td>2015</td>\n",
       "      <td>Recursos fiscales</td>\n",
       "      <td>Agropecuaria, Silvicultura, Pesca y Caza</td>\n",
       "      <td>Mantenimiento y conservación de mobiliario y e...</td>\n",
       "      <td>Implementación de políticas enfocadas al medio...</td>\n",
       "      <td>Desarrollo Agrario, Territorial y Urbano</td>\n",
       "      <td>Agropecuaria</td>\n",
       "      <td>Gasto corriente</td>\n",
       "      <td>...</td>\n",
       "      <td>Planeación, seguimiento y evaluación de políti...</td>\n",
       "      <td>1</td>\n",
       "      <td>2</td>\n",
       "      <td>P</td>\n",
       "      <td>35201</td>\n",
       "      <td>1</td>\n",
       "      <td>15</td>\n",
       "      <td>1</td>\n",
       "      <td>1</td>\n",
       "      <td>123</td>\n",
       "    </tr>\n",
       "    <tr>\n",
       "      <th>701159</th>\n",
       "      <td>4</td>\n",
       "      <td>240,000.0</td>\n",
       "      <td>2013</td>\n",
       "      <td>Recursos fiscales</td>\n",
       "      <td>Justicia</td>\n",
       "      <td>Productos alimenticios para el personal en las...</td>\n",
       "      <td>Investigar y perseguir los delitos del orden f...</td>\n",
       "      <td>Procuraduría General de la República</td>\n",
       "      <td>Procuración de Justicia</td>\n",
       "      <td>Gasto corriente</td>\n",
       "      <td>...</td>\n",
       "      <td>Prestación de Servicios Públicos</td>\n",
       "      <td>1</td>\n",
       "      <td>2</td>\n",
       "      <td>E</td>\n",
       "      <td>22104</td>\n",
       "      <td>2</td>\n",
       "      <td>17</td>\n",
       "      <td>2</td>\n",
       "      <td>1</td>\n",
       "      <td>339</td>\n",
       "    </tr>\n",
       "    <tr>\n",
       "      <th>225982</th>\n",
       "      <td>3</td>\n",
       "      <td>2804</td>\n",
       "      <td>2011</td>\n",
       "      <td>Recursos fiscales</td>\n",
       "      <td>Desarrollo Agropecuario y Forestal</td>\n",
       "      <td>Servicio de agua</td>\n",
       "      <td>Programa de gestión hídrica</td>\n",
       "      <td>Medio Ambiente y Recursos Naturales</td>\n",
       "      <td>Hidroagrícola</td>\n",
       "      <td>Gasto corriente</td>\n",
       "      <td>...</td>\n",
       "      <td>Regulación y supervisión</td>\n",
       "      <td>1</td>\n",
       "      <td>2</td>\n",
       "      <td>G</td>\n",
       "      <td>31301</td>\n",
       "      <td>10</td>\n",
       "      <td>16</td>\n",
       "      <td>5</td>\n",
       "      <td>1</td>\n",
       "      <td>B25</td>\n",
       "    </tr>\n",
       "    <tr>\n",
       "      <th>209513</th>\n",
       "      <td>24</td>\n",
       "      <td>64632</td>\n",
       "      <td>2011</td>\n",
       "      <td>Recursos fiscales</td>\n",
       "      <td>Ciencia y Tecnología</td>\n",
       "      <td>Asignaciones adicionales al sueldo</td>\n",
       "      <td>Investigación y desarrollo tecnológico en salud</td>\n",
       "      <td>Salud</td>\n",
       "      <td>Investigación Científica</td>\n",
       "      <td>Gasto corriente</td>\n",
       "      <td>...</td>\n",
       "      <td>Prestación de Servicios Públicos</td>\n",
       "      <td>1</td>\n",
       "      <td>7</td>\n",
       "      <td>E</td>\n",
       "      <td>15403</td>\n",
       "      <td>22</td>\n",
       "      <td>12</td>\n",
       "      <td>1</td>\n",
       "      <td>1</td>\n",
       "      <td>W00</td>\n",
       "    </tr>\n",
       "    <tr>\n",
       "      <th>407272</th>\n",
       "      <td>6</td>\n",
       "      <td>317,751</td>\n",
       "      <td>2012</td>\n",
       "      <td>Recursos fiscales</td>\n",
       "      <td>Seguridad Nacional</td>\n",
       "      <td>Aportaciones al ISSSTE</td>\n",
       "      <td>Desarrollo y dirección de la política y estrat...</td>\n",
       "      <td>Marina</td>\n",
       "      <td>Marina</td>\n",
       "      <td>Gasto corriente</td>\n",
       "      <td>...</td>\n",
       "      <td>Funciones de las Fuerzas Armadas</td>\n",
       "      <td>1</td>\n",
       "      <td>6</td>\n",
       "      <td>A</td>\n",
       "      <td>14101</td>\n",
       "      <td>8</td>\n",
       "      <td>13</td>\n",
       "      <td>2</td>\n",
       "      <td>1</td>\n",
       "      <td>100</td>\n",
       "    </tr>\n",
       "  </tbody>\n",
       "</table>\n",
       "<p>10 rows × 22 columns</p>\n",
       "</div>"
      ],
      "text/plain": [
       "        Actividad Institucional     Aprobado Ciclo  \\\n",
       "251791                        4       111500  2011   \n",
       "976560                        1      23,000   2014   \n",
       "1179324                       3         0.00  2015   \n",
       "813488                        3      20,000   2014   \n",
       "142152                       10      1418851  2011   \n",
       "1160548                       4        94.00  2015   \n",
       "701159                        4   240,000.0   2013   \n",
       "225982                        3         2804  2011   \n",
       "209513                       24        64632  2011   \n",
       "407272                        6     317,751   2012   \n",
       "\n",
       "        Descripción de Fuente de Financiamiento  \\\n",
       "251791                        Recursos fiscales   \n",
       "976560                        Recursos fiscales   \n",
       "1179324                       Recursos fiscales   \n",
       "813488                        Recursos fiscales   \n",
       "142152                        Recursos fiscales   \n",
       "1160548                       Recursos fiscales   \n",
       "701159                        Recursos fiscales   \n",
       "225982                        Recursos fiscales   \n",
       "209513                        Recursos fiscales   \n",
       "407272                        Recursos fiscales   \n",
       "\n",
       "                           Descripción de Función  \\\n",
       "251791                                    Turismo   \n",
       "976560    Coordinación de la Política de Gobierno   \n",
       "1179324  Agropecuaria, Silvicultura, Pesca y Caza   \n",
       "813488                                 Transporte   \n",
       "142152                                Gobernación   \n",
       "1160548  Agropecuaria, Silvicultura, Pesca y Caza   \n",
       "701159                                   Justicia   \n",
       "225982         Desarrollo Agropecuario y Forestal   \n",
       "209513                       Ciencia y Tecnología   \n",
       "407272                         Seguridad Nacional   \n",
       "\n",
       "                           Descripción de Objeto del Gasto  \\\n",
       "251791                                Material de limpieza   \n",
       "976560   Otros materiales y artículos de construcción y...   \n",
       "1179324    Otros servicios relacionados con obras públicas   \n",
       "813488            Artículos metálicos para la construcción   \n",
       "142152                              Impuesto sobre nóminas   \n",
       "1160548  Mantenimiento y conservación de mobiliario y e...   \n",
       "701159   Productos alimenticios para el personal en las...   \n",
       "225982                                    Servicio de agua   \n",
       "209513                  Asignaciones adicionales al sueldo   \n",
       "407272                              Aportaciones al ISSSTE   \n",
       "\n",
       "                    Descripción de Programa Presupuestario  \\\n",
       "251791        Establecer y conducir la política de turismo   \n",
       "976560                              Gestión Administrativa   \n",
       "1179324    Infraestructura de riego y Temporal Tecnificado   \n",
       "813488         Reconstrucción y Conservación de Carreteras   \n",
       "142152   Proteccion de Datos Personales en Posesión de ...   \n",
       "1160548  Implementación de políticas enfocadas al medio...   \n",
       "701159   Investigar y perseguir los delitos del orden f...   \n",
       "225982                         Programa de gestión hídrica   \n",
       "209513     Investigación y desarrollo tecnológico en salud   \n",
       "407272   Desarrollo y dirección de la política y estrat...   \n",
       "\n",
       "                              Descripción de Ramo  \\\n",
       "251791                                    Turismo   \n",
       "976560               Instituto Nacional Electoral   \n",
       "1179324       Medio Ambiente y Recursos Naturales   \n",
       "813488               Comunicaciones y Transportes   \n",
       "142152                 Hacienda y Crédito Público   \n",
       "1160548  Desarrollo Agrario, Territorial y Urbano   \n",
       "701159       Procuraduría General de la República   \n",
       "225982        Medio Ambiente y Recursos Naturales   \n",
       "209513                                      Salud   \n",
       "407272                                     Marina   \n",
       "\n",
       "                             Descripción de Subfunción  \\\n",
       "251791                                         Turismo   \n",
       "976560            Organización de Procesos Electorales   \n",
       "1179324                                  Hidroagrícola   \n",
       "813488                        Transporte por Carretera   \n",
       "142152   Acceso a la Información Pública Gubernamental   \n",
       "1160548                                   Agropecuaria   \n",
       "701159                         Procuración de Justicia   \n",
       "225982                                   Hidroagrícola   \n",
       "209513                        Investigación Científica   \n",
       "407272                                          Marina   \n",
       "\n",
       "        Descripción de Tipo de Gasto        ...          \\\n",
       "251791               Gasto corriente        ...           \n",
       "976560               Gasto corriente        ...           \n",
       "1179324        Gasto de obra pública        ...           \n",
       "813488         Gasto de obra pública        ...           \n",
       "142152               Gasto corriente        ...           \n",
       "1160548              Gasto corriente        ...           \n",
       "701159               Gasto corriente        ...           \n",
       "225982               Gasto corriente        ...           \n",
       "209513               Gasto corriente        ...           \n",
       "407272               Gasto corriente        ...           \n",
       "\n",
       "        Descripción de la modalidad del programa presupuestario  \\\n",
       "251791   Planeación, seguimiento y evaluación de políti...        \n",
       "976560   Apoyo al proceso presupuestario y para mejorar...        \n",
       "1179324                             Proyectos de Inversión        \n",
       "813488                              Proyectos de Inversión        \n",
       "142152                    Prestación de Servicios Públicos        \n",
       "1160548  Planeación, seguimiento y evaluación de políti...        \n",
       "701159                    Prestación de Servicios Públicos        \n",
       "225982                            Regulación y supervisión        \n",
       "209513                    Prestación de Servicios Públicos        \n",
       "407272                    Funciones de las Fuerzas Armadas        \n",
       "\n",
       "        Fuente de Financiamiento Función  \\\n",
       "251791                         1       6   \n",
       "976560                         1       3   \n",
       "1179324                        1       2   \n",
       "813488                         1       5   \n",
       "142152                         1       4   \n",
       "1160548                        1       2   \n",
       "701159                         1       2   \n",
       "225982                         1       2   \n",
       "209513                         1       7   \n",
       "407272                         1       6   \n",
       "\n",
       "        Modalidad del Programa presupuestario Objeto del Gasto  \\\n",
       "251791                                      P            21601   \n",
       "976560                                      M            24901   \n",
       "1179324                                     K            62905   \n",
       "813488                                      K            24701   \n",
       "142152                                      E            39801   \n",
       "1160548                                     P            35201   \n",
       "701159                                      E            22104   \n",
       "225982                                      G            31301   \n",
       "209513                                      E            15403   \n",
       "407272                                      A            14101   \n",
       "\n",
       "        Programa Presupuestario Ramo Subfunción Tipo de Gasto  \\\n",
       "251791                        1   21          1             1   \n",
       "976560                        1   22          6             1   \n",
       "1179324                     135   16          5             3   \n",
       "813488                       32    9          1             3   \n",
       "142152                        7    6          8             1   \n",
       "1160548                       1   15          1             1   \n",
       "701159                        2   17          2             1   \n",
       "225982                       10   16          5             1   \n",
       "209513                       22   12          1             1   \n",
       "407272                        8   13          2             1   \n",
       "\n",
       "        Unidad Responsable  \n",
       "251791                 200  \n",
       "976560                 300  \n",
       "1179324                B00  \n",
       "813488                 623  \n",
       "142152                 HHE  \n",
       "1160548                123  \n",
       "701159                 339  \n",
       "225982                 B25  \n",
       "209513                 W00  \n",
       "407272                 100  \n",
       "\n",
       "[10 rows x 22 columns]"
      ]
     },
     "execution_count": 96,
     "metadata": {},
     "output_type": "execute_result"
    }
   ],
   "source": [
    "multi_year_cp.sample(n=10)"
   ]
  },
  {
   "cell_type": "markdown",
   "metadata": {},
   "source": [
    "This gives us a clean dataset, that we can save."
   ]
  },
  {
   "cell_type": "code",
   "execution_count": 99,
   "metadata": {
    "collapsed": true
   },
   "outputs": [],
   "source": [
    "multi_year_cp.to_csv('cuenta_publica_2008_to_2015.intersection_of_columns.csv', index=False)"
   ]
  },
  {
   "cell_type": "code",
   "execution_count": 100,
   "metadata": {
    "collapsed": false
   },
   "outputs": [
    {
     "name": "stdout",
     "output_type": "stream",
     "text": [
      "total 3.8G\r\n",
      "-rw-rw-r-- 1 loic loic 513M Aug  4 13:12 cuenta_publica_2008_to_2015.csv\r\n",
      "-rw-rw-r-- 1 loic loic 513M Aug  4 13:14 cuenta_publica_2008_to_2015.intersection_of_columns.csv\r\n",
      "-rw-rw-r-- 1 loic loic 607M Aug  4 07:07 cuenta_publica_2008_to_2015.union_of_columns.csv\r\n",
      "-rwxr--r-- 1 loic loic  55M Aug  3 10:16 Cuenta_Publica_2010.csv\r\n",
      "-rw-rw-r-- 1 loic loic 436K Aug  4 11:18 Cuenta_Publica_2010.sample.csv\r\n",
      "-rw-rw-r-- 1 loic loic 607M Aug  3 20:30 cuenta_publica_2010_to_2015.csv\r\n",
      "-rw-rw-r-- 1 loic loic 495K Aug  4 11:33 cuenta_publica_2010_to_2015.sample.csv\r\n",
      "-rwxr--r-- 1 loic loic  61M Aug  3 10:18 Cuenta_Publica_2011.csv\r\n",
      "-rwxr--r-- 1 loic loic 123M Aug  3 10:26 Cuenta_Publica_2012.csv\r\n",
      "-rwxr--r-- 1 loic loic 106M Aug  3 10:23 Cuenta_Publica_2013_RA.csv\r\n",
      "-rwxr--r-- 1 loic loic 120M Aug  3 10:26 Cuenta_Publica_2014_RA.csv\r\n",
      "-rwxr--r-- 1 loic loic 118M Aug  3 10:25 Cuenta_Publica_2015_GF.csv\r\n",
      "-rw-rw-r-- 1 loic loic 128K Aug  4 13:13 mexican_federal_budget_ingestion_preparation.ipynb\r\n",
      "-rw-rw-r-- 1 loic loic  50M Aug  4 11:04 Mexico.zip\r\n",
      "-rwxr--r-- 1 loic loic  23M Aug  3 10:19 PEF2008_AC01.csv\r\n",
      "-rw-rw-r-- 1 loic loic 432K Aug  4 11:17 PEF2008_AC01.sample.csv\r\n",
      "-rw-rw-r-- 1 loic loic 345M Aug  4 07:07 pef_2008_to_2015.backup.csv\r\n",
      "-rw-rw-r-- 1 loic loic 345M Aug  4 11:33 pef_2008_to_2015.csv\r\n",
      "-rw-rw-r-- 1 loic loic 423K Aug  4 10:48 pef_2008_to_2015.sample.csv\r\n",
      "-rwxr--r-- 1 loic loic  27M Aug  3 10:21 PEF2009_AC01.csv\r\n",
      "-rwxr--r-- 1 loic loic  16M Aug  3 10:21 PEF2010_AC01.csv\r\n",
      "-rwxr--r-- 1 loic loic  17M Aug  3 10:22 PEF2011_AC01.csv\r\n",
      "-rwxr--r-- 1 loic loic  16M Aug  3 10:22 PEF2012_AC01.csv\r\n",
      "-rwxr--r-- 1 loic loic  16M Aug  3 10:25 PEF2013_AC01.csv\r\n",
      "-rwxr--r-- 1 loic loic  43M Aug  3 10:30 PEF2014_AC01.csv\r\n",
      "-rwxr--r-- 1 loic loic 108M Aug  3 10:36 PEF2015_AC01.csv\r\n",
      "-rwxr--r-- 1 loic loic  33M Aug  3 10:31 PEF2016_AC01.csv\r\n",
      "-rw-rw-r-- 1 loic loic  122 Aug  3 21:12 README.md\r\n"
     ]
    }
   ],
   "source": [
    "!ls -lh"
   ]
  },
  {
   "cell_type": "markdown",
   "metadata": {},
   "source": [
    "The file weighs 607MB."
   ]
  },
  {
   "cell_type": "markdown",
   "metadata": {},
   "source": [
    "## PEF files\n",
    "\n",
    "Approved budgets. Repeat the exact same process."
   ]
  },
  {
   "cell_type": "code",
   "execution_count": 39,
   "metadata": {
    "collapsed": false,
    "scrolled": true
   },
   "outputs": [
    {
     "name": "stdout",
     "output_type": "stream",
     "text": [
      "2008\n"
     ]
    },
    {
     "name": "stderr",
     "output_type": "stream",
     "text": [
      "/usr/local/lib/python3.5/dist-packages/IPython/core/interactiveshell.py:2705: DtypeWarning: Columns (1) have mixed types. Specify dtype option on import or set low_memory=False.\n",
      "  interactivity=interactivity, compiler=compiler, result=result)\n"
     ]
    },
    {
     "name": "stdout",
     "output_type": "stream",
     "text": [
      "2009\n",
      "2010\n",
      "2011\n",
      "2012\n",
      "2013\n",
      "2014\n",
      "2015\n"
     ]
    },
    {
     "name": "stderr",
     "output_type": "stream",
     "text": [
      "/usr/local/lib/python3.5/dist-packages/IPython/core/interactiveshell.py:2705: DtypeWarning: Columns (3,25) have mixed types. Specify dtype option on import or set low_memory=False.\n",
      "  interactivity=interactivity, compiler=compiler, result=result)\n"
     ]
    },
    {
     "name": "stdout",
     "output_type": "stream",
     "text": [
      "2016\n"
     ]
    }
   ],
   "source": [
    "from pandas import read_csv \n",
    "\n",
    "pef = {}\n",
    "\n",
    "for year in range(2008, 2017):\n",
    "    print(year)\n",
    "    pef[year] = read_csv('PEF%s_AC01.csv' % year, encoding='iso-8859-1')"
   ]
  },
  {
   "cell_type": "code",
   "execution_count": 40,
   "metadata": {
    "collapsed": false
   },
   "outputs": [
    {
     "name": "stdout",
     "output_type": "stream",
     "text": [
      "Ramo\n",
      "Clave de Cartera\n",
      "Unidad Responsable\n"
     ]
    }
   ],
   "source": [
    "print(pef[2008].columns[1])\n",
    "print(pef[2015].columns[25])\n",
    "print(pef[2015].columns[3])"
   ]
  },
  {
   "cell_type": "code",
   "execution_count": 41,
   "metadata": {
    "collapsed": false
   },
   "outputs": [
    {
     "data": {
      "text/plain": [
       "9      9813\n",
       "11     5430\n",
       "12     4732\n",
       "16     3571\n",
       "8      2760\n",
       "10     2671\n",
       "6      2459\n",
       "20     1990\n",
       "17     1959\n",
       "33     1698\n",
       "GYN    1436\n",
       "4      1298\n",
       "15     1278\n",
       "32     1087\n",
       "14     1064\n",
       "22      977\n",
       "5       975\n",
       "36      935\n",
       "27      902\n",
       "18      844\n",
       "14      677\n",
       "35      669\n",
       "7       669\n",
       "21      648\n",
       "13      551\n",
       "38      467\n",
       "GYR     413\n",
       "TOQ     408\n",
       "2       392\n",
       "T1O     176\n",
       "3       175\n",
       "1       166\n",
       "31      151\n",
       "28      128\n",
       "37      110\n",
       "23       98\n",
       "TZZ      60\n",
       "25       32\n",
       "19       19\n",
       "24       19\n",
       "34       10\n",
       "30        1\n",
       "Name: Ramo, dtype: int64"
      ]
     },
     "execution_count": 41,
     "metadata": {},
     "output_type": "execute_result"
    }
   ],
   "source": [
    "pef[2008]['Ramo'].value_counts()"
   ]
  },
  {
   "cell_type": "code",
   "execution_count": 42,
   "metadata": {
    "collapsed": false
   },
   "outputs": [
    {
     "name": "stderr",
     "output_type": "stream",
     "text": [
      "/usr/local/lib/python3.5/dist-packages/IPython/core/interactiveshell.py:2705: DtypeWarning: Columns (25) have mixed types. Specify dtype option on import or set low_memory=False.\n",
      "  interactivity=interactivity, compiler=compiler, result=result)\n"
     ]
    }
   ],
   "source": [
    "casting = {\n",
    "    'Unidad Responsable': str,\n",
    "    'Clave de cartera': str,\n",
    "    'Ramo': str,\n",
    "}\n",
    "\n",
    "for year in range(2008, 2017):\n",
    "    pef[year] = read_csv('PEF%s_AC01.csv' % year, encoding='iso-8859-1', dtype=casting)"
   ]
  },
  {
   "cell_type": "code",
   "execution_count": 43,
   "metadata": {
    "collapsed": false
   },
   "outputs": [
    {
     "data": {
      "text/html": [
       "<div>\n",
       "<table border=\"1\" class=\"dataframe\">\n",
       "  <thead>\n",
       "    <tr style=\"text-align: right;\">\n",
       "      <th></th>\n",
       "      <th>Ciclo</th>\n",
       "      <th>Ramo</th>\n",
       "      <th>Descripción de Ramo</th>\n",
       "      <th>Unidad Responsable</th>\n",
       "      <th>Descripción de Unidad Responsable</th>\n",
       "      <th>Finalidad</th>\n",
       "      <th>Descripción de Finalidad</th>\n",
       "      <th>Función</th>\n",
       "      <th>Descripción de Función</th>\n",
       "      <th>Subfunción</th>\n",
       "      <th>...</th>\n",
       "      <th>Objeto del Gasto</th>\n",
       "      <th>Descripción de Objeto del Gasto</th>\n",
       "      <th>Tipo de Gasto</th>\n",
       "      <th>Descripción de Tipo de Gasto</th>\n",
       "      <th>Fuente de Financiamiento</th>\n",
       "      <th>Descripción de Fuente de Financiamiento</th>\n",
       "      <th>Entidad Federativa</th>\n",
       "      <th>Descripción de Entidad Federativa</th>\n",
       "      <th>Clave de Cartera</th>\n",
       "      <th>Importe Presupuesto de Egresos de la Federación (PEF)</th>\n",
       "    </tr>\n",
       "  </thead>\n",
       "  <tbody>\n",
       "    <tr>\n",
       "      <th>0</th>\n",
       "      <td>2015</td>\n",
       "      <td>1</td>\n",
       "      <td>Poder Legislativo</td>\n",
       "      <td>100</td>\n",
       "      <td>H. Cámara de Diputados</td>\n",
       "      <td>1</td>\n",
       "      <td>Gobierno</td>\n",
       "      <td>1</td>\n",
       "      <td>Legislación</td>\n",
       "      <td>1</td>\n",
       "      <td>...</td>\n",
       "      <td>6200</td>\n",
       "      <td>Obra pública en bienes propios</td>\n",
       "      <td>3</td>\n",
       "      <td>Gasto de obra pública</td>\n",
       "      <td>1</td>\n",
       "      <td>Recursos fiscales</td>\n",
       "      <td>9</td>\n",
       "      <td>Distrito Federal</td>\n",
       "      <td>0</td>\n",
       "      <td>$11,397,536.00</td>\n",
       "    </tr>\n",
       "    <tr>\n",
       "      <th>1</th>\n",
       "      <td>2015</td>\n",
       "      <td>1</td>\n",
       "      <td>Poder Legislativo</td>\n",
       "      <td>100</td>\n",
       "      <td>H. Cámara de Diputados</td>\n",
       "      <td>1</td>\n",
       "      <td>Gobierno</td>\n",
       "      <td>1</td>\n",
       "      <td>Legislación</td>\n",
       "      <td>1</td>\n",
       "      <td>...</td>\n",
       "      <td>6200</td>\n",
       "      <td>Obra pública en bienes propios</td>\n",
       "      <td>3</td>\n",
       "      <td>Gasto de obra pública</td>\n",
       "      <td>1</td>\n",
       "      <td>Recursos fiscales</td>\n",
       "      <td>9</td>\n",
       "      <td>Distrito Federal</td>\n",
       "      <td>0</td>\n",
       "      <td>$166,970,738.00</td>\n",
       "    </tr>\n",
       "    <tr>\n",
       "      <th>2</th>\n",
       "      <td>2015</td>\n",
       "      <td>1</td>\n",
       "      <td>Poder Legislativo</td>\n",
       "      <td>100</td>\n",
       "      <td>H. Cámara de Diputados</td>\n",
       "      <td>1</td>\n",
       "      <td>Gobierno</td>\n",
       "      <td>1</td>\n",
       "      <td>Legislación</td>\n",
       "      <td>1</td>\n",
       "      <td>...</td>\n",
       "      <td>1100</td>\n",
       "      <td>Remuneraciones al personal de carácter permanente</td>\n",
       "      <td>1</td>\n",
       "      <td>Gasto corriente</td>\n",
       "      <td>1</td>\n",
       "      <td>Recursos fiscales</td>\n",
       "      <td>9</td>\n",
       "      <td>Distrito Federal</td>\n",
       "      <td>0</td>\n",
       "      <td>$632,268,000.00</td>\n",
       "    </tr>\n",
       "    <tr>\n",
       "      <th>3</th>\n",
       "      <td>2015</td>\n",
       "      <td>1</td>\n",
       "      <td>Poder Legislativo</td>\n",
       "      <td>100</td>\n",
       "      <td>H. Cámara de Diputados</td>\n",
       "      <td>1</td>\n",
       "      <td>Gobierno</td>\n",
       "      <td>1</td>\n",
       "      <td>Legislación</td>\n",
       "      <td>1</td>\n",
       "      <td>...</td>\n",
       "      <td>1100</td>\n",
       "      <td>Remuneraciones al personal de carácter permanente</td>\n",
       "      <td>1</td>\n",
       "      <td>Gasto corriente</td>\n",
       "      <td>1</td>\n",
       "      <td>Recursos fiscales</td>\n",
       "      <td>9</td>\n",
       "      <td>Distrito Federal</td>\n",
       "      <td>0</td>\n",
       "      <td>$356,286,670.00</td>\n",
       "    </tr>\n",
       "    <tr>\n",
       "      <th>4</th>\n",
       "      <td>2015</td>\n",
       "      <td>1</td>\n",
       "      <td>Poder Legislativo</td>\n",
       "      <td>100</td>\n",
       "      <td>H. Cámara de Diputados</td>\n",
       "      <td>1</td>\n",
       "      <td>Gobierno</td>\n",
       "      <td>1</td>\n",
       "      <td>Legislación</td>\n",
       "      <td>1</td>\n",
       "      <td>...</td>\n",
       "      <td>1200</td>\n",
       "      <td>Remuneraciones al personal de carácter transit...</td>\n",
       "      <td>1</td>\n",
       "      <td>Gasto corriente</td>\n",
       "      <td>1</td>\n",
       "      <td>Recursos fiscales</td>\n",
       "      <td>9</td>\n",
       "      <td>Distrito Federal</td>\n",
       "      <td>0</td>\n",
       "      <td>$878,543,868.00</td>\n",
       "    </tr>\n",
       "  </tbody>\n",
       "</table>\n",
       "<p>5 rows × 27 columns</p>\n",
       "</div>"
      ],
      "text/plain": [
       "   Ciclo Ramo Descripción de Ramo Unidad Responsable  \\\n",
       "0   2015    1   Poder Legislativo                100   \n",
       "1   2015    1   Poder Legislativo                100   \n",
       "2   2015    1   Poder Legislativo                100   \n",
       "3   2015    1   Poder Legislativo                100   \n",
       "4   2015    1   Poder Legislativo                100   \n",
       "\n",
       "  Descripción de Unidad Responsable  Finalidad Descripción de Finalidad  \\\n",
       "0            H. Cámara de Diputados          1                 Gobierno   \n",
       "1            H. Cámara de Diputados          1                 Gobierno   \n",
       "2            H. Cámara de Diputados          1                 Gobierno   \n",
       "3            H. Cámara de Diputados          1                 Gobierno   \n",
       "4            H. Cámara de Diputados          1                 Gobierno   \n",
       "\n",
       "   Función Descripción de Función  Subfunción  \\\n",
       "0        1            Legislación           1   \n",
       "1        1            Legislación           1   \n",
       "2        1            Legislación           1   \n",
       "3        1            Legislación           1   \n",
       "4        1            Legislación           1   \n",
       "\n",
       "                            ...                            Objeto del Gasto  \\\n",
       "0                           ...                                        6200   \n",
       "1                           ...                                        6200   \n",
       "2                           ...                                        1100   \n",
       "3                           ...                                        1100   \n",
       "4                           ...                                        1200   \n",
       "\n",
       "                     Descripción de Objeto del Gasto Tipo de Gasto  \\\n",
       "0                     Obra pública en bienes propios             3   \n",
       "1                     Obra pública en bienes propios             3   \n",
       "2  Remuneraciones al personal de carácter permanente             1   \n",
       "3  Remuneraciones al personal de carácter permanente             1   \n",
       "4  Remuneraciones al personal de carácter transit...             1   \n",
       "\n",
       "  Descripción de Tipo de Gasto Fuente de Financiamiento  \\\n",
       "0        Gasto de obra pública                        1   \n",
       "1        Gasto de obra pública                        1   \n",
       "2              Gasto corriente                        1   \n",
       "3              Gasto corriente                        1   \n",
       "4              Gasto corriente                        1   \n",
       "\n",
       "   Descripción de Fuente de Financiamiento Entidad Federativa  \\\n",
       "0                        Recursos fiscales                  9   \n",
       "1                        Recursos fiscales                  9   \n",
       "2                        Recursos fiscales                  9   \n",
       "3                        Recursos fiscales                  9   \n",
       "4                        Recursos fiscales                  9   \n",
       "\n",
       "   Descripción de Entidad Federativa Clave de Cartera  \\\n",
       "0                   Distrito Federal                0   \n",
       "1                   Distrito Federal                0   \n",
       "2                   Distrito Federal                0   \n",
       "3                   Distrito Federal                0   \n",
       "4                   Distrito Federal                0   \n",
       "\n",
       "    Importe Presupuesto de Egresos de la Federación (PEF)   \n",
       "0                                     $11,397,536.00        \n",
       "1                                    $166,970,738.00        \n",
       "2                                    $632,268,000.00        \n",
       "3                                    $356,286,670.00        \n",
       "4                                    $878,543,868.00        \n",
       "\n",
       "[5 rows x 27 columns]"
      ]
     },
     "execution_count": 43,
     "metadata": {},
     "output_type": "execute_result"
    }
   ],
   "source": [
    "pef[2015].head()"
   ]
  },
  {
   "cell_type": "markdown",
   "metadata": {
    "collapsed": false
   },
   "source": [
    "### Column consistency"
   ]
  },
  {
   "cell_type": "code",
   "execution_count": 44,
   "metadata": {
    "collapsed": false
   },
   "outputs": [
    {
     "name": "stdout",
     "output_type": "stream",
     "text": [
      "2016 no\n",
      "2008 no\n",
      "2009 no\n",
      "2010 yes\n",
      "2011 yes\n",
      "2012 yes\n",
      "2013 no\n",
      "2014 no\n",
      "2015 no\n"
     ]
    }
   ],
   "source": [
    "are_columns_the_same(pef, 2010)"
   ]
  },
  {
   "cell_type": "code",
   "execution_count": 45,
   "metadata": {
    "collapsed": false
   },
   "outputs": [
    {
     "data": {
      "text/plain": [
       "{' Importe Presupuesto de Egresos de la Federación (PEF) ',\n",
       " 'Actividad Institucional',\n",
       " 'Ciclo',\n",
       " 'Clave de Cartera',\n",
       " 'Descripción de Entidad Federativa',\n",
       " 'Descripción de Finalidad',\n",
       " 'Descripción de Fuente de Financiamiento',\n",
       " 'Descripción de Función',\n",
       " 'Descripción de Objeto del Gasto',\n",
       " 'Descripción de Programa Presupuestario',\n",
       " 'Descripción de Ramo',\n",
       " 'Descripción de Subfunción',\n",
       " 'Descripción de Tipo de Gasto',\n",
       " 'Descripción de Unidad Responsable',\n",
       " 'Descripción de la Actividad Institucional',\n",
       " 'Descripción del Identificador del Programa Presupuestario',\n",
       " 'Entidad Federativa',\n",
       " 'Finalidad',\n",
       " 'Fuente de Financiamiento',\n",
       " 'Función',\n",
       " 'Identificador del Programa Presupuestario',\n",
       " 'Importe Presupuesto de Egresos de la Federación (PEF)',\n",
       " 'Objeto del Gasto',\n",
       " 'Programa Presupuestario',\n",
       " 'Ramo',\n",
       " 'Subfunción',\n",
       " 'Tipo de Gasto',\n",
       " 'Unidad Responsable',\n",
       " 'Unnamed: 24',\n",
       " 'Unnamed: 25',\n",
       " 'Unnamed: 26',\n",
       " 'Unnamed: 27',\n",
       " 'Unnamed: 28',\n",
       " 'Unnamed: 29',\n",
       " 'Unnamed: 30'}"
      ]
     },
     "execution_count": 45,
     "metadata": {},
     "output_type": "execute_result"
    }
   ],
   "source": [
    "union_of_columns(pef)"
   ]
  },
  {
   "cell_type": "code",
   "execution_count": 46,
   "metadata": {
    "collapsed": false
   },
   "outputs": [
    {
     "name": "stdout",
     "output_type": "stream",
     "text": [
      "2010 ['Unnamed: 24', 'Unnamed: 25', 'Unnamed: 26', 'Unnamed: 27', 'Unnamed: 28', 'Unnamed: 29', 'Unnamed: 30']\n",
      "2011 ['Unnamed: 24', 'Unnamed: 25', 'Unnamed: 26', 'Unnamed: 27', 'Unnamed: 28', 'Unnamed: 29', 'Unnamed: 30']\n",
      "2012 ['Unnamed: 24', 'Unnamed: 25', 'Unnamed: 26', 'Unnamed: 27', 'Unnamed: 28', 'Unnamed: 29', 'Unnamed: 30']\n",
      "2013 []\n",
      "2014 []\n",
      "2015 []\n"
     ]
    }
   ],
   "source": [
    "print_unnamed_columns(pef)"
   ]
  },
  {
   "cell_type": "code",
   "execution_count": 47,
   "metadata": {
    "collapsed": false
   },
   "outputs": [
    {
     "data": {
      "text/html": [
       "<div>\n",
       "<table border=\"1\" class=\"dataframe\">\n",
       "  <thead>\n",
       "    <tr style=\"text-align: right;\">\n",
       "      <th></th>\n",
       "      <th>Ciclo</th>\n",
       "      <th>Ramo</th>\n",
       "      <th>Descripción de Ramo</th>\n",
       "      <th>Unidad Responsable</th>\n",
       "      <th>Descripción de Unidad Responsable</th>\n",
       "      <th>Finalidad</th>\n",
       "      <th>Descripción de Finalidad</th>\n",
       "      <th>Función</th>\n",
       "      <th>Descripción de Función</th>\n",
       "      <th>Subfunción</th>\n",
       "      <th>...</th>\n",
       "      <th>Fuente de Financiamiento</th>\n",
       "      <th>Descripción de Fuente de Financiamiento</th>\n",
       "      <th>Importe Presupuesto de Egresos de la Federación (PEF)</th>\n",
       "      <th>Unnamed: 24</th>\n",
       "      <th>Unnamed: 25</th>\n",
       "      <th>Unnamed: 26</th>\n",
       "      <th>Unnamed: 27</th>\n",
       "      <th>Unnamed: 28</th>\n",
       "      <th>Unnamed: 29</th>\n",
       "      <th>Unnamed: 30</th>\n",
       "    </tr>\n",
       "  </thead>\n",
       "  <tbody>\n",
       "    <tr>\n",
       "      <th>0</th>\n",
       "      <td>2010.0</td>\n",
       "      <td>1</td>\n",
       "      <td>Poder Legislativo</td>\n",
       "      <td>100</td>\n",
       "      <td>H. Cámara de Diputados</td>\n",
       "      <td>1.0</td>\n",
       "      <td>Gobierno</td>\n",
       "      <td>0.0</td>\n",
       "      <td>Legislación</td>\n",
       "      <td>1.0</td>\n",
       "      <td>...</td>\n",
       "      <td>1.0</td>\n",
       "      <td>Recursos fiscales</td>\n",
       "      <td>17642688.0</td>\n",
       "      <td>NaN</td>\n",
       "      <td>NaN</td>\n",
       "      <td>NaN</td>\n",
       "      <td>NaN</td>\n",
       "      <td>NaN</td>\n",
       "      <td>NaN</td>\n",
       "      <td>NaN</td>\n",
       "    </tr>\n",
       "    <tr>\n",
       "      <th>1</th>\n",
       "      <td>2010.0</td>\n",
       "      <td>1</td>\n",
       "      <td>Poder Legislativo</td>\n",
       "      <td>100</td>\n",
       "      <td>H. Cámara de Diputados</td>\n",
       "      <td>1.0</td>\n",
       "      <td>Gobierno</td>\n",
       "      <td>0.0</td>\n",
       "      <td>Legislación</td>\n",
       "      <td>1.0</td>\n",
       "      <td>...</td>\n",
       "      <td>1.0</td>\n",
       "      <td>Recursos fiscales</td>\n",
       "      <td>863642461.0</td>\n",
       "      <td>NaN</td>\n",
       "      <td>NaN</td>\n",
       "      <td>NaN</td>\n",
       "      <td>NaN</td>\n",
       "      <td>NaN</td>\n",
       "      <td>NaN</td>\n",
       "      <td>NaN</td>\n",
       "    </tr>\n",
       "  </tbody>\n",
       "</table>\n",
       "<p>2 rows × 31 columns</p>\n",
       "</div>"
      ],
      "text/plain": [
       "    Ciclo Ramo Descripción de Ramo Unidad Responsable  \\\n",
       "0  2010.0    1   Poder Legislativo                100   \n",
       "1  2010.0    1   Poder Legislativo                100   \n",
       "\n",
       "  Descripción de Unidad Responsable  Finalidad Descripción de Finalidad  \\\n",
       "0            H. Cámara de Diputados        1.0                 Gobierno   \n",
       "1            H. Cámara de Diputados        1.0                 Gobierno   \n",
       "\n",
       "   Función Descripción de Función  Subfunción     ...       \\\n",
       "0      0.0            Legislación         1.0     ...        \n",
       "1      0.0            Legislación         1.0     ...        \n",
       "\n",
       "  Fuente de Financiamiento  Descripción de Fuente de Financiamiento  \\\n",
       "0                      1.0                        Recursos fiscales   \n",
       "1                      1.0                        Recursos fiscales   \n",
       "\n",
       "  Importe Presupuesto de Egresos de la Federación (PEF) Unnamed: 24  \\\n",
       "0                                         17642688.0            NaN   \n",
       "1                                        863642461.0            NaN   \n",
       "\n",
       "  Unnamed: 25  Unnamed: 26 Unnamed: 27  Unnamed: 28 Unnamed: 29  Unnamed: 30  \n",
       "0         NaN          NaN         NaN          NaN         NaN          NaN  \n",
       "1         NaN          NaN         NaN          NaN         NaN          NaN  \n",
       "\n",
       "[2 rows x 31 columns]"
      ]
     },
     "execution_count": 47,
     "metadata": {},
     "output_type": "execute_result"
    }
   ],
   "source": [
    "pef[2010].head(2)"
   ]
  },
  {
   "cell_type": "code",
   "execution_count": 48,
   "metadata": {
    "collapsed": false
   },
   "outputs": [],
   "source": [
    "def delete_empty_columns(years):\n",
    "    for year in years:\n",
    "        for i in range(24,31):\n",
    "            unnamed = 'Unnamed: %s' % i\n",
    "            try:\n",
    "                del pef[year][unnamed]\n",
    "            except KeyError:\n",
    "                pass"
   ]
  },
  {
   "cell_type": "code",
   "execution_count": 65,
   "metadata": {
    "collapsed": false
   },
   "outputs": [
    {
     "data": {
      "text/html": [
       "<div>\n",
       "<table border=\"1\" class=\"dataframe\">\n",
       "  <thead>\n",
       "    <tr style=\"text-align: right;\">\n",
       "      <th></th>\n",
       "      <th>Ciclo</th>\n",
       "      <th>Ramo</th>\n",
       "      <th>Descripción de Ramo</th>\n",
       "      <th>Unidad Responsable</th>\n",
       "      <th>Descripción de Unidad Responsable</th>\n",
       "      <th>Finalidad</th>\n",
       "      <th>Descripción de Finalidad</th>\n",
       "      <th>Función</th>\n",
       "      <th>Descripción de Función</th>\n",
       "      <th>Subfunción</th>\n",
       "      <th>...</th>\n",
       "      <th>Descripción del Identificador del Programa Presupuestario</th>\n",
       "      <th>Programa Presupuestario</th>\n",
       "      <th>Descripción de Programa Presupuestario</th>\n",
       "      <th>Objeto del Gasto</th>\n",
       "      <th>Descripción de Objeto del Gasto</th>\n",
       "      <th>Tipo de Gasto</th>\n",
       "      <th>Descripción de Tipo de Gasto</th>\n",
       "      <th>Fuente de Financiamiento</th>\n",
       "      <th>Descripción de Fuente de Financiamiento</th>\n",
       "      <th>Importe Presupuesto de Egresos de la Federación (PEF)</th>\n",
       "    </tr>\n",
       "  </thead>\n",
       "  <tbody>\n",
       "    <tr>\n",
       "      <th>0</th>\n",
       "      <td>2010.0</td>\n",
       "      <td>1</td>\n",
       "      <td>Poder Legislativo</td>\n",
       "      <td>100</td>\n",
       "      <td>H. Cámara de Diputados</td>\n",
       "      <td>1.0</td>\n",
       "      <td>Gobierno</td>\n",
       "      <td>0.0</td>\n",
       "      <td>Legislación</td>\n",
       "      <td>1.0</td>\n",
       "      <td>...</td>\n",
       "      <td>Proyectos de Inversión</td>\n",
       "      <td>27.0</td>\n",
       "      <td>Mantenimiento de Infraestructura</td>\n",
       "      <td>6100.0</td>\n",
       "      <td>Obras Públicas por Contrato</td>\n",
       "      <td>3.0</td>\n",
       "      <td>Gasto de obra pública</td>\n",
       "      <td>1.0</td>\n",
       "      <td>Recursos fiscales</td>\n",
       "      <td>17642688.0</td>\n",
       "    </tr>\n",
       "    <tr>\n",
       "      <th>1</th>\n",
       "      <td>2010.0</td>\n",
       "      <td>1</td>\n",
       "      <td>Poder Legislativo</td>\n",
       "      <td>100</td>\n",
       "      <td>H. Cámara de Diputados</td>\n",
       "      <td>1.0</td>\n",
       "      <td>Gobierno</td>\n",
       "      <td>0.0</td>\n",
       "      <td>Legislación</td>\n",
       "      <td>1.0</td>\n",
       "      <td>...</td>\n",
       "      <td>Específicos</td>\n",
       "      <td>1.0</td>\n",
       "      <td>Actividades derivadas del Trabajo Legislativo</td>\n",
       "      <td>1100.0</td>\n",
       "      <td>Remuneraciones al Personal de Carácter Permanente</td>\n",
       "      <td>1.0</td>\n",
       "      <td>Gasto corriente</td>\n",
       "      <td>1.0</td>\n",
       "      <td>Recursos fiscales</td>\n",
       "      <td>863642461.0</td>\n",
       "    </tr>\n",
       "    <tr>\n",
       "      <th>2</th>\n",
       "      <td>2010.0</td>\n",
       "      <td>1</td>\n",
       "      <td>Poder Legislativo</td>\n",
       "      <td>100</td>\n",
       "      <td>H. Cámara de Diputados</td>\n",
       "      <td>1.0</td>\n",
       "      <td>Gobierno</td>\n",
       "      <td>0.0</td>\n",
       "      <td>Legislación</td>\n",
       "      <td>1.0</td>\n",
       "      <td>...</td>\n",
       "      <td>Específicos</td>\n",
       "      <td>1.0</td>\n",
       "      <td>Actividades derivadas del Trabajo Legislativo</td>\n",
       "      <td>1200.0</td>\n",
       "      <td>Remuneraciones al Personal de Carácter Transit...</td>\n",
       "      <td>1.0</td>\n",
       "      <td>Gasto corriente</td>\n",
       "      <td>1.0</td>\n",
       "      <td>Recursos fiscales</td>\n",
       "      <td>417754061.0</td>\n",
       "    </tr>\n",
       "    <tr>\n",
       "      <th>3</th>\n",
       "      <td>2010.0</td>\n",
       "      <td>1</td>\n",
       "      <td>Poder Legislativo</td>\n",
       "      <td>100</td>\n",
       "      <td>H. Cámara de Diputados</td>\n",
       "      <td>1.0</td>\n",
       "      <td>Gobierno</td>\n",
       "      <td>0.0</td>\n",
       "      <td>Legislación</td>\n",
       "      <td>1.0</td>\n",
       "      <td>...</td>\n",
       "      <td>Específicos</td>\n",
       "      <td>1.0</td>\n",
       "      <td>Actividades derivadas del Trabajo Legislativo</td>\n",
       "      <td>1300.0</td>\n",
       "      <td>Remuneraciones Adicionales y Especiales</td>\n",
       "      <td>1.0</td>\n",
       "      <td>Gasto corriente</td>\n",
       "      <td>1.0</td>\n",
       "      <td>Recursos fiscales</td>\n",
       "      <td>311260420.0</td>\n",
       "    </tr>\n",
       "    <tr>\n",
       "      <th>4</th>\n",
       "      <td>2010.0</td>\n",
       "      <td>1</td>\n",
       "      <td>Poder Legislativo</td>\n",
       "      <td>100</td>\n",
       "      <td>H. Cámara de Diputados</td>\n",
       "      <td>1.0</td>\n",
       "      <td>Gobierno</td>\n",
       "      <td>0.0</td>\n",
       "      <td>Legislación</td>\n",
       "      <td>1.0</td>\n",
       "      <td>...</td>\n",
       "      <td>Específicos</td>\n",
       "      <td>1.0</td>\n",
       "      <td>Actividades derivadas del Trabajo Legislativo</td>\n",
       "      <td>1400.0</td>\n",
       "      <td>Erogaciones del Gobierno Federal por Concepto ...</td>\n",
       "      <td>1.0</td>\n",
       "      <td>Gasto corriente</td>\n",
       "      <td>1.0</td>\n",
       "      <td>Recursos fiscales</td>\n",
       "      <td>176055727.0</td>\n",
       "    </tr>\n",
       "  </tbody>\n",
       "</table>\n",
       "<p>5 rows × 24 columns</p>\n",
       "</div>"
      ],
      "text/plain": [
       "    Ciclo Ramo Descripción de Ramo Unidad Responsable  \\\n",
       "0  2010.0    1   Poder Legislativo                100   \n",
       "1  2010.0    1   Poder Legislativo                100   \n",
       "2  2010.0    1   Poder Legislativo                100   \n",
       "3  2010.0    1   Poder Legislativo                100   \n",
       "4  2010.0    1   Poder Legislativo                100   \n",
       "\n",
       "  Descripción de Unidad Responsable  Finalidad Descripción de Finalidad  \\\n",
       "0            H. Cámara de Diputados        1.0                 Gobierno   \n",
       "1            H. Cámara de Diputados        1.0                 Gobierno   \n",
       "2            H. Cámara de Diputados        1.0                 Gobierno   \n",
       "3            H. Cámara de Diputados        1.0                 Gobierno   \n",
       "4            H. Cámara de Diputados        1.0                 Gobierno   \n",
       "\n",
       "   Función Descripción de Función  Subfunción  \\\n",
       "0      0.0            Legislación         1.0   \n",
       "1      0.0            Legislación         1.0   \n",
       "2      0.0            Legislación         1.0   \n",
       "3      0.0            Legislación         1.0   \n",
       "4      0.0            Legislación         1.0   \n",
       "\n",
       "                           ...                            \\\n",
       "0                          ...                             \n",
       "1                          ...                             \n",
       "2                          ...                             \n",
       "3                          ...                             \n",
       "4                          ...                             \n",
       "\n",
       "  Descripción del Identificador del Programa Presupuestario  \\\n",
       "0                             Proyectos de Inversión          \n",
       "1                                        Específicos          \n",
       "2                                        Específicos          \n",
       "3                                        Específicos          \n",
       "4                                        Específicos          \n",
       "\n",
       "   Programa Presupuestario         Descripción de Programa Presupuestario  \\\n",
       "0                     27.0               Mantenimiento de Infraestructura   \n",
       "1                      1.0  Actividades derivadas del Trabajo Legislativo   \n",
       "2                      1.0  Actividades derivadas del Trabajo Legislativo   \n",
       "3                      1.0  Actividades derivadas del Trabajo Legislativo   \n",
       "4                      1.0  Actividades derivadas del Trabajo Legislativo   \n",
       "\n",
       "  Objeto del Gasto                    Descripción de Objeto del Gasto  \\\n",
       "0           6100.0                        Obras Públicas por Contrato   \n",
       "1           1100.0  Remuneraciones al Personal de Carácter Permanente   \n",
       "2           1200.0  Remuneraciones al Personal de Carácter Transit...   \n",
       "3           1300.0            Remuneraciones Adicionales y Especiales   \n",
       "4           1400.0  Erogaciones del Gobierno Federal por Concepto ...   \n",
       "\n",
       "   Tipo de Gasto Descripción de Tipo de Gasto  Fuente de Financiamiento  \\\n",
       "0            3.0        Gasto de obra pública                       1.0   \n",
       "1            1.0              Gasto corriente                       1.0   \n",
       "2            1.0              Gasto corriente                       1.0   \n",
       "3            1.0              Gasto corriente                       1.0   \n",
       "4            1.0              Gasto corriente                       1.0   \n",
       "\n",
       "  Descripción de Fuente de Financiamiento  \\\n",
       "0                       Recursos fiscales   \n",
       "1                       Recursos fiscales   \n",
       "2                       Recursos fiscales   \n",
       "3                       Recursos fiscales   \n",
       "4                       Recursos fiscales   \n",
       "\n",
       "   Importe Presupuesto de Egresos de la Federación (PEF)  \n",
       "0                                         17642688.0      \n",
       "1                                        863642461.0      \n",
       "2                                        417754061.0      \n",
       "3                                        311260420.0      \n",
       "4                                        176055727.0      \n",
       "\n",
       "[5 rows x 24 columns]"
      ]
     },
     "execution_count": 65,
     "metadata": {},
     "output_type": "execute_result"
    }
   ],
   "source": [
    "delete_empty_columns([2010, 2011, 2012])\n",
    "pef[2010].head()"
   ]
  },
  {
   "cell_type": "code",
   "execution_count": 66,
   "metadata": {
    "collapsed": false
   },
   "outputs": [
    {
     "data": {
      "text/plain": [
       "{'Actividad Institucional',\n",
       " 'Ciclo',\n",
       " 'Clave de Cartera',\n",
       " 'Descripción de Entidad Federativa',\n",
       " 'Descripción de Finalidad',\n",
       " 'Descripción de Fuente de Financiamiento',\n",
       " 'Descripción de Función',\n",
       " 'Descripción de Objeto del Gasto',\n",
       " 'Descripción de Programa Presupuestario',\n",
       " 'Descripción de Ramo',\n",
       " 'Descripción de Subfunción',\n",
       " 'Descripción de Tipo de Gasto',\n",
       " 'Descripción de Unidad Responsable',\n",
       " 'Descripción de la Actividad Institucional',\n",
       " 'Descripción del Identificador del Programa Presupuestario',\n",
       " 'Entidad Federativa',\n",
       " 'Finalidad',\n",
       " 'Fuente de Financiamiento',\n",
       " 'Función',\n",
       " 'Identificador del Programa Presupuestario',\n",
       " 'Importe Presupuesto de Egresos de la Federación (PEF)',\n",
       " 'Objeto del Gasto',\n",
       " 'Programa Presupuestario',\n",
       " 'Ramo',\n",
       " 'Subfunción',\n",
       " 'Tipo de Gasto',\n",
       " 'Unidad Responsable'}"
      ]
     },
     "execution_count": 66,
     "metadata": {},
     "output_type": "execute_result"
    }
   ],
   "source": [
    "union_of_columns(pef)"
   ]
  },
  {
   "cell_type": "code",
   "execution_count": 67,
   "metadata": {
    "collapsed": false
   },
   "outputs": [
    {
     "data": {
      "text/plain": [
       "27"
      ]
     },
     "execution_count": 67,
     "metadata": {},
     "output_type": "execute_result"
    }
   ],
   "source": [
    "len(union_of_columns(pef))"
   ]
  },
  {
   "cell_type": "code",
   "execution_count": 52,
   "metadata": {
    "collapsed": false
   },
   "outputs": [
    {
     "name": "stdout",
     "output_type": "stream",
     "text": [
      "2008 False\n",
      "2009 False\n",
      "2010 False\n",
      "2011 False\n",
      "2012 False\n",
      "2013 False\n",
      "2014 True\n",
      "2015 True\n",
      "2016 False\n"
     ]
    }
   ],
   "source": [
    "for year in range(2008, 2017):\n",
    "    print(year, ' Importe Presupuesto de Egresos de la Federación (PEF) ' in pef[year].columns)"
   ]
  },
  {
   "cell_type": "code",
   "execution_count": 53,
   "metadata": {
    "collapsed": false
   },
   "outputs": [
    {
     "data": {
      "text/plain": [
       "{'Actividad Institucional',\n",
       " 'Ciclo',\n",
       " 'Clave de Cartera',\n",
       " 'Descripción de Entidad Federativa',\n",
       " 'Descripción de Finalidad',\n",
       " 'Descripción de Fuente de Financiamiento',\n",
       " 'Descripción de Función',\n",
       " 'Descripción de Objeto del Gasto',\n",
       " 'Descripción de Programa Presupuestario',\n",
       " 'Descripción de Ramo',\n",
       " 'Descripción de Subfunción',\n",
       " 'Descripción de Tipo de Gasto',\n",
       " 'Descripción de Unidad Responsable',\n",
       " 'Descripción de la Actividad Institucional',\n",
       " 'Descripción del Identificador del Programa Presupuestario',\n",
       " 'Entidad Federativa',\n",
       " 'Finalidad',\n",
       " 'Fuente de Financiamiento',\n",
       " 'Función',\n",
       " 'Identificador del Programa Presupuestario',\n",
       " 'Importe Presupuesto de Egresos de la Federación (PEF)',\n",
       " 'Objeto del Gasto',\n",
       " 'Programa Presupuestario',\n",
       " 'Ramo',\n",
       " 'Subfunción',\n",
       " 'Tipo de Gasto',\n",
       " 'Unidad Responsable'}"
      ]
     },
     "execution_count": 53,
     "metadata": {},
     "output_type": "execute_result"
    }
   ],
   "source": [
    "new_name = {\n",
    "    ' Importe Presupuesto de Egresos de la Federación (PEF) ': 'Importe Presupuesto de Egresos de la Federación (PEF)'\n",
    "}\n",
    "\n",
    "pef[2014].rename(columns=new_name, inplace=True)\n",
    "pef[2015].rename(columns=new_name, inplace=True)\n",
    "union_of_columns(pef)"
   ]
  },
  {
   "cell_type": "code",
   "execution_count": 61,
   "metadata": {
    "collapsed": false
   },
   "outputs": [],
   "source": [
    "from pandas import concat \n",
    "multi_year_pef = concat(pef.values(), ignore_index=True)"
   ]
  },
  {
   "cell_type": "code",
   "execution_count": 63,
   "metadata": {
    "collapsed": false
   },
   "outputs": [
    {
     "data": {
      "text/html": [
       "<div>\n",
       "<table border=\"1\" class=\"dataframe\">\n",
       "  <thead>\n",
       "    <tr style=\"text-align: right;\">\n",
       "      <th></th>\n",
       "      <th>ACTIVIDAD_INST_DESCRIPCION</th>\n",
       "      <th>AI</th>\n",
       "      <th>Actividad Institucional</th>\n",
       "      <th>CLAVE_CARTERA</th>\n",
       "      <th>CONCEPTO</th>\n",
       "      <th>CONCEPTO_DESCRIPCION</th>\n",
       "      <th>Ciclo</th>\n",
       "      <th>Clave de Cartera</th>\n",
       "      <th>Descripción de Actividad Institucional</th>\n",
       "      <th>Descripción de Entidad Federativa</th>\n",
       "      <th>...</th>\n",
       "      <th>UNIDAD</th>\n",
       "      <th>UNIDAD_DESCRIPCION</th>\n",
       "      <th>Unidad Responsable</th>\n",
       "      <th>Unnamed: 24</th>\n",
       "      <th>Unnamed: 25</th>\n",
       "      <th>Unnamed: 26</th>\n",
       "      <th>Unnamed: 27</th>\n",
       "      <th>Unnamed: 28</th>\n",
       "      <th>Unnamed: 29</th>\n",
       "      <th>Unnamed: 30</th>\n",
       "    </tr>\n",
       "  </thead>\n",
       "  <tbody>\n",
       "    <tr>\n",
       "      <th>0</th>\n",
       "      <td>Llevar a cabo el proceso Legislativo</td>\n",
       "      <td>4.0</td>\n",
       "      <td>NaN</td>\n",
       "      <td>0</td>\n",
       "      <td>6200.0</td>\n",
       "      <td>Obra p£blica en bienes propios</td>\n",
       "      <td>2016.0</td>\n",
       "      <td>NaN</td>\n",
       "      <td>NaN</td>\n",
       "      <td>NaN</td>\n",
       "      <td>...</td>\n",
       "      <td>100</td>\n",
       "      <td>H. C mara de Diputados</td>\n",
       "      <td>NaN</td>\n",
       "      <td>NaN</td>\n",
       "      <td>NaN</td>\n",
       "      <td>NaN</td>\n",
       "      <td>NaN</td>\n",
       "      <td>NaN</td>\n",
       "      <td>NaN</td>\n",
       "      <td>NaN</td>\n",
       "    </tr>\n",
       "    <tr>\n",
       "      <th>1</th>\n",
       "      <td>Llevar a cabo el proceso Legislativo</td>\n",
       "      <td>4.0</td>\n",
       "      <td>NaN</td>\n",
       "      <td>0</td>\n",
       "      <td>1100.0</td>\n",
       "      <td>Remuneraciones al personal de car cter permanente</td>\n",
       "      <td>2016.0</td>\n",
       "      <td>NaN</td>\n",
       "      <td>NaN</td>\n",
       "      <td>NaN</td>\n",
       "      <td>...</td>\n",
       "      <td>100</td>\n",
       "      <td>H. C mara de Diputados</td>\n",
       "      <td>NaN</td>\n",
       "      <td>NaN</td>\n",
       "      <td>NaN</td>\n",
       "      <td>NaN</td>\n",
       "      <td>NaN</td>\n",
       "      <td>NaN</td>\n",
       "      <td>NaN</td>\n",
       "      <td>NaN</td>\n",
       "    </tr>\n",
       "    <tr>\n",
       "      <th>2</th>\n",
       "      <td>Llevar a cabo el proceso Legislativo</td>\n",
       "      <td>4.0</td>\n",
       "      <td>NaN</td>\n",
       "      <td>0</td>\n",
       "      <td>1200.0</td>\n",
       "      <td>Remuneraciones al personal de car cter transit...</td>\n",
       "      <td>2016.0</td>\n",
       "      <td>NaN</td>\n",
       "      <td>NaN</td>\n",
       "      <td>NaN</td>\n",
       "      <td>...</td>\n",
       "      <td>100</td>\n",
       "      <td>H. C mara de Diputados</td>\n",
       "      <td>NaN</td>\n",
       "      <td>NaN</td>\n",
       "      <td>NaN</td>\n",
       "      <td>NaN</td>\n",
       "      <td>NaN</td>\n",
       "      <td>NaN</td>\n",
       "      <td>NaN</td>\n",
       "      <td>NaN</td>\n",
       "    </tr>\n",
       "    <tr>\n",
       "      <th>3</th>\n",
       "      <td>Llevar a cabo el proceso Legislativo</td>\n",
       "      <td>4.0</td>\n",
       "      <td>NaN</td>\n",
       "      <td>0</td>\n",
       "      <td>1300.0</td>\n",
       "      <td>Remuneraciones adicionales y especiales</td>\n",
       "      <td>2016.0</td>\n",
       "      <td>NaN</td>\n",
       "      <td>NaN</td>\n",
       "      <td>NaN</td>\n",
       "      <td>...</td>\n",
       "      <td>100</td>\n",
       "      <td>H. C mara de Diputados</td>\n",
       "      <td>NaN</td>\n",
       "      <td>NaN</td>\n",
       "      <td>NaN</td>\n",
       "      <td>NaN</td>\n",
       "      <td>NaN</td>\n",
       "      <td>NaN</td>\n",
       "      <td>NaN</td>\n",
       "      <td>NaN</td>\n",
       "    </tr>\n",
       "    <tr>\n",
       "      <th>4</th>\n",
       "      <td>Llevar a cabo el proceso Legislativo</td>\n",
       "      <td>4.0</td>\n",
       "      <td>NaN</td>\n",
       "      <td>0</td>\n",
       "      <td>1400.0</td>\n",
       "      <td>Seguridad social</td>\n",
       "      <td>2016.0</td>\n",
       "      <td>NaN</td>\n",
       "      <td>NaN</td>\n",
       "      <td>NaN</td>\n",
       "      <td>...</td>\n",
       "      <td>100</td>\n",
       "      <td>H. C mara de Diputados</td>\n",
       "      <td>NaN</td>\n",
       "      <td>NaN</td>\n",
       "      <td>NaN</td>\n",
       "      <td>NaN</td>\n",
       "      <td>NaN</td>\n",
       "      <td>NaN</td>\n",
       "      <td>NaN</td>\n",
       "      <td>NaN</td>\n",
       "    </tr>\n",
       "  </tbody>\n",
       "</table>\n",
       "<p>5 rows × 68 columns</p>\n",
       "</div>"
      ],
      "text/plain": [
       "             ACTIVIDAD_INST_DESCRIPCION   AI  Actividad Institucional  \\\n",
       "0  Llevar a cabo el proceso Legislativo  4.0                      NaN   \n",
       "1  Llevar a cabo el proceso Legislativo  4.0                      NaN   \n",
       "2  Llevar a cabo el proceso Legislativo  4.0                      NaN   \n",
       "3  Llevar a cabo el proceso Legislativo  4.0                      NaN   \n",
       "4  Llevar a cabo el proceso Legislativo  4.0                      NaN   \n",
       "\n",
       "  CLAVE_CARTERA  CONCEPTO                               CONCEPTO_DESCRIPCION  \\\n",
       "0             0    6200.0                     Obra p£blica en bienes propios   \n",
       "1             0    1100.0  Remuneraciones al personal de car cter permanente   \n",
       "2             0    1200.0  Remuneraciones al personal de car cter transit...   \n",
       "3             0    1300.0            Remuneraciones adicionales y especiales   \n",
       "4             0    1400.0                                   Seguridad social   \n",
       "\n",
       "    Ciclo Clave de Cartera Descripción de Actividad Institucional  \\\n",
       "0  2016.0              NaN                                    NaN   \n",
       "1  2016.0              NaN                                    NaN   \n",
       "2  2016.0              NaN                                    NaN   \n",
       "3  2016.0              NaN                                    NaN   \n",
       "4  2016.0              NaN                                    NaN   \n",
       "\n",
       "  Descripción de Entidad Federativa     ...     UNIDAD  \\\n",
       "0                               NaN     ...        100   \n",
       "1                               NaN     ...        100   \n",
       "2                               NaN     ...        100   \n",
       "3                               NaN     ...        100   \n",
       "4                               NaN     ...        100   \n",
       "\n",
       "       UNIDAD_DESCRIPCION Unidad Responsable Unnamed: 24 Unnamed: 25  \\\n",
       "0  H. C mara de Diputados                NaN         NaN         NaN   \n",
       "1  H. C mara de Diputados                NaN         NaN         NaN   \n",
       "2  H. C mara de Diputados                NaN         NaN         NaN   \n",
       "3  H. C mara de Diputados                NaN         NaN         NaN   \n",
       "4  H. C mara de Diputados                NaN         NaN         NaN   \n",
       "\n",
       "  Unnamed: 26 Unnamed: 27 Unnamed: 28 Unnamed: 29 Unnamed: 30  \n",
       "0         NaN         NaN         NaN         NaN         NaN  \n",
       "1         NaN         NaN         NaN         NaN         NaN  \n",
       "2         NaN         NaN         NaN         NaN         NaN  \n",
       "3         NaN         NaN         NaN         NaN         NaN  \n",
       "4         NaN         NaN         NaN         NaN         NaN  \n",
       "\n",
       "[5 rows x 68 columns]"
      ]
     },
     "execution_count": 63,
     "metadata": {},
     "output_type": "execute_result"
    }
   ],
   "source": [
    "multi_year_pef.head()"
   ]
  },
  {
   "cell_type": "markdown",
   "metadata": {},
   "source": [
    "Compare that to one of the original files:"
   ]
  },
  {
   "cell_type": "code",
   "execution_count": 64,
   "metadata": {
    "collapsed": false
   },
   "outputs": [
    {
     "data": {
      "text/html": [
       "<div>\n",
       "<table border=\"1\" class=\"dataframe\">\n",
       "  <thead>\n",
       "    <tr style=\"text-align: right;\">\n",
       "      <th></th>\n",
       "      <th>Ciclo</th>\n",
       "      <th>Ramo</th>\n",
       "      <th>Descripción de Ramo</th>\n",
       "      <th>Unidad Responsable</th>\n",
       "      <th>Descripción de Unidad Responsable</th>\n",
       "      <th>Finalidad</th>\n",
       "      <th>Descripción de Finalidad</th>\n",
       "      <th>Función</th>\n",
       "      <th>Descripción de Función</th>\n",
       "      <th>Subfunción</th>\n",
       "      <th>...</th>\n",
       "      <th>Programa Presupuestario</th>\n",
       "      <th>Descripción de Programa Presupuestario</th>\n",
       "      <th>Objeto del Gasto</th>\n",
       "      <th>Descripción de Objeto del Gasto</th>\n",
       "      <th>Tipo de Gasto</th>\n",
       "      <th>Descripción de Tipo de Gasto</th>\n",
       "      <th>Fuente de Financiamiento</th>\n",
       "      <th>Descripción de Fuente de Financiamiento</th>\n",
       "      <th>Aprobado</th>\n",
       "      <th>Ejercido</th>\n",
       "    </tr>\n",
       "  </thead>\n",
       "  <tbody>\n",
       "    <tr>\n",
       "      <th>0</th>\n",
       "      <td>2010</td>\n",
       "      <td>1</td>\n",
       "      <td>Poder Legislativo</td>\n",
       "      <td>100</td>\n",
       "      <td>H. Cámara de Diputados</td>\n",
       "      <td>1</td>\n",
       "      <td>Gobierno</td>\n",
       "      <td>0</td>\n",
       "      <td>Legislación</td>\n",
       "      <td>1</td>\n",
       "      <td>...</td>\n",
       "      <td>27</td>\n",
       "      <td>Mantenimiento de Infraestructura</td>\n",
       "      <td>6108</td>\n",
       "      <td>Mantenimiento y rehabilitación de obras públicas</td>\n",
       "      <td>3</td>\n",
       "      <td>Gasto de obra pública</td>\n",
       "      <td>1</td>\n",
       "      <td>Recursos fiscales</td>\n",
       "      <td>17,642,688.0</td>\n",
       "      <td>12,766,210.0</td>\n",
       "    </tr>\n",
       "    <tr>\n",
       "      <th>1</th>\n",
       "      <td>2010</td>\n",
       "      <td>1</td>\n",
       "      <td>Poder Legislativo</td>\n",
       "      <td>100</td>\n",
       "      <td>H. Cámara de Diputados</td>\n",
       "      <td>1</td>\n",
       "      <td>Gobierno</td>\n",
       "      <td>0</td>\n",
       "      <td>Legislación</td>\n",
       "      <td>1</td>\n",
       "      <td>...</td>\n",
       "      <td>1</td>\n",
       "      <td>ACTIVIDADES DERIVADAS DEL TRABAJO LEGISLATIVO</td>\n",
       "      <td>1101</td>\n",
       "      <td>Dietas</td>\n",
       "      <td>1</td>\n",
       "      <td>Gasto corriente</td>\n",
       "      <td>1</td>\n",
       "      <td>Recursos fiscales</td>\n",
       "      <td>632,948,173.0</td>\n",
       "      <td>628,200,410.0</td>\n",
       "    </tr>\n",
       "    <tr>\n",
       "      <th>2</th>\n",
       "      <td>2010</td>\n",
       "      <td>1</td>\n",
       "      <td>Poder Legislativo</td>\n",
       "      <td>100</td>\n",
       "      <td>H. Cámara de Diputados</td>\n",
       "      <td>1</td>\n",
       "      <td>Gobierno</td>\n",
       "      <td>0</td>\n",
       "      <td>Legislación</td>\n",
       "      <td>1</td>\n",
       "      <td>...</td>\n",
       "      <td>1</td>\n",
       "      <td>ACTIVIDADES DERIVADAS DEL TRABAJO LEGISLATIVO</td>\n",
       "      <td>1103</td>\n",
       "      <td>Sueldos base</td>\n",
       "      <td>1</td>\n",
       "      <td>Gasto corriente</td>\n",
       "      <td>1</td>\n",
       "      <td>Recursos fiscales</td>\n",
       "      <td>230,694,288.0</td>\n",
       "      <td>259,828,444.0</td>\n",
       "    </tr>\n",
       "    <tr>\n",
       "      <th>3</th>\n",
       "      <td>2010</td>\n",
       "      <td>1</td>\n",
       "      <td>Poder Legislativo</td>\n",
       "      <td>100</td>\n",
       "      <td>H. Cámara de Diputados</td>\n",
       "      <td>1</td>\n",
       "      <td>Gobierno</td>\n",
       "      <td>0</td>\n",
       "      <td>Legislación</td>\n",
       "      <td>1</td>\n",
       "      <td>...</td>\n",
       "      <td>1</td>\n",
       "      <td>ACTIVIDADES DERIVADAS DEL TRABAJO LEGISLATIVO</td>\n",
       "      <td>1201</td>\n",
       "      <td>Honorarios</td>\n",
       "      <td>1</td>\n",
       "      <td>Gasto corriente</td>\n",
       "      <td>1</td>\n",
       "      <td>Recursos fiscales</td>\n",
       "      <td>399,765,592.0</td>\n",
       "      <td>559,746,856.0</td>\n",
       "    </tr>\n",
       "    <tr>\n",
       "      <th>4</th>\n",
       "      <td>2010</td>\n",
       "      <td>1</td>\n",
       "      <td>Poder Legislativo</td>\n",
       "      <td>100</td>\n",
       "      <td>H. Cámara de Diputados</td>\n",
       "      <td>1</td>\n",
       "      <td>Gobierno</td>\n",
       "      <td>0</td>\n",
       "      <td>Legislación</td>\n",
       "      <td>1</td>\n",
       "      <td>...</td>\n",
       "      <td>1</td>\n",
       "      <td>ACTIVIDADES DERIVADAS DEL TRABAJO LEGISLATIVO</td>\n",
       "      <td>1202</td>\n",
       "      <td>Sueldos base al personal eventual</td>\n",
       "      <td>1</td>\n",
       "      <td>Gasto corriente</td>\n",
       "      <td>1</td>\n",
       "      <td>Recursos fiscales</td>\n",
       "      <td>17,988,469.0</td>\n",
       "      <td>22,721,031.0</td>\n",
       "    </tr>\n",
       "  </tbody>\n",
       "</table>\n",
       "<p>5 rows × 25 columns</p>\n",
       "</div>"
      ],
      "text/plain": [
       "   Ciclo  Ramo Descripción de Ramo Unidad Responsable  \\\n",
       "0   2010     1   Poder Legislativo                100   \n",
       "1   2010     1   Poder Legislativo                100   \n",
       "2   2010     1   Poder Legislativo                100   \n",
       "3   2010     1   Poder Legislativo                100   \n",
       "4   2010     1   Poder Legislativo                100   \n",
       "\n",
       "  Descripción de Unidad Responsable  Finalidad Descripción de Finalidad  \\\n",
       "0            H. Cámara de Diputados          1                 Gobierno   \n",
       "1            H. Cámara de Diputados          1                 Gobierno   \n",
       "2            H. Cámara de Diputados          1                 Gobierno   \n",
       "3            H. Cámara de Diputados          1                 Gobierno   \n",
       "4            H. Cámara de Diputados          1                 Gobierno   \n",
       "\n",
       "   Función Descripción de Función  Subfunción       ...         \\\n",
       "0        0            Legislación           1       ...          \n",
       "1        0            Legislación           1       ...          \n",
       "2        0            Legislación           1       ...          \n",
       "3        0            Legislación           1       ...          \n",
       "4        0            Legislación           1       ...          \n",
       "\n",
       "  Programa Presupuestario         Descripción de Programa Presupuestario  \\\n",
       "0                      27               Mantenimiento de Infraestructura   \n",
       "1                       1  ACTIVIDADES DERIVADAS DEL TRABAJO LEGISLATIVO   \n",
       "2                       1  ACTIVIDADES DERIVADAS DEL TRABAJO LEGISLATIVO   \n",
       "3                       1  ACTIVIDADES DERIVADAS DEL TRABAJO LEGISLATIVO   \n",
       "4                       1  ACTIVIDADES DERIVADAS DEL TRABAJO LEGISLATIVO   \n",
       "\n",
       "  Objeto del Gasto                   Descripción de Objeto del Gasto  \\\n",
       "0             6108  Mantenimiento y rehabilitación de obras públicas   \n",
       "1             1101                                            Dietas   \n",
       "2             1103                                      Sueldos base   \n",
       "3             1201                                        Honorarios   \n",
       "4             1202                 Sueldos base al personal eventual   \n",
       "\n",
       "  Tipo de Gasto  Descripción de Tipo de Gasto Fuente de Financiamiento  \\\n",
       "0             3         Gasto de obra pública                        1   \n",
       "1             1               Gasto corriente                        1   \n",
       "2             1               Gasto corriente                        1   \n",
       "3             1               Gasto corriente                        1   \n",
       "4             1               Gasto corriente                        1   \n",
       "\n",
       "   Descripción de Fuente de Financiamiento         Aprobado         Ejercido  \n",
       "0                        Recursos fiscales    17,642,688.0     12,766,210.0   \n",
       "1                        Recursos fiscales   632,948,173.0    628,200,410.0   \n",
       "2                        Recursos fiscales   230,694,288.0    259,828,444.0   \n",
       "3                        Recursos fiscales   399,765,592.0    559,746,856.0   \n",
       "4                        Recursos fiscales    17,988,469.0     22,721,031.0   \n",
       "\n",
       "[5 rows x 25 columns]"
      ]
     },
     "execution_count": 64,
     "metadata": {},
     "output_type": "execute_result"
    }
   ],
   "source": [
    "cuenta_publica[2010].head()"
   ]
  },
  {
   "cell_type": "code",
   "execution_count": 56,
   "metadata": {
    "collapsed": false
   },
   "outputs": [
    {
     "data": {
      "text/plain": [
       "822115"
      ]
     },
     "execution_count": 56,
     "metadata": {},
     "output_type": "execute_result"
    }
   ],
   "source": [
    "len(multi_year_pef)"
   ]
  },
  {
   "cell_type": "code",
   "execution_count": 57,
   "metadata": {
    "collapsed": true
   },
   "outputs": [],
   "source": [
    "multi_year_pef.to_csv('pef_2008_to_2015.csv', index=False)"
   ]
  },
  {
   "cell_type": "code",
   "execution_count": 58,
   "metadata": {
    "collapsed": false
   },
   "outputs": [
    {
     "name": "stdout",
     "output_type": "stream",
     "text": [
      "total 3.4G\r\n",
      "-rw-rw-r-- 1 loic loic 607M Aug  4 10:47 cuenta_publica_2008_to_2015.csv\r\n",
      "-rwxr--r-- 1 loic loic  55M Aug  3 10:16 \u001b[0m\u001b[01;32mCuenta_Publica_2010.csv\u001b[0m*\r\n",
      "-rw-rw-r-- 1 loic loic 607M Aug  4 07:07 cuenta_publica_2010_to_2015.backup.csv\r\n",
      "-rw-rw-r-- 1 loic loic 607M Aug  3 20:30 cuenta_publica_2010_to_2015.csv\r\n",
      "-rwxr--r-- 1 loic loic  61M Aug  3 10:18 \u001b[01;32mCuenta_Publica_2011.csv\u001b[0m*\r\n",
      "-rwxr--r-- 1 loic loic 123M Aug  3 10:26 \u001b[01;32mCuenta_Publica_2012.csv\u001b[0m*\r\n",
      "-rwxr--r-- 1 loic loic 106M Aug  3 10:23 \u001b[01;32mCuenta_Publica_2013_RA.csv\u001b[0m*\r\n",
      "-rwxr--r-- 1 loic loic 120M Aug  3 10:26 \u001b[01;32mCuenta_Publica_2014_RA.csv\u001b[0m*\r\n",
      "-rwxr--r-- 1 loic loic 118M Aug  3 10:25 \u001b[01;32mCuenta_Publica_2015_GF.csv\u001b[0m*\r\n",
      "-rw-rw-r-- 1 loic loic  52K Aug  4 10:47 mexican_federal_budget_ingestion_preparation.ipynb\r\n",
      "-rwxr--r-- 1 loic loic  23M Aug  3 10:19 \u001b[01;32mPEF2008_AC01.csv\u001b[0m*\r\n",
      "-rw-rw-r-- 1 loic loic 345M Aug  4 07:07 pef_2008_to_2015.backup.csv\r\n",
      "-rw-rw-r-- 1 loic loic 345M Aug  4 10:48 pef_2008_to_2015.csv\r\n",
      "-rwxr--r-- 1 loic loic  27M Aug  3 10:21 \u001b[01;32mPEF2009_AC01.csv\u001b[0m*\r\n",
      "-rwxr--r-- 1 loic loic  16M Aug  3 10:21 \u001b[01;32mPEF2010_AC01.csv\u001b[0m*\r\n",
      "-rwxr--r-- 1 loic loic  17M Aug  3 10:22 \u001b[01;32mPEF2011_AC01.csv\u001b[0m*\r\n",
      "-rwxr--r-- 1 loic loic  16M Aug  3 10:22 \u001b[01;32mPEF2012_AC01.csv\u001b[0m*\r\n",
      "-rwxr--r-- 1 loic loic  16M Aug  3 10:25 \u001b[01;32mPEF2013_AC01.csv\u001b[0m*\r\n",
      "-rwxr--r-- 1 loic loic  43M Aug  3 10:30 \u001b[01;32mPEF2014_AC01.csv\u001b[0m*\r\n",
      "-rwxr--r-- 1 loic loic 108M Aug  3 10:36 \u001b[01;32mPEF2015_AC01.csv\u001b[0m*\r\n",
      "-rwxr--r-- 1 loic loic  33M Aug  3 10:31 \u001b[01;32mPEF2016_AC01.csv\u001b[0m*\r\n",
      "-rw-rw-r-- 1 loic loic  122 Aug  3 21:12 README.md\r\n"
     ]
    }
   ],
   "source": [
    "ls -lh"
   ]
  },
  {
   "cell_type": "markdown",
   "metadata": {},
   "source": [
    "345 MB"
   ]
  },
  {
   "cell_type": "markdown",
   "metadata": {
    "collapsed": true
   },
   "source": [
    "## Quality assurance\n",
    "Take 1000 lines random sample for both files."
   ]
  },
  {
   "cell_type": "code",
   "execution_count": 59,
   "metadata": {
    "collapsed": true
   },
   "outputs": [],
   "source": [
    "multi_year_cp.sample(n=1000).to_csv('cuenta_publica_2010_to_2015.sample.csv', index=False)\n",
    "multi_year_pef.sample(n=1000).to_csv('pef_2008_to_2015.sample.csv', index=False)"
   ]
  },
  {
   "cell_type": "code",
   "execution_count": 60,
   "metadata": {
    "collapsed": false
   },
   "outputs": [
    {
     "name": "stdout",
     "output_type": "stream",
     "text": [
      "total 3.4G\r\n",
      "-rw-rw-r-- 1 loic loic 607M Aug  4 10:47 cuenta_publica_2008_to_2015.csv\r\n",
      "-rwxr--r-- 1 loic loic  55M Aug  3 10:16 \u001b[0m\u001b[01;32mCuenta_Publica_2010.csv\u001b[0m*\r\n",
      "-rw-rw-r-- 1 loic loic 607M Aug  4 07:07 cuenta_publica_2010_to_2015.backup.csv\r\n",
      "-rw-rw-r-- 1 loic loic 607M Aug  3 20:30 cuenta_publica_2010_to_2015.csv\r\n",
      "-rw-rw-r-- 1 loic loic 499K Aug  4 10:48 cuenta_publica_2010_to_2015.sample.csv\r\n",
      "-rwxr--r-- 1 loic loic  61M Aug  3 10:18 \u001b[01;32mCuenta_Publica_2011.csv\u001b[0m*\r\n",
      "-rwxr--r-- 1 loic loic 123M Aug  3 10:26 \u001b[01;32mCuenta_Publica_2012.csv\u001b[0m*\r\n",
      "-rwxr--r-- 1 loic loic 106M Aug  3 10:23 \u001b[01;32mCuenta_Publica_2013_RA.csv\u001b[0m*\r\n",
      "-rwxr--r-- 1 loic loic 120M Aug  3 10:26 \u001b[01;32mCuenta_Publica_2014_RA.csv\u001b[0m*\r\n",
      "-rwxr--r-- 1 loic loic 118M Aug  3 10:25 \u001b[01;32mCuenta_Publica_2015_GF.csv\u001b[0m*\r\n",
      "-rw-rw-r-- 1 loic loic  52K Aug  4 10:47 mexican_federal_budget_ingestion_preparation.ipynb\r\n",
      "-rwxr--r-- 1 loic loic  23M Aug  3 10:19 \u001b[01;32mPEF2008_AC01.csv\u001b[0m*\r\n",
      "-rw-rw-r-- 1 loic loic 345M Aug  4 07:07 pef_2008_to_2015.backup.csv\r\n",
      "-rw-rw-r-- 1 loic loic 345M Aug  4 10:48 pef_2008_to_2015.csv\r\n",
      "-rw-rw-r-- 1 loic loic 423K Aug  4 10:48 pef_2008_to_2015.sample.csv\r\n",
      "-rwxr--r-- 1 loic loic  27M Aug  3 10:21 \u001b[01;32mPEF2009_AC01.csv\u001b[0m*\r\n",
      "-rwxr--r-- 1 loic loic  16M Aug  3 10:21 \u001b[01;32mPEF2010_AC01.csv\u001b[0m*\r\n",
      "-rwxr--r-- 1 loic loic  17M Aug  3 10:22 \u001b[01;32mPEF2011_AC01.csv\u001b[0m*\r\n",
      "-rwxr--r-- 1 loic loic  16M Aug  3 10:22 \u001b[01;32mPEF2012_AC01.csv\u001b[0m*\r\n",
      "-rwxr--r-- 1 loic loic  16M Aug  3 10:25 \u001b[01;32mPEF2013_AC01.csv\u001b[0m*\r\n",
      "-rwxr--r-- 1 loic loic  43M Aug  3 10:30 \u001b[01;32mPEF2014_AC01.csv\u001b[0m*\r\n",
      "-rwxr--r-- 1 loic loic 108M Aug  3 10:36 \u001b[01;32mPEF2015_AC01.csv\u001b[0m*\r\n",
      "-rwxr--r-- 1 loic loic  33M Aug  3 10:31 \u001b[01;32mPEF2016_AC01.csv\u001b[0m*\r\n",
      "-rw-rw-r-- 1 loic loic  122 Aug  3 21:12 README.md\r\n"
     ]
    }
   ],
   "source": [
    "ls -lh"
   ]
  },
  {
   "cell_type": "code",
   "execution_count": null,
   "metadata": {
    "collapsed": true
   },
   "outputs": [],
   "source": []
  }
 ],
 "metadata": {
  "kernelspec": {
   "display_name": "Python 3",
   "language": "python",
   "name": "python3"
  },
  "language_info": {
   "codemirror_mode": {
    "name": "ipython",
    "version": 3
   },
   "file_extension": ".py",
   "mimetype": "text/x-python",
   "name": "python",
   "nbconvert_exporter": "python",
   "pygments_lexer": "ipython3",
   "version": "3.5.1+"
  }
 },
 "nbformat": 4,
 "nbformat_minor": 0
}
